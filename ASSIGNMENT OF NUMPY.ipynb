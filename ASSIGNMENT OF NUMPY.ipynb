{
 "cells": [
  {
   "cell_type": "markdown",
   "id": "fb056f52",
   "metadata": {},
   "source": [
    "<h1 style=\"background-color:Tomato;\">1. List some of the built-in functions of the math module.</h1>"
   ]
  },
  {
   "cell_type": "markdown",
   "id": "ea4b0cc0",
   "metadata": {},
   "source": [
    "<p style=\"background-color:DodgerBlue;\">\"In Python, you can import the math module to perform mathematical functions. To import the math module, use the following syntax: import math This will allow you to access the various mathematical functions available within the math module. Use these functions to calculate values such as average, mode, greatest common denominator, and more.</p>"
   ]
  },
  {
   "cell_type": "markdown",
   "id": "2d612937",
   "metadata": {},
   "source": [
    "<p style=\"color:DodgerBlue;\">\"Python Math Functions ===>\n",
    "    sum(),\n",
    "    statistics.median() ,\n",
    "    math.gcd() ,\n",
    "    logisticmath.exp() ,\n",
    "    statistics.mean() ,\n",
    "    math.sqrt() ,\n",
    "    pow() ,\n",
    "    math.factorial(),\n",
    "    statistics.mode() ,\n",
    "    avg = (),\n",
    "    ceil() ,\n",
    "    math.log() ,\n",
    "    math.prod() ,\n",
    "    math.dist(),\n",
    "    floor(),\n",
    "    math.sin(),\n",
    "    math.cos(),\n",
    "    math.tan() ,\n",
    "    math.asin(),\n",
    "    math.acos(),\n",
    "    math.atan()\"</p>"
   ]
  },
  {
   "cell_type": "markdown",
   "id": "1988bded",
   "metadata": {},
   "source": [
    "<h1 style=\"background-color:Tomato;\">2. How is the random module used in Python?</h1>"
   ]
  },
  {
   "cell_type": "markdown",
   "id": "590cd724",
   "metadata": {},
   "source": [
    "<p style=\"background-color:DodgerBlue;\">Python Random module is an in-built module of Python that is used to generate random numbers in Python. These are pseudo-random numbers means they are not truly random. This module can be used to perform random actions such as generating random numbers, printing random a value for a list or string, etc</p>"
   ]
  },
  {
   "cell_type": "code",
   "execution_count": 1,
   "id": "1373d1ae",
   "metadata": {},
   "outputs": [
    {
     "name": "stdout",
     "output_type": "stream",
     "text": [
      "4\n",
      "3\n",
      "2\n",
      "1\n"
     ]
    }
   ],
   "source": [
    "# import random\n",
    "import random\n",
    "\n",
    "# prints a random value from the list\n",
    "list1 = [1, 2, 3, 4, 5, 6]\n",
    "print(random.choice(list1))\n",
    "print(random.choice(list1))\n",
    "print(random.choice(list1))\n",
    "print(random.choice(list1))"
   ]
  },
  {
   "cell_type": "markdown",
   "id": "1fdedc88",
   "metadata": {},
   "source": [
    "<h1 style=\"background-color:Tomato;\">3. What are methods and functions in Python?</h1>"
   ]
  },
  {
   "cell_type": "markdown",
   "id": "d98eb354",
   "metadata": {},
   "source": [
    "<p style=\"background-color:DodgerBlue;\">In Python, methods and functions have similar purposes but differ in important ways. Functions are independent blocks of code that can be called from anywhere, while methods are tied to objects or classes and need an object or class instance to be invoked. \n",
    "    Functions promote code reusability, while methods offer behavior specific to objects. \n",
    "    Functions are called by name, while methods are accessed using dot notation. \n",
    "    </p>"
   ]
  },
  {
   "cell_type": "markdown",
   "id": "10c95e4a",
   "metadata": {},
   "source": [
    "<p style=\"background-color:MediumSeaGreen;\">A function is a block of code (or statement) that performs a specific task and runs only when it is called. There are mainly two types of functions in Python.\n",
    "Types of Functions:\n",
    "\n",
    "Built-in Function: Built-in functions are the pre-defined function in Python that can be directly used.\n",
    "\n",
    "    \n",
    "User-Defined Function: They are not pre-defined functions. The user creates their own function to fulfill their specific needs.</p>"
   ]
  },
  {
   "cell_type": "markdown",
   "id": "bb2a7632",
   "metadata": {},
   "source": [
    "# def function_name(arguments):\n",
    "\n",
    "# functions logics\n",
    "\n",
    "# return values"
   ]
  },
  {
   "cell_type": "code",
   "execution_count": 6,
   "id": "41939852",
   "metadata": {},
   "outputs": [
    {
     "name": "stdout",
     "output_type": "stream",
     "text": [
      "Enter input number : 4\n",
      "The factorial of 4 is 24\n",
      "Enter input number : 5\n",
      "The factorial of 5 is 120\n"
     ]
    }
   ],
   "source": [
    "#Define a function\n",
    "def factorial(n):\n",
    "    return 1 if (n==1 or n==0) else n * factorial(n-1);\n",
    " \n",
    "#Enter input\n",
    "n = int(input(\"Enter input number : \"))\n",
    " \n",
    "print(\"The factorial of\",n,\"is\",factorial(n))\n",
    "\n",
    "n = int(input(\"Enter input number : \"))\n",
    " \n",
    "print(\"The factorial of\",n,\"is\",factorial(n))"
   ]
  },
  {
   "cell_type": "markdown",
   "id": "24c32d67",
   "metadata": {},
   "source": [
    "<p style=\"background-color:MediumSeaGreen;\">As Python is an Object-Oriented Programming language, so it contains objects, and these objects have different properties and behavior. Methods in Python are used to define the behavior of the python objects.\n",
    "\n",
    "It facilitates code reusability by creating various methods or functions in the program.\n",
    "It also improves readability and accessibility to a particular code block.\n",
    "Methods creation makes it easy to debug for the programmers.</p>"
   ]
  },
  {
   "cell_type": "markdown",
   "id": "53455b9c",
   "metadata": {},
   "source": [
    "<p style=\"background-color:MediumSeaGreen;\">Types of Methods in Python:\n",
    "1.Instance Method\n",
    "2.Class Method\n",
    "3.Static Method</p>"
   ]
  },
  {
   "cell_type": "markdown",
   "id": "215a6abf",
   "metadata": {},
   "source": [
    "## SYNTAX:\n",
    "\n",
    "## class ClassName:\n",
    "##    def method_name():\n",
    "      …………..\n",
    "##       Method_body\n",
    "      ………………\n"
   ]
  },
  {
   "cell_type": "code",
   "execution_count": 8,
   "id": "2eaff765",
   "metadata": {},
   "outputs": [
    {
     "name": "stdout",
     "output_type": "stream",
     "text": [
      "I am NAVEEN\n"
     ]
    }
   ],
   "source": [
    "class Employee(object):\n",
    "    def my_method(self):\n",
    "        print(\"I am NAVEEN\")\n",
    "name = Employee()\n",
    "name.my_method()"
   ]
  },
  {
   "cell_type": "markdown",
   "id": "4dce0204",
   "metadata": {},
   "source": [
    "<p style=\"background-color:DodgerBlue;\">Key Difference Between Methods and Function:\n",
    "    \n",
    "Method definition is always present inside the class, while the class is not required to define the function.\n",
    "Functions can have a zero parameter, whereas the method should have a default parameter, either self or cls, to get the object.\n",
    "The method operates the data in the class, while a function is used to return or pass the data.\n",
    "A function can be directly called by its name, while a method can’t be called by its name.\n",
    "The method lies under Object-Oriented Programming, while a function is an independent functionality.</p>"
   ]
  },
  {
   "cell_type": "markdown",
   "id": "3af9302d",
   "metadata": {},
   "source": [
    "<h1 style=\"background-color:Tomato;\">4. Explain the concept of exception handling in Python.</h1>\n"
   ]
  },
  {
   "cell_type": "markdown",
   "id": "0dcfd9c7",
   "metadata": {},
   "source": [
    "<p style=\"background-color:DodgerBlue;\">The cause of an exception is often external to the program itself. For example, an incorrect input, a malfunctioning IO device etc. Because the program abruptly terminates on encountering an exception, it may cause damage to system resources, such as files. Hence, the exceptions should be properly handled so that an abrupt termination of the program is prevented.</p>"
   ]
  },
  {
   "cell_type": "markdown",
   "id": "c4b69c19",
   "metadata": {},
   "source": [
    "<p style=\"background-color:MediumSeaGreen;\">Python uses try and except keywords to handle exceptions. Both keywords are followed by indented blocks.</p>"
   ]
  },
  {
   "cell_type": "markdown",
   "id": "98690f57",
   "metadata": {},
   "source": [
    "<p style=\"background-color:DodgerBlue;\">The try: block contains one or more statements which are likely to encounter an exception. If the statements in this block are executed without an exception, the subsequent except: block is skipped.\n",
    "\n",
    "If the exception does occur, the program flow is transferred to the except: block. The statements in the except: block are meant to handle the cause of the exception appropriately. For example, returning an appropriate error message.\n",
    "\n",
    "You can specify the type of exception after the except keyword. The subsequent block will be executed only if the specified exception occurs. There may be multiple except clauses with different exception types in a single try block. If the type of exception doesn't match any of the except blocks, it will remain unhandled and the program will terminate.\n",
    "\n",
    "The rest of the statements after the except block will continue to be executed, regardless if the exception is encountered or not.\n",
    "\n",
    "The following example will throw an exception when we try to divide an integer by a string.</p>"
   ]
  },
  {
   "cell_type": "code",
   "execution_count": 24,
   "id": "c640872f",
   "metadata": {},
   "outputs": [
    {
     "name": "stdout",
     "output_type": "stream",
     "text": [
      "Some error occurred.\n",
      "Out of try except blocks.\n"
     ]
    }
   ],
   "source": [
    "try:\n",
    "    a=5\n",
    "    b='0'\n",
    "    print(a/b)\n",
    "except:\n",
    "    print('Some error occurred.')\n",
    "print(\"Out of try except blocks.\")"
   ]
  },
  {
   "cell_type": "markdown",
   "id": "43da8ec2",
   "metadata": {},
   "source": [
    "<p style=\"background-color:MediumSeaGreen;\">You can mention a specific type of exception in front of the except keyword. The subsequent block will be executed only if the specified exception occurs. There may be multiple except clauses with different exception types in a single try block. If the type of exception doesn't match any of the except blocks, it will remain unhandled and the program will terminate.</p>"
   ]
  },
  {
   "cell_type": "markdown",
   "id": "b197ce91",
   "metadata": {},
   "source": [
    "## Example: Catch Specific Error Type"
   ]
  },
  {
   "cell_type": "code",
   "execution_count": 4,
   "id": "f64348e6",
   "metadata": {},
   "outputs": [
    {
     "name": "stdout",
     "output_type": "stream",
     "text": [
      "TypeError Occurred\n",
      "Out of try except blocks\n"
     ]
    }
   ],
   "source": [
    "try:\n",
    "    a=5\n",
    "    b='0'\n",
    "    print(a+b)\n",
    "except TypeError:\n",
    "    print('TypeError Occurred')\n",
    "except:\n",
    "    print('Some error occurred.')  \n",
    "print (\"Out of try except blocks\")"
   ]
  },
  {
   "cell_type": "markdown",
   "id": "ee7b5505",
   "metadata": {},
   "source": [
    "<p style=\"background-color:MediumSeaGreen;\">The default except: block must come after all the except block that catch specific errors; otherwise Python will raise an error.</p>\n"
   ]
  },
  {
   "cell_type": "markdown",
   "id": "ea4c0a05",
   "metadata": {},
   "source": [
    "## Example: Default except : Block"
   ]
  },
  {
   "cell_type": "code",
   "execution_count": 6,
   "id": "a0087394",
   "metadata": {},
   "outputs": [
    {
     "ename": "SyntaxError",
     "evalue": "default 'except:' must be last (1427793681.py, line 5)",
     "output_type": "error",
     "traceback": [
      "\u001b[1;36m  Cell \u001b[1;32mIn[6], line 5\u001b[1;36m\u001b[0m\n\u001b[1;33m    except:\u001b[0m\n\u001b[1;37m    ^\u001b[0m\n\u001b[1;31mSyntaxError\u001b[0m\u001b[1;31m:\u001b[0m default 'except:' must be last\n"
     ]
    }
   ],
   "source": [
    "try:\n",
    "    a=5\n",
    "    b='0'\n",
    "    print(a+b)\n",
    "except:\n",
    "    print('Some error occurred.')  #except: before other blocks\n",
    "except TypeError:\n",
    "    print('TypeError Occurred')\n",
    "print (\"Out of try except blocks\")"
   ]
  },
  {
   "cell_type": "markdown",
   "id": "8efdef73",
   "metadata": {},
   "source": [
    "<p style=\"background-color:DodgerBlue;\">As mentioned above, a single try block may have multiple except blocks. The following example uses two except blocks to process two different exception types:</p>"
   ]
  },
  {
   "cell_type": "markdown",
   "id": "2ab70d69",
   "metadata": {},
   "source": [
    "## Example: MULTIPLE EXCEPT BLOCKS"
   ]
  },
  {
   "cell_type": "code",
   "execution_count": 7,
   "id": "a628416e",
   "metadata": {},
   "outputs": [
    {
     "name": "stdout",
     "output_type": "stream",
     "text": [
      "Division by zero not allowed\n",
      "Out of try except blocks\n"
     ]
    }
   ],
   "source": [
    "try:\n",
    "    a=5\n",
    "    b=0\n",
    "    print (a/b)\n",
    "except TypeError:\n",
    "    print('Unsupported operation')\n",
    "except ZeroDivisionError:\n",
    "    print ('Division by zero not allowed')\n",
    "except:\n",
    "    print('Some error occurred.')\n",
    "print ('Out of try except blocks')"
   ]
  },
  {
   "cell_type": "markdown",
   "id": "b927ba83",
   "metadata": {},
   "source": [
    "<p style=\"background-color:MediumSeaGreen;\">However, if variable b is set to \"0\", TypeError will be encountered and processed by corresponding except block.</p>"
   ]
  },
  {
   "cell_type": "code",
   "execution_count": 15,
   "id": "86ce798c",
   "metadata": {},
   "outputs": [
    {
     "name": "stdout",
     "output_type": "stream",
     "text": [
      "Unsupported operation\n",
      "Out of try except block\n"
     ]
    }
   ],
   "source": [
    "try:\n",
    "    a=5\n",
    "    b=\"0\"\n",
    "    print (a/b)\n",
    "except TypeError:\n",
    "    print('Unsupported operation')\n",
    "except ZeroDivisionError:\n",
    "    print ('Division by zero not allowed')\n",
    "except:\n",
    "    print('Some error occurred.')\n",
    "print ('Out of try except block')"
   ]
  },
  {
   "cell_type": "markdown",
   "id": "b4aba783",
   "metadata": {},
   "source": [
    "<h1 style=\"background-color:Tomato;\">5. How can you print multiple lines of \"Hello World\" using print statements?</h1>"
   ]
  },
  {
   "cell_type": "code",
   "execution_count": 2,
   "id": "4b050b77",
   "metadata": {},
   "outputs": [
    {
     "name": "stdout",
     "output_type": "stream",
     "text": [
      "H\n",
      "e\n",
      "l\n",
      "l\n",
      "o\n",
      " \n",
      "W\n",
      "o\n",
      "r\n",
      "l\n",
      "d\n"
     ]
    }
   ],
   "source": [
    "for i in \"Hello World\":\n",
    "    print(i)"
   ]
  },
  {
   "cell_type": "code",
   "execution_count": 22,
   "id": "21de7e00",
   "metadata": {},
   "outputs": [
    {
     "name": "stdout",
     "output_type": "stream",
     "text": [
      "Hello \n",
      "World\n"
     ]
    }
   ],
   "source": [
    "print(\"Hello \\nWorld\")"
   ]
  },
  {
   "cell_type": "markdown",
   "id": "38b9e72c",
   "metadata": {},
   "source": [
    "# Using triple quotes enables us to print multiple lines in one statement:"
   ]
  },
  {
   "cell_type": "code",
   "execution_count": 17,
   "id": "2ac6751b",
   "metadata": {},
   "outputs": [
    {
     "name": "stdout",
     "output_type": "stream",
     "text": [
      "\n",
      "Hello world\n",
      "Hello World\n",
      "Hello World\n",
      "Hello world\n",
      "Hello World\n",
      "Hello World\n",
      "\n"
     ]
    }
   ],
   "source": [
    "print('''\n",
    "Hello world\n",
    "Hello World\n",
    "Hello World\n",
    "Hello world\n",
    "Hello World\n",
    "Hello World\n",
    "''')"
   ]
  },
  {
   "cell_type": "markdown",
   "id": "aae118b2",
   "metadata": {},
   "source": [
    "<p style=\"color:DodgerBlue;\">Note: the triple quote must be made by three single quotes rather than a single quote and a double quote.</p>"
   ]
  },
  {
   "cell_type": "code",
   "execution_count": 21,
   "id": "c5d01bed",
   "metadata": {},
   "outputs": [
    {
     "name": "stdout",
     "output_type": "stream",
     "text": [
      "Hello World\n",
      "Hello World\n",
      "Hello World\n",
      "Hello World\n",
      "Hello World\n"
     ]
    }
   ],
   "source": [
    "for i in range(0,5):\n",
    "    print(\"Hello World\")"
   ]
  },
  {
   "cell_type": "markdown",
   "id": "8b110b86",
   "metadata": {},
   "source": [
    "<h1 style=\"background-color:Tomato;\">6. What error occurs when you try to divide a number by zero (4/0)?</h1>\n"
   ]
  },
  {
   "cell_type": "markdown",
   "id": "0fcd3c2d",
   "metadata": {},
   "source": [
    "<p style=\"background-color:DodgerBlue;\">ZERO DIVISION ERROR WILL OCCUR if we try to divide a number by zero. Because integers are not divisible by zero in arithmetic.</p>"
   ]
  },
  {
   "cell_type": "code",
   "execution_count": 25,
   "id": "0dcaf65f",
   "metadata": {},
   "outputs": [
    {
     "ename": "ZeroDivisionError",
     "evalue": "division by zero",
     "output_type": "error",
     "traceback": [
      "\u001b[1;31m---------------------------------------------------------------------------\u001b[0m",
      "\u001b[1;31mZeroDivisionError\u001b[0m                         Traceback (most recent call last)",
      "Cell \u001b[1;32mIn[25], line 2\u001b[0m\n\u001b[0;32m      1\u001b[0m a\u001b[38;5;241m=\u001b[39m\u001b[38;5;241m4\u001b[39m\n\u001b[1;32m----> 2\u001b[0m \u001b[38;5;28mprint\u001b[39m(a\u001b[38;5;241m/\u001b[39m\u001b[38;5;241m0\u001b[39m)\n",
      "\u001b[1;31mZeroDivisionError\u001b[0m: division by zero"
     ]
    }
   ],
   "source": [
    "a=4\n",
    "print(a/0)"
   ]
  },
  {
   "cell_type": "markdown",
   "id": "087bb1c4",
   "metadata": {},
   "source": [
    "<h1 style=\"background-color:Tomato;\">7. How can you handle the division by zero error using a try-except block?</h1>\n"
   ]
  },
  {
   "cell_type": "markdown",
   "id": "7c296a91",
   "metadata": {},
   "source": [
    "## Following example shows how to handle the Zero Division Error using try-except block:"
   ]
  },
  {
   "cell_type": "code",
   "execution_count": 26,
   "id": "181935d6",
   "metadata": {},
   "outputs": [
    {
     "name": "stdout",
     "output_type": "stream",
     "text": [
      "Division by zero not allowed\n"
     ]
    }
   ],
   "source": [
    "try:\n",
    "    a=5\n",
    "    b=0\n",
    "    print (a/b)\n",
    "except ZeroDivisionError:\n",
    "    print ('Division by zero not allowed')"
   ]
  },
  {
   "cell_type": "markdown",
   "id": "efbe8738",
   "metadata": {},
   "source": [
    "<h1 style=\"background-color:Tomato;\">8. Explain the purpose of the SyntaxError and provide an example.</h1>"
   ]
  },
  {
   "cell_type": "markdown",
   "id": "aff32e68",
   "metadata": {},
   "source": [
    "<p style=\"background-color:DodgerBlue;\">Python can only execute a program if the program is syntactically correct; otherwise, the process fails and returns an error message. Syntax refers to the structure of a program and the rules about that structure. For example, in English, a sentence must begin with a capital letter and end with a period. this sentence contains a syntax error. So does this one\n",
    "\n",
    "In Python, rules of syntax include requirements like these: strings must be enclosed in quotes; statements must generally be written one per line; the print statement must enclose the value to be displayed in parenthesis; expressions must be correctly formed. The following lines contain syntax errors:</p>"
   ]
  },
  {
   "cell_type": "code",
   "execution_count": 27,
   "id": "9a19e63a",
   "metadata": {},
   "outputs": [
    {
     "ename": "SyntaxError",
     "evalue": "invalid syntax (753212092.py, line 1)",
     "output_type": "error",
     "traceback": [
      "\u001b[1;36m  Cell \u001b[1;32mIn[27], line 1\u001b[1;36m\u001b[0m\n\u001b[1;33m    print(Hello, world!)\u001b[0m\n\u001b[1;37m                      ^\u001b[0m\n\u001b[1;31mSyntaxError\u001b[0m\u001b[1;31m:\u001b[0m invalid syntax\n"
     ]
    }
   ],
   "source": [
    "print(Hello, world!)\n",
    "print \"Hello, world!\"\n",
    "print(5 + )"
   ]
  },
  {
   "cell_type": "markdown",
   "id": "02a2cd5d",
   "metadata": {},
   "source": [
    "<p style=\"background-color:DodgerBlue;\">For most readers of English, a few syntax errors are not a significant problem, which is why we can read without problems. Python is not so forgiving. When you run a Python program, the interpreter checks it for syntax errors before beginning to execute the first statement. If there is a single syntax error anywhere in your program, Python will display an error message and quit without executing any of the program.\n",
    "\n",
    "</p>"
   ]
  },
  {
   "cell_type": "markdown",
   "id": "767e8fa4",
   "metadata": {},
   "source": [
    "<p style=\"background-color:MediumSeaGreen;\">To see a syntax error in action, look at the following program. Can you spot the error? After locating the error, run the program to see the error message.</p>"
   ]
  },
  {
   "cell_type": "code",
   "execution_count": 28,
   "id": "5c82a696",
   "metadata": {},
   "outputs": [
    {
     "ename": "SyntaxError",
     "evalue": "invalid syntax (3060403186.py, line 2)",
     "output_type": "error",
     "traceback": [
      "\u001b[1;36m  Cell \u001b[1;32mIn[28], line 2\u001b[1;36m\u001b[0m\n\u001b[1;33m    print(5 + )\u001b[0m\n\u001b[1;37m              ^\u001b[0m\n\u001b[1;31mSyntaxError\u001b[0m\u001b[1;31m:\u001b[0m invalid syntax\n"
     ]
    }
   ],
   "source": [
    "print(\"Hello, World!\")\n",
    "print(5 + )\n",
    "print(\"All finished!\")"
   ]
  },
  {
   "cell_type": "markdown",
   "id": "bda9b833",
   "metadata": {},
   "source": [
    "## Description:\n",
    "## This message indicates that Python can't figure out the syntax of a particular statement. Some examples are assigning to a literal, or a function call.\n",
    "\n",
    "# To Fix\n",
    "## Check your assignment statements and make sure that the left hand side of the assignment is a variable, not a literal or a function."
   ]
  },
  {
   "cell_type": "markdown",
   "id": "e029e22b",
   "metadata": {},
   "source": [
    "## Notice:"
   ]
  },
  {
   "cell_type": "markdown",
   "id": "a88e6aa9",
   "metadata": {},
   "source": [
    "<p style=\"background-color:MediumSeaGreen;\">The error message clearly indicates that the problem is a SyntaxError. This lets you know the problem is not one of the other types of errors.\n",
    "\n",
    "The error is on line 2 of the program. However, even though there is nothing wrong with line 1, the print statement does not execute — none of the program successfully executes because of the presence of just one syntax error.\n",
    "\n",
    "The error gives the line number where Python believes the error exists. In this case, the error message pinpoints the location correctly. But in other cases, the line number can be inaccurate or entirely missing.\n",
    "\n",
    "To see an example of the latter, try removing just the right parenthesis ) from line 2 and running the program again. Notice how the error message gives no line number at all. With syntax errors, you need to be prepared to hunt around a bit in order to locate the trouble.</p>"
   ]
  },
  {
   "cell_type": "code",
   "execution_count": 29,
   "id": "509a34a0",
   "metadata": {},
   "outputs": [
    {
     "ename": "SyntaxError",
     "evalue": "incomplete input (205612963.py, line 3)",
     "output_type": "error",
     "traceback": [
      "\u001b[1;36m  Cell \u001b[1;32mIn[29], line 3\u001b[1;36m\u001b[0m\n\u001b[1;33m    print(\"All finished!\")\u001b[0m\n\u001b[1;37m                          ^\u001b[0m\n\u001b[1;31mSyntaxError\u001b[0m\u001b[1;31m:\u001b[0m incomplete input\n"
     ]
    }
   ],
   "source": [
    "print(\"Hello, World!\")\n",
    "print(5 + \n",
    "print(\"All finished!\")"
   ]
  },
  {
   "cell_type": "markdown",
   "id": "35aada63",
   "metadata": {},
   "source": [
    "<p style=\"color:DodgerBlue;\">One aspect of syntax you have to watch out for in Python involves indentation. Python requires you to begin all statements at the beginning of the line, unless you are using a flow control statement like a for or an if statement. To see an example of this kind of problem, modify the program above by inserting a couple of spaces at the beginning of one of the lines.</p>"
   ]
  },
  {
   "cell_type": "code",
   "execution_count": 33,
   "id": "8f4fc420",
   "metadata": {},
   "outputs": [
    {
     "ename": "IndentationError",
     "evalue": "unexpected indent (2564732133.py, line 2)",
     "output_type": "error",
     "traceback": [
      "\u001b[1;36m  Cell \u001b[1;32mIn[33], line 2\u001b[1;36m\u001b[0m\n\u001b[1;33m    print(5 + 5)\u001b[0m\n\u001b[1;37m    ^\u001b[0m\n\u001b[1;31mIndentationError\u001b[0m\u001b[1;31m:\u001b[0m unexpected indent\n"
     ]
    }
   ],
   "source": [
    "print(\"Hello, World!\")\n",
    "    print(5 + 5)\n",
    "print(\"All finished!\")"
   ]
  },
  {
   "cell_type": "markdown",
   "id": "1c521e43",
   "metadata": {},
   "source": [
    "<h1 style=\"background-color:Tomato;\">9. How can you handle a ValueError in Python?</h1>"
   ]
  },
  {
   "cell_type": "markdown",
   "id": "2d4f0abf",
   "metadata": {},
   "source": [
    "<p style=\"border:2px solid DodgerBlue;\">The Python ValueError is an exception that occurs when a function receives an argument of the correct data type but an inappropriate value. This error usually occurs in mathematical operations that require a certain kind of value.</p>"
   ]
  },
  {
   "cell_type": "markdown",
   "id": "f1f4d1cd",
   "metadata": {},
   "source": [
    "## Python ValueError Example:\n",
    "\n",
    "### Here’s an example of a Python ValueError raised when trying to perform a square root operation on a negative number:"
   ]
  },
  {
   "cell_type": "code",
   "execution_count": 34,
   "id": "56d5b39d",
   "metadata": {},
   "outputs": [
    {
     "ename": "ValueError",
     "evalue": "math domain error",
     "output_type": "error",
     "traceback": [
      "\u001b[1;31m---------------------------------------------------------------------------\u001b[0m",
      "\u001b[1;31mValueError\u001b[0m                                Traceback (most recent call last)",
      "Cell \u001b[1;32mIn[34], line 3\u001b[0m\n\u001b[0;32m      1\u001b[0m \u001b[38;5;28;01mimport\u001b[39;00m \u001b[38;5;21;01mmath\u001b[39;00m\n\u001b[1;32m----> 3\u001b[0m math\u001b[38;5;241m.\u001b[39msqrt(\u001b[38;5;241m-\u001b[39m\u001b[38;5;241m100\u001b[39m)\n",
      "\u001b[1;31mValueError\u001b[0m: math domain error"
     ]
    }
   ],
   "source": [
    "import math\n",
    "\n",
    "math.sqrt(-100)"
   ]
  },
  {
   "cell_type": "markdown",
   "id": "046aa0f7",
   "metadata": {},
   "source": [
    "<p style=\"background-color:MediumSeaGreen;\">In the above example, a negative integer is passed to the math.sqrt() function. Since the function expects a positive integer, running the above code raises a ValueError</p>\n"
   ]
  },
  {
   "cell_type": "markdown",
   "id": "5704dcee",
   "metadata": {},
   "source": [
    "<p style=\"background-color:DodgerBlue;\">To resolve the ValueError in Python code, a try-except block can be used. The lines of code that can throw the ValueError should be placed in the try block, and the except block can catch and handle the error.\n",
    "\n",
    "Using the above approach, the previous example can be updated to handle the error:\n",
    "\n",
    "</p>"
   ]
  },
  {
   "cell_type": "markdown",
   "id": "427e84e2",
   "metadata": {},
   "source": [
    "<p style=\"background-color:MediumSeaGreen;\">Here, a check is performed for the ValueError using the try-except block. When the above code is executed, the except block catches the ValueError and handles it, producing the following output:</p>"
   ]
  },
  {
   "cell_type": "code",
   "execution_count": 35,
   "id": "1a7a6733",
   "metadata": {},
   "outputs": [
    {
     "name": "stdout",
     "output_type": "stream",
     "text": [
      "Positive number expected for square root operation\n"
     ]
    }
   ],
   "source": [
    "import math\n",
    "\n",
    "try:\n",
    "    math.sqrt(-100)\n",
    "except ValueError:\n",
    "    print('Positive number expected for square root operation')"
   ]
  },
  {
   "cell_type": "markdown",
   "id": "31462d12",
   "metadata": {},
   "source": [
    "<h1 style=\"background-color:Tomato;\">10. Provide an example of using multiple except blocks for different types of errors.</h1>"
   ]
  },
  {
   "cell_type": "code",
   "execution_count": 1,
   "id": "ec3d28a5",
   "metadata": {},
   "outputs": [
    {
     "name": "stdout",
     "output_type": "stream",
     "text": [
      "PLEASE ENTER FIRST VALUE: 1122\n",
      "PLEASE ENTER SECOND VALUE: 0\n",
      "Division by zero not allowed\n"
     ]
    }
   ],
   "source": [
    "try:\n",
    "    a=int(input(\"PLEASE ENTER FIRST VALUE: \"))\n",
    "    b=int(input(\"PLEASE ENTER SECOND VALUE: \"))\n",
    "    print (a/b)\n",
    "except TypeError:\n",
    "    print('Unsupported operation')\n",
    "except ZeroDivisionError:\n",
    "    print ('Division by zero not allowed')"
   ]
  },
  {
   "cell_type": "code",
   "execution_count": 40,
   "id": "6d05398a",
   "metadata": {},
   "outputs": [
    {
     "name": "stdout",
     "output_type": "stream",
     "text": [
      "PLEASE ENTER FIRST VALUE: 87\n",
      "PLEASE ENTER SECOND VALUE: BATCH\n",
      "Unsupported operation\n"
     ]
    }
   ],
   "source": [
    "try:\n",
    "    a=input(\"PLEASE ENTER FIRST VALUE: \")\n",
    "    b=input(\"PLEASE ENTER SECOND VALUE: \")\n",
    "    print (a/b)\n",
    "except TypeError:\n",
    "    print('Unsupported operation')\n",
    "except ZeroDivisionError:\n",
    "    print ('Division by zero not allowed')"
   ]
  },
  {
   "cell_type": "markdown",
   "id": "481d6ba3",
   "metadata": {},
   "source": [
    "<h1 style=\"background-color:Tomato;\">11. Describe a situation where you might use the finally block. </h1>\n"
   ]
  },
  {
   "cell_type": "markdown",
   "id": "3b6ba5fa",
   "metadata": {},
   "source": [
    "## Definition and Usage"
   ]
  },
  {
   "cell_type": "markdown",
   "id": "bcc90022",
   "metadata": {},
   "source": [
    "<p style=\"background-color:DodgerBlue;\">The finally code block is also a part of exception handling. When we handle exception using the try and except block, we can include a finally block at the end. The finally block is always executed, so it is generally used for doing the concluding tasks like closing file resources or closing database connection or may be ending the program execution with a delightful message.</p>"
   ]
  },
  {
   "cell_type": "markdown",
   "id": "915d411d",
   "metadata": {},
   "source": [
    "# finally block with/without Exception Handling"
   ]
  },
  {
   "cell_type": "markdown",
   "id": "ac61034d",
   "metadata": {},
   "source": [
    "## If in your code, the except block is unable to catch the exception and the exception message gets printed on the console, which interrupts code execution, still the finally block will get executed."
   ]
  },
  {
   "cell_type": "markdown",
   "id": "5b03f30c",
   "metadata": {},
   "source": [
    "## Let's take an example:"
   ]
  },
  {
   "cell_type": "code",
   "execution_count": null,
   "id": "3b07eec8",
   "metadata": {},
   "outputs": [],
   "source": [
    "try:\n",
    "    a = int(input(\"Enter numerator number: \"))\n",
    "    b = int(input(\"Enter denominator number: \"))\n",
    "    print(\"Result of Division: \" + str(a/b))\n",
    "# except block handling division by zero\n",
    "except(ZeroDivisionError):\n",
    "    print(\"You have divided a number by zero, which is not allowed.\")\n",
    "finally:\n",
    "    print(\"Code execution Wrap up!\")\n",
    "    \n",
    "# outside the try-except block\n",
    "print(\"Will this get printed?\")"
   ]
  },
  {
   "cell_type": "markdown",
   "id": "fedce79d",
   "metadata": {},
   "source": [
    "## Try to run the above code for two different values:\n",
    "\n",
    "### 1.Enter some integer value as numerator and provide 0 value for denominator.\n",
    "### Following will be the output:"
   ]
  },
  {
   "cell_type": "code",
   "execution_count": 2,
   "id": "4de87ae5",
   "metadata": {},
   "outputs": [
    {
     "name": "stdout",
     "output_type": "stream",
     "text": [
      "Enter numerator number: 87\n",
      "Enter denominator number: 0\n",
      "You have divided a number by zero, which is not allowed.\n",
      "Code execution Wrap up!\n",
      "Will this get printed?\n"
     ]
    }
   ],
   "source": [
    "try:\n",
    "    a = int(input(\"Enter numerator number: \"))\n",
    "    b = int(input(\"Enter denominator number: \"))\n",
    "    print(\"Result of Division: \" + str(a/b))\n",
    "\n",
    "except(ZeroDivisionError):\n",
    "    print(\"You have divided a number by zero, which is not allowed.\")\n",
    "finally:\n",
    "    print(\"Code execution Wrap up!\")\n",
    "    \n",
    "\n",
    "print(\"Will this get printed?\")"
   ]
  },
  {
   "cell_type": "markdown",
   "id": "363c6b22",
   "metadata": {},
   "source": [
    "## As we have handled the ZeroDivisionError exception class hence first the except block gets executed, then the finally block and then the rest of the code."
   ]
  },
  {
   "cell_type": "markdown",
   "id": "2b43eb69",
   "metadata": {},
   "source": [
    "### Now,take some integer value as numerator and provide some string value for denominator. Following will be the output:"
   ]
  },
  {
   "cell_type": "code",
   "execution_count": 3,
   "id": "be8ac6ae",
   "metadata": {},
   "outputs": [
    {
     "name": "stdout",
     "output_type": "stream",
     "text": [
      "Enter numerator number: 32\n",
      "Enter denominator number: \"N\"\n",
      "Code execution Wrap up!\n"
     ]
    },
    {
     "ename": "ValueError",
     "evalue": "invalid literal for int() with base 10: '\"N\"'",
     "output_type": "error",
     "traceback": [
      "\u001b[1;31m---------------------------------------------------------------------------\u001b[0m",
      "\u001b[1;31mValueError\u001b[0m                                Traceback (most recent call last)",
      "Cell \u001b[1;32mIn[3], line 3\u001b[0m\n\u001b[0;32m      1\u001b[0m \u001b[38;5;28;01mtry\u001b[39;00m:\n\u001b[0;32m      2\u001b[0m     a \u001b[38;5;241m=\u001b[39m \u001b[38;5;28mint\u001b[39m(\u001b[38;5;28minput\u001b[39m(\u001b[38;5;124m\"\u001b[39m\u001b[38;5;124mEnter numerator number: \u001b[39m\u001b[38;5;124m\"\u001b[39m))\n\u001b[1;32m----> 3\u001b[0m     b \u001b[38;5;241m=\u001b[39m \u001b[38;5;28mint\u001b[39m(\u001b[38;5;28minput\u001b[39m(\u001b[38;5;124m\"\u001b[39m\u001b[38;5;124mEnter denominator number: \u001b[39m\u001b[38;5;124m\"\u001b[39m))\n\u001b[0;32m      4\u001b[0m     \u001b[38;5;28mprint\u001b[39m(\u001b[38;5;124m\"\u001b[39m\u001b[38;5;124mResult of Division: \u001b[39m\u001b[38;5;124m\"\u001b[39m \u001b[38;5;241m+\u001b[39m \u001b[38;5;28mstr\u001b[39m(a\u001b[38;5;241m/\u001b[39mb))\n\u001b[0;32m      6\u001b[0m \u001b[38;5;28;01mexcept\u001b[39;00m(\u001b[38;5;167;01mZeroDivisionError\u001b[39;00m):\n",
      "\u001b[1;31mValueError\u001b[0m: invalid literal for int() with base 10: '\"N\"'"
     ]
    }
   ],
   "source": [
    "try:\n",
    "    a = int(input(\"Enter numerator number: \"))\n",
    "    b = int(input(\"Enter denominator number: \"))\n",
    "    print(\"Result of Division: \" + str(a/b))\n",
    "\n",
    "except(ZeroDivisionError):\n",
    "    print(\"You have divided a number by zero, which is not allowed.\")\n",
    "finally:\n",
    "    print(\"Code execution Wrap up!\")\n",
    "    \n",
    "\n",
    "print(\"Will this get printed?\")"
   ]
  },
  {
   "cell_type": "markdown",
   "id": "cf78f161",
   "metadata": {},
   "source": [
    "## As we have not handled the ValueError exception, hence our code will stop execution, exception will be thrown, but still the code in the finally block gets executed."
   ]
  },
  {
   "cell_type": "markdown",
   "id": "b21d6190",
   "metadata": {},
   "source": [
    "# Exception in except block"
   ]
  },
  {
   "cell_type": "markdown",
   "id": "0f2ff3e2",
   "metadata": {},
   "source": [
    "### We use the except block along with try block to handle exceptions, but what if an exception occurred inside the except block. Well the finally block will still get executed."
   ]
  },
  {
   "cell_type": "code",
   "execution_count": 4,
   "id": "80335017",
   "metadata": {},
   "outputs": [
    {
     "name": "stdout",
     "output_type": "stream",
     "text": [
      "Code execution Wrap up!\n"
     ]
    },
    {
     "ename": "ZeroDivisionError",
     "evalue": "division by zero",
     "output_type": "error",
     "traceback": [
      "\u001b[1;31m---------------------------------------------------------------------------\u001b[0m",
      "\u001b[1;31mZeroDivisionError\u001b[0m                         Traceback (most recent call last)",
      "Cell \u001b[1;32mIn[4], line 5\u001b[0m\n\u001b[0;32m      4\u001b[0m     b \u001b[38;5;241m=\u001b[39m \u001b[38;5;241m0\u001b[39m\n\u001b[1;32m----> 5\u001b[0m     \u001b[38;5;28mprint\u001b[39m(\u001b[38;5;124m\"\u001b[39m\u001b[38;5;124mResult of Division: \u001b[39m\u001b[38;5;124m\"\u001b[39m \u001b[38;5;241m+\u001b[39m \u001b[38;5;28mstr\u001b[39m(a\u001b[38;5;241m/\u001b[39mb))\n\u001b[0;32m      6\u001b[0m \u001b[38;5;66;03m# except block handling division by zero\u001b[39;00m\n",
      "\u001b[1;31mZeroDivisionError\u001b[0m: division by zero",
      "\nDuring handling of the above exception, another exception occurred:\n",
      "\u001b[1;31mZeroDivisionError\u001b[0m                         Traceback (most recent call last)",
      "Cell \u001b[1;32mIn[4], line 8\u001b[0m\n\u001b[0;32m      6\u001b[0m \u001b[38;5;66;03m# except block handling division by zero\u001b[39;00m\n\u001b[0;32m      7\u001b[0m \u001b[38;5;28;01mexcept\u001b[39;00m(\u001b[38;5;167;01mZeroDivisionError\u001b[39;00m):\n\u001b[1;32m----> 8\u001b[0m     \u001b[38;5;28mprint\u001b[39m(\u001b[38;5;124m\"\u001b[39m\u001b[38;5;124mResult of Division: \u001b[39m\u001b[38;5;124m\"\u001b[39m \u001b[38;5;241m+\u001b[39m \u001b[38;5;28mstr\u001b[39m(a\u001b[38;5;241m/\u001b[39mb))\n\u001b[0;32m      9\u001b[0m \u001b[38;5;28;01mfinally\u001b[39;00m:\n\u001b[0;32m     10\u001b[0m     \u001b[38;5;28mprint\u001b[39m(\u001b[38;5;124m\"\u001b[39m\u001b[38;5;124mCode execution Wrap up!\u001b[39m\u001b[38;5;124m\"\u001b[39m)\n",
      "\u001b[1;31mZeroDivisionError\u001b[0m: division by zero"
     ]
    }
   ],
   "source": [
    "# try block\n",
    "try:\n",
    "    a = 10\n",
    "    b = 0\n",
    "    print(\"Result of Division: \" + str(a/b))\n",
    "# except block handling division by zero\n",
    "except(ZeroDivisionError):\n",
    "    print(\"Result of Division: \" + str(a/b))\n",
    "finally:\n",
    "    print(\"Code execution Wrap up!\")"
   ]
  },
  {
   "cell_type": "markdown",
   "id": "5cb35d57",
   "metadata": {},
   "source": [
    "<p style=\"background-color:MediumSeaGreen;\">Clearly the finally block was the first to be printed on the console followed by the first exception message and then the second exception message.</p>"
   ]
  },
  {
   "cell_type": "markdown",
   "id": "66546ce2",
   "metadata": {},
   "source": [
    "<h1 style=\"background-color:Tomato;\">12. What is the purpose of the as keyword in the context of exceptions? </h1>\n"
   ]
  },
  {
   "cell_type": "markdown",
   "id": "9d03341f",
   "metadata": {},
   "source": [
    "<p style=\"border:2px solid DodgerBlue;\">To produce the default exception raised by any exception name, use as keyword to give the alias for the exception, and print the default exception error as shown in the program given below. But let's see the syntax first:</p>"
   ]
  },
  {
   "cell_type": "markdown",
   "id": "68c6e792",
   "metadata": {},
   "source": [
    "# except <exception_name> as <alias_name>"
   ]
  },
  {
   "cell_type": "markdown",
   "id": "6c5d9d33",
   "metadata": {},
   "source": [
    "<p style=\"color:DodgerBlue;\">For example:</p>"
   ]
  },
  {
   "cell_type": "code",
   "execution_count": 2,
   "id": "57ea82d2",
   "metadata": {},
   "outputs": [
    {
     "name": "stdout",
     "output_type": "stream",
     "text": [
      "There is an error occurred, while importing the Module \"maths\"\n",
      "The error is: No module named 'maths'\n"
     ]
    }
   ],
   "source": [
    "try:\n",
    "    import maths as m\n",
    "    print(\"The \\\"maths\\\" module is imported with \\\"m\\\" as its Duplicate Name.\")\n",
    "except ImportError as ie:\n",
    "    print(\"There is an error occurred, while importing the Module \\\"maths\\\"\")\n",
    "    print(\"The error is:\",ie)"
   ]
  },
  {
   "cell_type": "markdown",
   "id": "271ab224",
   "metadata": {},
   "source": [
    "<p style=\"color:MediumSeaGreen;\">Since there is no any module named maths available in Python. That's why it produces the output like that in the above program</p>"
   ]
  },
  {
   "cell_type": "markdown",
   "id": "b8b98526",
   "metadata": {},
   "source": [
    "<p style=\"color:DodgerBlue;\">Note - The math module is available in Python, not maths.</p"
   ]
  },
  {
   "cell_type": "markdown",
   "id": "e60f786a",
   "metadata": {},
   "source": [
    "<h1 style=\"background-color:Tomato;\"> 13. Explain the concept of multidimensional arrays in Python.</h1>\n"
   ]
  },
  {
   "cell_type": "markdown",
   "id": "643dd084",
   "metadata": {},
   "source": [
    "<h1 style=\"border:2px solid DodgerBlue;\">Multi-dimensional arrays, also known as matrices, are a powerful data structure in Python. They allow you to store and manipulate data in multiple dimensions or axes.</h1>"
   ]
  },
  {
   "cell_type": "markdown",
   "id": "f4e84fa4",
   "metadata": {},
   "source": [
    "<p style=\"border:2px solid DodgerBlue;\">You'll commonly use these types of arrays in fields such as mathematics, statistics, and computer science to represent and process structured data, such as images, videos, and scientific data.In Python, you can create multi-dimensional arrays using various libraries, such as NumPy, Pandas, and TensorFlow.Here , we will focus on NumPy, which is one of the most popular and widely used libraries for working with arrays in Python.NumPy provides a powerful N-dimensional array object that you can use to create and manipulate multi-dimensional arrays efficiently. We'll now look at some examples of how to create and work with multi-dimensional arrays in Python using NumPy.</p>"
   ]
  },
  {
   "cell_type": "markdown",
   "id": "214e1153",
   "metadata": {},
   "source": [
    "<h1 style=\"border:2px solid Violet;\">How to Create Multi-Dimensional Arrays Using NumPy</h1>"
   ]
  },
  {
   "cell_type": "markdown",
   "id": "77f3affd",
   "metadata": {},
   "source": [
    "<p style=\"border:2px solid Violet;\">To create a multi-dimensional array using NumPy, we can use the np.array() function and pass in a nested list of values as an argument. The outer list represents the rows of the array, and the inner lists represent the columns.\n",
    "    Here is an example of how to create a 2-dimensional array using NumPy:</p>"
   ]
  },
  {
   "cell_type": "code",
   "execution_count": 2,
   "id": "62d09a2d",
   "metadata": {},
   "outputs": [
    {
     "name": "stdout",
     "output_type": "stream",
     "text": [
      "[[ 1  2  3  4]\n",
      " [ 5  6  7  8]\n",
      " [ 9 10 11 12]]\n"
     ]
    }
   ],
   "source": [
    "import numpy as np\n",
    "\n",
    "# Create a 2-dimensional array with 3 rows and 4 columns\n",
    "arr = np.array([[1, 2, 3, 4], [5, 6, 7, 8], [9, 10, 11, 12]])\n",
    "\n",
    "# Print the array\n",
    "print(arr)"
   ]
  },
  {
   "cell_type": "markdown",
   "id": "4b77d64f",
   "metadata": {},
   "source": [
    "<h1 style=\"border:2px solid Violet;\">In this example, we first import the NumPy library using the import statement. Then, we create a 2-dimensional array using the np.array() function and pass in a list of lists as an argument. Each inner list represents a row of the array, and the outer list contains all the rows. Finally, we print the array using the print() function.\n",
    "    NumPy also provides other functions to create multi-dimensional arrays, such as np.zeros(), np.ones(), and np.random.rand(). You can use these functions to create arrays of specific shapes and sizes with default or random values.</h1>"
   ]
  },
  {
   "cell_type": "markdown",
   "id": "af28a579",
   "metadata": {},
   "source": [
    "<h1 style=\"border:2px solid DodgerBlue;\">How to Access and Modify Multi-dimensional Arrays Using NumPy</h1>"
   ]
  },
  {
   "cell_type": "markdown",
   "id": "b6260298",
   "metadata": {},
   "source": [
    "<p style=\"border:2px solid DodgerBlue;\">Once we have created a multi-dimensional array, we can access and modify its elements using indexing and slicing. We use the index notation [i, j] to access an element at row i and column j, where i and j are zero-based indices.\n",
    "    Here's an example of how to access and modify elements of a 2-dimensional array using NumPy:</p>"
   ]
  },
  {
   "cell_type": "code",
   "execution_count": 3,
   "id": "d0f38325",
   "metadata": {},
   "outputs": [
    {
     "name": "stdout",
     "output_type": "stream",
     "text": [
      "7\n",
      "[[ 1  2  3 20]\n",
      " [ 5  6  7  8]\n",
      " [ 9 10 11 12]]\n"
     ]
    }
   ],
   "source": [
    "import numpy as np\n",
    "\n",
    "# Create a 2-dimensional array with 3 rows and 4 columns\n",
    "arr = np.array([[1, 2, 3, 4], [5, 6, 7, 8], [9, 10, 11, 12]])\n",
    "\n",
    "# Access an element at row 1, column 2\n",
    "print(arr[1, 2])  # Output: 7\n",
    "\n",
    "# Modify an element at row 0, column 3\n",
    "arr[0, 3] = 20\n",
    "\n",
    "# Print the modified array\n",
    "print(arr)"
   ]
  },
  {
   "cell_type": "markdown",
   "id": "4eeef2b0",
   "metadata": {},
   "source": [
    "<p style=\"border:2px solid DodgerBlue;\">In this example, we create a 2-dimensional array using the np.array() function, and then access an element at row 1, column 2 using indexing. We then modify an element at row 0, column 3 using indexing again. Finally, we print the modified array using the print() function.\n",
    "    We can also use slicing to access and modify multiple elements of a multi-dimensional array at once. We use the slice notation arr[i:j, k:l] to access a subarray that contains rows i through j-1 and columns k through l-1.\n",
    "    \n",
    "    Here's an example of how to use slicing to access and modify elements of a 2-dimensional array using NumPy:</p>"
   ]
  },
  {
   "cell_type": "code",
   "execution_count": 4,
   "id": "db7556a4",
   "metadata": {},
   "outputs": [
    {
     "name": "stdout",
     "output_type": "stream",
     "text": [
      "[[2 3]\n",
      " [6 7]]\n",
      "[[ 1  4  6  4]\n",
      " [ 5 12 14  8]\n",
      " [ 9 10 11 12]]\n"
     ]
    }
   ],
   "source": [
    "import numpy as np\n",
    "\n",
    "# Create a 2-dimensional array with 3 rows and 4 columns\n",
    "arr = np.array([[1, 2, 3, 4], [5, 6, 7, 8], [9, 10, 11, 12]])\n",
    "\n",
    "# Access a subarray that contains rows 0 through 1 and columns 1 through 2\n",
    "subarr = arr[0:2, 1:3]\n",
    "\n",
    "# Print the subarray\n",
    "print(subarr)\n",
    "\n",
    "# Modify the subarray by multiplying it by 2\n",
    "subarr *= 2\n",
    "\n",
    "# Print the modified array\n",
    "print(arr)"
   ]
  },
  {
   "cell_type": "markdown",
   "id": "f4bc5ca2",
   "metadata": {},
   "source": [
    "<p style=\"border:2px solid DodgerBlue;\">In this example, we create a 2-dimensional array using the np.array() function, and then use slicing to access a subarray that contains rows 0 through 1 and columns 1 through 2. We then modify the subarray by multiplying it by 2, and print the modified original array using the print() function.</p>"
   ]
  },
  {
   "cell_type": "markdown",
   "id": "2c8baee2",
   "metadata": {},
   "source": [
    "<h1 style=\"border:2px solid Violet;\">How to Perform Operations on Multi-dimensional Arrays</h1>"
   ]
  },
  {
   "cell_type": "markdown",
   "id": "0c30b559",
   "metadata": {},
   "source": [
    "<p style=\"border:2px solid Violet;\">NumPy provides a wide range of mathematical and statistical functions that you can use to perform operations on multi-dimensional arrays efficiently. These functions can help you perform element-wise operations, matrix operations, and other operations on arrays with different shapes and sizes.\n",
    "    \n",
    "    Here's an example of how to perform some common operations on a 2-dimensional array using NumPy:</p>"
   ]
  },
  {
   "cell_type": "code",
   "execution_count": 6,
   "id": "3bd74344",
   "metadata": {},
   "outputs": [
    {
     "name": "stdout",
     "output_type": "stream",
     "text": [
      "78\n",
      "[ 2.5  6.5 10.5]\n",
      "[[ 60  70]\n",
      " [140 166]\n",
      " [220 262]]\n"
     ]
    }
   ],
   "source": [
    "import numpy as np\n",
    "\n",
    "# Create a 2-dimensional array with 3 rows and 4 columns\n",
    "arr = np.array([[1, 2, 3, 4], [5, 6, 7, 8], [9, 10, 11, 12]])\n",
    "\n",
    "# Calculate the sum of all elements\n",
    "print(np.sum(arr))  # Output: 78\n",
    "\n",
    "# Calculate the mean of each row\n",
    "print(np.mean(arr, axis=1))  # Output: [ 2.5  6.5 10.5]\n",
    "\n",
    "# Calculate the dot product of two matrices\n",
    "b = np.array([[2, 3], [4, 5], [6, 7], [8, 9]])\n",
    "print(np.dot(arr, b))  # Output: [[ 60  70]\n",
    "                        #          [140 166]\n",
    "                        #          [220 262]]"
   ]
  },
  {
   "cell_type": "markdown",
   "id": "e1f7c692",
   "metadata": {},
   "source": [
    "<p style=\"border:2px solid Violet;\">In this example, we create a 2-dimensional array using the np.array() function, and then use various NumPy functions to perform operations on the array.\n",
    "    We first calculate the sum of all elements using the np.sum() function. We then calculate the mean of each row using the np.mean() function and specify the axis=1 parameter to calculate the mean along each row. Finally, we calculate the dot product of the 2-dimensional array and another 2-dimensional array b using the np.dot() function.</p>"
   ]
  },
  {
   "cell_type": "markdown",
   "id": "b3620c15",
   "metadata": {},
   "source": [
    "<h1 style=\"border:2px solid DodgerBlue;\">Conclusion</h1>"
   ]
  },
  {
   "cell_type": "markdown",
   "id": "abe25c52",
   "metadata": {},
   "source": [
    "<p style=\"border:2px solid DodgerBlue;\">Multi-dimensional arrays are a powerful and important data structure in Python. They allow us to store and manipulate large amounts of data efficiently.\n",
    "    Here, we have covered the basics of creating and manipulating multi-dimensional arrays using NumPy in Python. We have also looked at some common operations that we can perform on multi-dimensional arrays using NumPy functions.</p>"
   ]
  },
  {
   "cell_type": "markdown",
   "id": "9aaf8860",
   "metadata": {},
   "source": [
    "<h1 style=\"background-color:Tomato;\">14. How can you install the numpy library using the command line /jupyter? </h1>\n"
   ]
  },
  {
   "cell_type": "markdown",
   "id": "0a51956f",
   "metadata": {},
   "source": [
    "<p style=\"background-color:rgba(255, 99, 71, 0.5);\">FOR INSTALLING THE NUMPY LIBRARY USING COMMAND LINE IN JUPYTER:</p>"
   ]
  },
  {
   "cell_type": "markdown",
   "id": "2f8bba34",
   "metadata": {},
   "source": [
    "<h1 style=\"background-color:rgba(255, 99, 71, 0.5);\">!pip install numpy</h1>"
   ]
  },
  {
   "cell_type": "markdown",
   "id": "b85f2fdd",
   "metadata": {},
   "source": [
    "<h1 style=\"background-color:Tomato;\">15. How do you uninstall a package, such as numpy, using the command line /Jupyter ? </h1>\n"
   ]
  },
  {
   "cell_type": "markdown",
   "id": "653d51b9",
   "metadata": {},
   "source": [
    "<p style=\"background-color:hsla(9, 100%, 64%, 0.5);\">TO UNINSTALL NUMPY USING COMMAND LINE IN JUPYTER:</p>"
   ]
  },
  {
   "cell_type": "markdown",
   "id": "8708c510",
   "metadata": {},
   "source": [
    "<h1 style=\"background-color:hsla(9, 100%, 64%, 0.5);\">!pip uninstall numpy</h1>\n"
   ]
  },
  {
   "cell_type": "markdown",
   "id": "44414793",
   "metadata": {},
   "source": [
    "<h1 style=\"background-color:Tomato;\"> 16. How can you rename a library/module using the as keyword?</h1>\n"
   ]
  },
  {
   "cell_type": "markdown",
   "id": "a54f6b15",
   "metadata": {},
   "source": [
    "<h1 style=\"border:2px solid DodgerBlue;\">TO RENAME A LIBRARY USING THE \"AS\" KEYWORD:</h1>"
   ]
  },
  {
   "cell_type": "markdown",
   "id": "d6ba8d75",
   "metadata": {},
   "source": [
    "<h1 style=\"border:2px solid DodgerBlue;\">import numpy as np</h1>"
   ]
  },
  {
   "cell_type": "markdown",
   "id": "6db7774f",
   "metadata": {},
   "source": [
    "<h1 style=\"background-color:Tomato;\"> 17. Describe what the numpy library is used for.</h1>\n"
   ]
  },
  {
   "cell_type": "markdown",
   "id": "e6a73952",
   "metadata": {},
   "source": [
    "<h1 style=\"border:2px solid Violet;\">NumPy provides a wide range of mathematical and statistical functions that you can use to perform operations on single or multi-dimensional arrays efficiently. These functions can help you perform element-wise operations, matrix operations, and other operations on arrays with different shapes and sizes. </h1>"
   ]
  },
  {
   "cell_type": "markdown",
   "id": "21c1a14c",
   "metadata": {},
   "source": [
    "<h1 style=\"background-color:Tomato;\"> 18. Explain the difference between a list and a NumPy array.</h1>\n"
   ]
  },
  {
   "cell_type": "markdown",
   "id": "3f493d7e",
   "metadata": {},
   "source": [
    "<h1 style=\"border:2px solid DodgerBlue;\">Lists and arrays both are mutable and store ordered items. List can store elements of different types, but arrays can store elements only of the same type. List provides more flexibility as it doesn't require explicit looping, but arrays require explicit looping to print elements.</h1>"
   ]
  },
  {
   "cell_type": "markdown",
   "id": "00b22bff",
   "metadata": {},
   "source": [
    "<h1 style=\"border:2px solid DodgerBlue;\">Python lists can store elements of different data types, whereas NumPy arrays enforce homogeneity. This restriction allows NumPy arrays to take advantage of the optimized C implementation for efficient memory access and mathematical operations.</h1>"
   ]
  },
  {
   "cell_type": "markdown",
   "id": "70ab1854",
   "metadata": {},
   "source": [
    "<h1 style=\"border:2px solid DodgerBlue;\">The main difference is that NumPy arrays are much faster and have strict requirements on the homogeneity of the objects. For example, a NumPy array of strings can only contain strings and no other data types, but a Python list can contain a mixture of strings, numbers, booleans and other objects.</h1>"
   ]
  },
  {
   "cell_type": "markdown",
   "id": "20396fa5",
   "metadata": {},
   "source": [
    "<h1 style=\"border:2px solid DodgerBlue;\">As the array size increase, Numpy gets around 30 times faster than Python List. Because the Numpy array is densely packed in memory due to its homogeneous type, it also frees the memory faster.</h1>\n"
   ]
  },
  {
   "cell_type": "markdown",
   "id": "6748be9b",
   "metadata": {},
   "source": [
    "<h1 style=\"background-color:Tomato;\"> 19. How can you create a one-dimensional array in NumPy?</h1>\n"
   ]
  },
  {
   "cell_type": "markdown",
   "id": "bf984673",
   "metadata": {},
   "source": [
    "<p style=\"color:DodgerBlue;\">One dimensional array contains elements only in one dimension. In other words, the shape of the numpy array should contain only one value in the tuple.\n",
    "    \n",
    "    To create a one dimensional array in numpy, you can use either of the numpy.array(), numpy.arange(), or numpy.linspace() functions based on the choice of initialisation.</p>"
   ]
  },
  {
   "cell_type": "markdown",
   "id": "f1047c75",
   "metadata": {},
   "source": [
    "<h1 style=\"background-color:DodgerBlue;\">1. Create 1D NumPy Array using array() function:</h1>"
   ]
  },
  {
   "cell_type": "markdown",
   "id": "62044102",
   "metadata": {},
   "source": [
    "<p style=\"border:2px solid DodgerBlue;\">Numpy array() functions takes a list of elements as argument and returns a one-dimensional array.\n",
    "    \n",
    "    In this example, we will import numpy library and use array() function to crate a one dimensional numpy array.</p>"
   ]
  },
  {
   "cell_type": "code",
   "execution_count": 9,
   "id": "71888318",
   "metadata": {},
   "outputs": [
    {
     "name": "stdout",
     "output_type": "stream",
     "text": [
      "[ 5  8 12]\n"
     ]
    }
   ],
   "source": [
    "import numpy as np\n",
    "\n",
    "#create numpy array\n",
    "a = np.array([5, 8, 12])\n",
    "print(a)"
   ]
  },
  {
   "cell_type": "markdown",
   "id": "32ec8327",
   "metadata": {},
   "source": [
    "<h1 style=\"background-color:DodgerBlue;\">2. Create 1D NumPy Array using arange() function</h1>"
   ]
  },
  {
   "cell_type": "markdown",
   "id": "3613cccf",
   "metadata": {},
   "source": [
    "<p style=\"border:2px solid DodgerBlue;\">NumPy arange() function takes start, end of a range and the interval as arguments and returns a one-dimensional array.</p>"
   ]
  },
  {
   "cell_type": "markdown",
   "id": "c5f226a5",
   "metadata": {},
   "source": [
    "## [start, start+interval, start+2*interval, ... ]"
   ]
  },
  {
   "cell_type": "markdown",
   "id": "6cdb9a4d",
   "metadata": {},
   "source": [
    "<p style=\"color:DodgerBlue;\">In this example, we will import numpy library and use arange() function to crate a one dimensional numpy array.</p>"
   ]
  },
  {
   "cell_type": "code",
   "execution_count": 10,
   "id": "2ee40b39",
   "metadata": {},
   "outputs": [
    {
     "name": "stdout",
     "output_type": "stream",
     "text": [
      "[ 5  7  9 11 13]\n"
     ]
    }
   ],
   "source": [
    "import numpy as np\n",
    "\n",
    "#create numpy array\n",
    "a = np.arange(5, 14, 2)\n",
    "print(a)"
   ]
  },
  {
   "cell_type": "markdown",
   "id": "338afbf2",
   "metadata": {},
   "source": [
    "## Array starts with 5 and continues till 14 in the interval of 2."
   ]
  },
  {
   "cell_type": "markdown",
   "id": "28fb0181",
   "metadata": {},
   "source": [
    "<h1 style=\"background-color:DodgerBlue;\">3. Create 1D NumPy Array using linspace() function</h1>"
   ]
  },
  {
   "cell_type": "markdown",
   "id": "ad3ac215",
   "metadata": {},
   "source": [
    "<p style=\"border:2px solid DodgerBlue;\">NumPy linspace() functions takes start, end and the number of elements to be created as arguments and creates a one-dimensional array.\n",
    "    \n",
    "    In this example, we will import numpy library and use linspace() function to crate a one dimensional numpy array.</p>"
   ]
  },
  {
   "cell_type": "code",
   "execution_count": 11,
   "id": "bbec2cc9",
   "metadata": {},
   "outputs": [
    {
     "name": "stdout",
     "output_type": "stream",
     "text": [
      "[ 5.         11.66666667 18.33333333 25.        ]\n"
     ]
    }
   ],
   "source": [
    "import numpy as np\n",
    "\n",
    "#create numpy array\n",
    "a = np.linspace(5, 25, 4)\n",
    "print(a)"
   ]
  },
  {
   "cell_type": "markdown",
   "id": "38c659a6",
   "metadata": {},
   "source": [
    "<h1 style=\"background-color:Tomato;\"> 20. What is the ndim attribute of a NumPy array used for?</h1>\n"
   ]
  },
  {
   "cell_type": "markdown",
   "id": "c824e72f",
   "metadata": {},
   "source": [
    "<h1 style=\"border:2px solid DodgerBlue;\">ndim represents the number of dimensions (axes) of the ndarray. Shape is a tuple of integers representing the size of the ndarray in each dimension. Size is the total number of elements in the ndarray. It is equal to the product of elements of the shape.</h1>"
   ]
  },
  {
   "cell_type": "markdown",
   "id": "9f703a2f",
   "metadata": {},
   "source": [
    "### Example showing the use of ndim attribute to calculate the dimension of array: "
   ]
  },
  {
   "cell_type": "code",
   "execution_count": 1,
   "id": "bec2dbde",
   "metadata": {},
   "outputs": [
    {
     "name": "stdout",
     "output_type": "stream",
     "text": [
      "2\n"
     ]
    }
   ],
   "source": [
    "import numpy\n",
    "arry = numpy.array([[]])\n",
    "print(arry.ndim)"
   ]
  },
  {
   "cell_type": "code",
   "execution_count": 2,
   "id": "e14a4985",
   "metadata": {},
   "outputs": [
    {
     "name": "stdout",
     "output_type": "stream",
     "text": [
      "3\n"
     ]
    }
   ],
   "source": [
    "import numpy as np\n",
    "arry = np.array([[[]]])\n",
    "print(arry.ndim)"
   ]
  },
  {
   "cell_type": "markdown",
   "id": "0b289341",
   "metadata": {},
   "source": [
    "<h1 style=\"background-color:Tomato;\">21. How can you create a two-dimensional array in NumPy? </h1>\n"
   ]
  },
  {
   "cell_type": "markdown",
   "id": "25c13fdb",
   "metadata": {},
   "source": [
    "<h1 style=\"border:2px solid DodgerBlue;\">To create a 2D (2 dimensional) array in Python using NumPy library, we can use any of the following methods:\n",
    "    \n",
    "    numpy.array() – Creates array from given values.\n",
    "    numpy.zeros() – Creates array of zeros.\n",
    "    numpy.ones() – Creates array of ones.\n",
    "    numpy.empty() – Creates an empty array.</h1>"
   ]
  },
  {
   "cell_type": "markdown",
   "id": "c5fc32ff",
   "metadata": {},
   "source": [
    "<h1 style=\"color:DodgerBlue;\">1. Create 2D Array using numpy.array()</h1>"
   ]
  },
  {
   "cell_type": "markdown",
   "id": "4729c974",
   "metadata": {},
   "source": [
    "## Pass a list of lists to numpy.array() function."
   ]
  },
  {
   "cell_type": "code",
   "execution_count": 12,
   "id": "ecf9d1ba",
   "metadata": {},
   "outputs": [
    {
     "name": "stdout",
     "output_type": "stream",
     "text": [
      "[[ 1  2  3  4]\n",
      " [ 5  6  7  8]\n",
      " [ 9 10 11 12]]\n"
     ]
    }
   ],
   "source": [
    "import numpy as np\n",
    "\n",
    "# create a 2D array with shape (3, 4)\n",
    "arr = np.array([[1, 2, 3, 4], [5, 6, 7, 8], [9, 10, 11, 12]])\n",
    "\n",
    "print(arr)"
   ]
  },
  {
   "cell_type": "markdown",
   "id": "d009d0d4",
   "metadata": {},
   "source": [
    "<h1 style=\"color:DodgerBlue;\">2. Create 2D Array using numpy.zeros()</h1>"
   ]
  },
  {
   "cell_type": "markdown",
   "id": "5c7705f8",
   "metadata": {},
   "source": [
    "## Pass shape of the required 2D array, as a tuple, as argument to numpy.zeros() function. The function returns a numpy array with specified shape, and all elements in the array initialised to zeros."
   ]
  },
  {
   "cell_type": "code",
   "execution_count": 13,
   "id": "5e7914eb",
   "metadata": {},
   "outputs": [
    {
     "name": "stdout",
     "output_type": "stream",
     "text": [
      "[[0. 0. 0. 0.]\n",
      " [0. 0. 0. 0.]\n",
      " [0. 0. 0. 0.]]\n"
     ]
    }
   ],
   "source": [
    "import numpy as np\n",
    "\n",
    "# create a 2D array with shape (3, 4)\n",
    "shape = (3, 4)\n",
    "arr = np.zeros(shape)\n",
    "\n",
    "print(arr)"
   ]
  },
  {
   "cell_type": "markdown",
   "id": "5df7d37b",
   "metadata": {},
   "source": [
    "<h1 style=\"color:DodgerBlue;\">3. Create 2D Array using numpy.ones()</h1>"
   ]
  },
  {
   "cell_type": "markdown",
   "id": "e175e1bb",
   "metadata": {},
   "source": [
    "## Pass shape of the required 2D array, as a tuple, as argument to numpy.ones() function. The function returns a numpy array with specified shape, and all elements in the array initialised to ones."
   ]
  },
  {
   "cell_type": "code",
   "execution_count": 15,
   "id": "d3fb77a2",
   "metadata": {},
   "outputs": [
    {
     "name": "stdout",
     "output_type": "stream",
     "text": [
      "[[1. 1. 1. 1.]\n",
      " [1. 1. 1. 1.]\n",
      " [1. 1. 1. 1.]]\n"
     ]
    }
   ],
   "source": [
    "import numpy as np\n",
    "\n",
    "# create a 2D array with shape (3, 4)\n",
    "shape = (3, 4)\n",
    "arr = np.ones(shape)\n",
    "\n",
    "print(arr)"
   ]
  },
  {
   "cell_type": "markdown",
   "id": "3c9ec305",
   "metadata": {},
   "source": [
    "<h1 style=\"color:DodgerBlue;\">4. Create 2D Array using numpy.empty()</h1>"
   ]
  },
  {
   "cell_type": "markdown",
   "id": "8e100453",
   "metadata": {},
   "source": [
    "## Pass shape of the required 2D array, as a tuple, as argument to numpy.empty() function. The function returns a numpy array with specified shape."
   ]
  },
  {
   "cell_type": "code",
   "execution_count": 16,
   "id": "11b82445",
   "metadata": {},
   "outputs": [
    {
     "name": "stdout",
     "output_type": "stream",
     "text": [
      "[[1. 1. 1. 1.]\n",
      " [1. 1. 1. 1.]\n",
      " [1. 1. 1. 1.]]\n"
     ]
    }
   ],
   "source": [
    "import numpy as np\n",
    "\n",
    "# create a 2D array with shape (3, 4)\n",
    "shape = (3, 4)\n",
    "arr = np.empty(shape)\n",
    "\n",
    "print(arr)"
   ]
  },
  {
   "cell_type": "markdown",
   "id": "11eda13c",
   "metadata": {},
   "source": [
    "<h1 style=\"background-color:Tomato;\">22. Explain the difference between arr[0][2] and arr[0, 2]. </h1>\n"
   ]
  },
  {
   "cell_type": "markdown",
   "id": "de37b48c",
   "metadata": {},
   "source": [
    "## In Python, arr[0][2] and arr[0, 2] are two different ways to index elements in an array. The difference between the two depends on the type of array you are working with.\n",
    "\n",
    "### If arr is a nested list, arr[0][2] is used to index the element in the first inner list at index 2. For example:"
   ]
  },
  {
   "cell_type": "code",
   "execution_count": 17,
   "id": "c783c201",
   "metadata": {},
   "outputs": [
    {
     "name": "stdout",
     "output_type": "stream",
     "text": [
      "3\n"
     ]
    }
   ],
   "source": [
    "arr = [[1, 2, 3], [4, 5, 6]]\n",
    "print(arr[0][2])\n",
    "# Output: 3\n"
   ]
  },
  {
   "cell_type": "markdown",
   "id": "9b441bda",
   "metadata": {},
   "source": [
    "## On the other hand, if arr is a NumPy array, arr[0, 2] is used to index the element in the first row and third column. For example:"
   ]
  },
  {
   "cell_type": "code",
   "execution_count": 18,
   "id": "eb06fcc9",
   "metadata": {},
   "outputs": [
    {
     "name": "stdout",
     "output_type": "stream",
     "text": [
      "3\n"
     ]
    }
   ],
   "source": [
    "import numpy as np\n",
    "arr = np.array([[1, 2, 3], [4, 5, 6]])\n",
    "print(arr[0, 2])\n",
    "# Output: 3\n"
   ]
  },
  {
   "cell_type": "markdown",
   "id": "58cbbf90",
   "metadata": {},
   "source": [
    "## It’s important to note that using arr[0, 2] on a nested list will result in an error. Similarly, using arr[0][2] on a NumPy array will also work but it is not the recommended way to index elements in a NumPy array."
   ]
  },
  {
   "cell_type": "markdown",
   "id": "7e646b9a",
   "metadata": {},
   "source": [
    "<h1 style=\"background-color:Tomato;\"> 23. Provide examples of arithmetic operations on a NumPy array.</h1>\n"
   ]
  },
  {
   "cell_type": "markdown",
   "id": "511d9dd4",
   "metadata": {},
   "source": [
    "# NumPy Array Element-Wise Addition"
   ]
  },
  {
   "cell_type": "markdown",
   "id": "7555961b",
   "metadata": {},
   "source": [
    "### We can use the both + operator and the built-in function add() to perform element-wise addition between two NumPy arrays. For example,"
   ]
  },
  {
   "cell_type": "code",
   "execution_count": 19,
   "id": "826aad33",
   "metadata": {},
   "outputs": [
    {
     "name": "stdout",
     "output_type": "stream",
     "text": [
      "Using the + operator: [ 3  7 11 15]\n",
      "Using the add() function: [ 3  7 11 15]\n"
     ]
    }
   ],
   "source": [
    "import numpy as np\n",
    "\n",
    "first_array = np.array([1, 3, 5, 7])\n",
    "second_array = np.array([2, 4, 6, 8])\n",
    "\n",
    "# using the + operator\n",
    "result1 = first_array + second_array\n",
    "print(\"Using the + operator:\",result1) \n",
    "\n",
    "# using the add() function\n",
    "result2 = np.add(first_array, second_array)\n",
    "print(\"Using the add() function:\",result2) "
   ]
  },
  {
   "cell_type": "markdown",
   "id": "cfffd10c",
   "metadata": {},
   "source": [
    "## In the above example, first we created two arrays named: first_array and second_array.\n",
    "\n",
    "## Then, we used the + operator and the add() function to perform element-wise addition respectively.\n",
    "\n",
    "### As we can see, both + and add() give the same result."
   ]
  },
  {
   "cell_type": "markdown",
   "id": "ffe922ac",
   "metadata": {},
   "source": [
    "# NumPy Array Element-Wise Subtraction"
   ]
  },
  {
   "cell_type": "markdown",
   "id": "69ac6ce8",
   "metadata": {},
   "source": [
    "## In NumPy, we can either use the - operator or the subtract() function to perform element-wise subtraction between two NumPy arrays. For example,"
   ]
  },
  {
   "cell_type": "code",
   "execution_count": 20,
   "id": "442827ca",
   "metadata": {},
   "outputs": [
    {
     "name": "stdout",
     "output_type": "stream",
     "text": [
      "Using the - operator: [ 1  5 19 65]\n",
      "Using the subtract() function: [ 1  5 19 65]\n"
     ]
    }
   ],
   "source": [
    "import numpy as np\n",
    "\n",
    "first_array = np.array([3, 9, 27, 81])\n",
    "second_array = np.array([2, 4, 8, 16])\n",
    "\n",
    "# using the - operator\n",
    "result1 = first_array - second_array\n",
    "print(\"Using the - operator:\",result1) \n",
    "\n",
    "# using the subtract() function\n",
    "result2 = np.subtract(first_array, second_array)\n",
    "print(\"Using the subtract() function:\",result2) "
   ]
  },
  {
   "cell_type": "markdown",
   "id": "0da0ea2d",
   "metadata": {},
   "source": [
    "### Here, we have performed subtraction between first_array and second_array using both the - operator and the subtract() function."
   ]
  },
  {
   "cell_type": "markdown",
   "id": "10eb9ac7",
   "metadata": {},
   "source": [
    "# NumPy Array Element-Wise Multiplication"
   ]
  },
  {
   "cell_type": "markdown",
   "id": "748188bf",
   "metadata": {},
   "source": [
    "## For element-wise multiplication, we can use the * operator or the multiply() function. For example,"
   ]
  },
  {
   "cell_type": "code",
   "execution_count": 21,
   "id": "4bd7ef51",
   "metadata": {},
   "outputs": [
    {
     "name": "stdout",
     "output_type": "stream",
     "text": [
      "Using the * operator: [ 2 12 30 56]\n",
      "Using the multiply() function: [ 2 12 30 56]\n"
     ]
    }
   ],
   "source": [
    "import numpy as np\n",
    "\n",
    "first_array = np.array([1, 3, 5, 7])\n",
    "second_array = np.array([2, 4, 6, 8])\n",
    "\n",
    "# using the * operator\n",
    "result1 = first_array * second_array\n",
    "print(\"Using the * operator:\",result1) \n",
    "\n",
    "# using the multiply() function\n",
    "result2 = np.multiply(first_array, second_array)\n",
    "print(\"Using the multiply() function:\",result2) "
   ]
  },
  {
   "cell_type": "markdown",
   "id": "06d53618",
   "metadata": {},
   "source": [
    "### Here, we have used * and multiply() to demonstrate two ways of multiplying the two arrays element-wise."
   ]
  },
  {
   "cell_type": "markdown",
   "id": "92c68b3a",
   "metadata": {},
   "source": [
    "# NumPy Array Element-Wise Division"
   ]
  },
  {
   "cell_type": "markdown",
   "id": "b3cd791d",
   "metadata": {},
   "source": [
    "## We can use either the / operator or the divide() function to perform element-wise division between two numpy arrays. For example,"
   ]
  },
  {
   "cell_type": "code",
   "execution_count": 22,
   "id": "d58b51c1",
   "metadata": {},
   "outputs": [
    {
     "name": "stdout",
     "output_type": "stream",
     "text": [
      "Using the / operator: [0.25 0.4  0.5 ]\n",
      "Using the divide() function: [0.25 0.4  0.5 ]\n"
     ]
    }
   ],
   "source": [
    "import numpy as np\n",
    "\n",
    "first_array = np.array([1, 2, 3])\n",
    "second_array = np.array([4, 5, 6])\n",
    "\n",
    "# using the / operator\n",
    "result1 = first_array / second_array\n",
    "print(\"Using the / operator:\",result1) \n",
    "\n",
    "# using the divide() function\n",
    "result2 = np.divide(first_array, second_array)\n",
    "print(\"Using the divide() function:\",result2) "
   ]
  },
  {
   "cell_type": "markdown",
   "id": "d97e0bb5",
   "metadata": {},
   "source": [
    "## Here, we can see both / and divide() give the same result."
   ]
  },
  {
   "cell_type": "markdown",
   "id": "b03babed",
   "metadata": {},
   "source": [
    "<h1 style=\"background-color:Tomato;\">24. How can you calculate the sum, maximum, and mean of a NumPy array? </h1>\n"
   ]
  },
  {
   "cell_type": "markdown",
   "id": "b4356395",
   "metadata": {},
   "source": [
    "## To calculate the sum:"
   ]
  },
  {
   "cell_type": "code",
   "execution_count": 23,
   "id": "3de3d2cb",
   "metadata": {},
   "outputs": [
    {
     "name": "stdout",
     "output_type": "stream",
     "text": [
      "\n",
      "Sum of arr :  36.2\n"
     ]
    }
   ],
   "source": [
    "import numpy as np\n",
    "      \n",
    "# 1D array\n",
    "arr = [20, 2, .2, 10, 4] \n",
    "  \n",
    "print(\"\\nSum of arr : \", np.sum(arr))"
   ]
  },
  {
   "cell_type": "markdown",
   "id": "48a4a9cc",
   "metadata": {},
   "source": [
    "## To calculate the maximum:"
   ]
  },
  {
   "cell_type": "code",
   "execution_count": 3,
   "id": "881d5ef9",
   "metadata": {},
   "outputs": [
    {
     "name": "stdout",
     "output_type": "stream",
     "text": [
      "THE MAXIMUM VALUE IN THE ARRAY IS :  96\n"
     ]
    }
   ],
   "source": [
    "# Find maximum value on 1-dimensional numpy array\n",
    "import numpy as np\n",
    "arr = np.array([16,10,96,32,50,64,85])\n",
    "arr2 = np.max(arr)\n",
    "print(\"THE MAXIMUM VALUE IN THE ARRAY IS : \",arr2)"
   ]
  },
  {
   "cell_type": "markdown",
   "id": "47f86461",
   "metadata": {},
   "source": [
    "##  To calculate the mean:"
   ]
  },
  {
   "cell_type": "code",
   "execution_count": 5,
   "id": "8edaaa21",
   "metadata": {},
   "outputs": [
    {
     "name": "stdout",
     "output_type": "stream",
     "text": [
      "THE MEAN VALUE OF THE ARRAY IS:  5.833333333333333\n"
     ]
    }
   ],
   "source": [
    "import numpy as np\n",
    "arr = np.array([2, 7, 5, 8, 9,4])\n",
    "\n",
    "arr1 = np.mean(arr)\n",
    "\n",
    "print(\"THE MEAN VALUE OF THE ARRAY IS: \",arr1)"
   ]
  },
  {
   "cell_type": "markdown",
   "id": "ff5f87af",
   "metadata": {},
   "source": [
    "<h1 style=\"background-color:Tomato;\"> 25. What is the purpose of the np.sqrt() function in NumPy?</h1>\n"
   ]
  },
  {
   "cell_type": "markdown",
   "id": "fc4108ad",
   "metadata": {},
   "source": [
    "<h1 style=\"border:2px solid DodgerBlue;\">The np.sqrt() function is used to calculate the SQUARE ROOT of INTEGERS(positive) in NumPy. The example for this is shown below:</h1>"
   ]
  },
  {
   "cell_type": "code",
   "execution_count": 8,
   "id": "8213a88b",
   "metadata": {},
   "outputs": [
    {
     "name": "stdout",
     "output_type": "stream",
     "text": [
      "THE SQUARE ROOTS ARE:  [ 5.  7. 15.  8.  9.  4.]\n"
     ]
    }
   ],
   "source": [
    "import numpy as np\n",
    "arr = np.array([25, 49, 225, 64, 81, 16])\n",
    "arr2 = np.sqrt(arr)\n",
    "print(\"THE SQUARE ROOTS ARE: \",arr2)"
   ]
  },
  {
   "cell_type": "markdown",
   "id": "a16abc83",
   "metadata": {},
   "source": [
    "<h1 style=\"background-color:Tomato;\">26. How can you filter elements in a NumPy array using a condition? </h1>\n"
   ]
  },
  {
   "cell_type": "markdown",
   "id": "9912bf32",
   "metadata": {},
   "source": [
    "# Filtering NumPy Arrays:\n",
    "## Filtering means taking the elements which satisfy the condition given by us. For example, Even elements in an array, elements greater than 10 in an array, etc. \n",
    "\n",
    "### Steps for Filtering NumPy Array’s:\n",
    "\n",
    "## 1.Import NumPy module.\n",
    "## 2.Create arrays using np.array() function.\n",
    "## 3.Write any condition for filtering the array.\n",
    "## 4.Create a new array with that filtering function.\n",
    "### Note: In Filtering and Comparison both give boolean values as an output.\n",
    "\n",
    "## Example to explain this is given below:"
   ]
  },
  {
   "cell_type": "code",
   "execution_count": 3,
   "id": "b4bd6650",
   "metadata": {},
   "outputs": [
    {
     "name": "stdout",
     "output_type": "stream",
     "text": [
      "[50 44 32 21]\n"
     ]
    }
   ],
   "source": [
    "import numpy as np\n",
    "arr=np.array(\n",
    "    [\n",
    "        [17,10,12,11],\n",
    "        [50,44,32,21]]\n",
    ")\n",
    "print(arr[arr>=21])"
   ]
  },
  {
   "cell_type": "markdown",
   "id": "ccddf06c",
   "metadata": {},
   "source": [
    "<h1 style=\"background-color:Tomato;\"> 27. How can you use the np.concatenate() function to combine arrays?</h1>\n"
   ]
  },
  {
   "cell_type": "code",
   "execution_count": 4,
   "id": "fe23a599",
   "metadata": {},
   "outputs": [
    {
     "name": "stdout",
     "output_type": "stream",
     "text": [
      "[[135 140 234 112]\n",
      " [533 442 354 243]\n",
      " [100  21  32 115]\n",
      " [152 145 132 123]]\n"
     ]
    }
   ],
   "source": [
    "import numpy as np\n",
    "\n",
    "arr1=np.array(\n",
    "    [\n",
    "        [135,140,234,112],\n",
    "        [533,442,354,243]]\n",
    ")\n",
    "\n",
    "arr2=np.array(\n",
    "    [\n",
    "        [100,21,32,115],\n",
    "        [152,145,132,123]]\n",
    ")\n",
    "print(np.concatenate((arr1,arr2)))"
   ]
  },
  {
   "cell_type": "markdown",
   "id": "31186de8",
   "metadata": {},
   "source": [
    "<h1 style=\"background-color:Tomato;\"> 28. Explain the concept of reshaping an array in NumPy.</h1>\n"
   ]
  },
  {
   "cell_type": "markdown",
   "id": "ac68b200",
   "metadata": {},
   "source": [
    "## Reshaping means changing the shape of an array. The shape of an array is the number of elements in each dimension. By reshaping we can add or remove dimensions or change number of elements in each dimension."
   ]
  },
  {
   "cell_type": "markdown",
   "id": "88eea4a0",
   "metadata": {},
   "source": [
    "<h1 style=\"background-color:Tomato;\">29. Provide an example of using the reshape() function in NumPy.</h1>\n"
   ]
  },
  {
   "cell_type": "markdown",
   "id": "c569ad41",
   "metadata": {},
   "source": [
    "### Reshape From 1-D to 2-D:"
   ]
  },
  {
   "cell_type": "markdown",
   "id": "98bdf3c4",
   "metadata": {},
   "source": [
    "## Example:\n",
    "\n",
    "### Convert the following 1-D array with 12 elements into a 2-D array.\n",
    "\n",
    "#### The outermost dimension will have 4 arrays, each with 3 elements:"
   ]
  },
  {
   "cell_type": "code",
   "execution_count": 5,
   "id": "f1c035ee",
   "metadata": {},
   "outputs": [
    {
     "name": "stdout",
     "output_type": "stream",
     "text": [
      "[[ 1  2  3]\n",
      " [ 4  5  6]\n",
      " [ 7  8  9]\n",
      " [10 11 12]]\n"
     ]
    }
   ],
   "source": [
    "import numpy as np\n",
    "\n",
    "arr = np.array([1, 2, 3, 4, 5, 6, 7, 8, 9, 10, 11, 12])\n",
    "\n",
    "newarr = arr.reshape(4, 3)\n",
    "\n",
    "print(newarr)"
   ]
  },
  {
   "cell_type": "markdown",
   "id": "21a4c66f",
   "metadata": {},
   "source": [
    "### Reshape From 1-D to 3-D\n",
    "\n",
    "### Example\n",
    "### Convert the following 1-D array with 12 elements into a 3-D array.\n",
    "\n",
    "### The outermost dimension will have 2 arrays that contains 3 arrays, each with 2 elements:"
   ]
  },
  {
   "cell_type": "code",
   "execution_count": 6,
   "id": "9bff3079",
   "metadata": {},
   "outputs": [
    {
     "name": "stdout",
     "output_type": "stream",
     "text": [
      "[[[ 1  2]\n",
      "  [ 3  4]\n",
      "  [ 5  6]]\n",
      "\n",
      " [[ 7  8]\n",
      "  [ 9 10]\n",
      "  [11 12]]]\n"
     ]
    }
   ],
   "source": [
    "import numpy as np\n",
    "\n",
    "arr = np.array([1, 2, 3, 4, 5, 6, 7, 8, 9, 10, 11, 12])\n",
    "\n",
    "newarr = arr.reshape(2, 3, 2)\n",
    "\n",
    "print(newarr)"
   ]
  },
  {
   "cell_type": "markdown",
   "id": "c4026843",
   "metadata": {},
   "source": [
    "<h1 style=\"background-color:Tomato;\">30. How can you access specific elements of a two-dimensional NumPy array?</h1>\n"
   ]
  },
  {
   "cell_type": "markdown",
   "id": "20e04996",
   "metadata": {},
   "source": [
    "## Accessing 17 from the 2-D Array:"
   ]
  },
  {
   "cell_type": "code",
   "execution_count": 7,
   "id": "79c0d815",
   "metadata": {},
   "outputs": [
    {
     "name": "stdout",
     "output_type": "stream",
     "text": [
      "17\n"
     ]
    }
   ],
   "source": [
    "import numpy as np\n",
    "arr=np.array(\n",
    "    [[15,16,17,18],\n",
    "     [1,2,3,4]]\n",
    ")\n",
    "\n",
    "print(arr[0,2])"
   ]
  },
  {
   "cell_type": "markdown",
   "id": "6e831225",
   "metadata": {},
   "source": [
    "<h1 style=\"background-color:Tomato;\">31. What is the shape attribute of a NumPy array used for?</h1>\n"
   ]
  },
  {
   "cell_type": "markdown",
   "id": "0ac5255a",
   "metadata": {},
   "source": [
    "# The shape attribute in numpy is used to return a tuple with the index numbers representing the dimension or shape of the given array.\n",
    "## Example:"
   ]
  },
  {
   "cell_type": "code",
   "execution_count": 8,
   "id": "2086dc95",
   "metadata": {},
   "outputs": [
    {
     "name": "stdout",
     "output_type": "stream",
     "text": [
      "(5, 4)\n"
     ]
    }
   ],
   "source": [
    "import numpy as np\n",
    "arr=np.array(\n",
    "    [\n",
    "        [12,10,23,15],\n",
    "        [53,43,34,24],\n",
    "        [54,41,35,23],\n",
    "        [55,42,33,24],\n",
    "        [56,43,33,25],\n",
    "    ]\n",
    ")\n",
    "print(arr.shape)"
   ]
  },
  {
   "cell_type": "markdown",
   "id": "0e944601",
   "metadata": {},
   "source": [
    "<h1 style=\"background-color:Tomato;\">32. How does the shape attribute differ from the ndim attribute?</h1>\n"
   ]
  },
  {
   "cell_type": "markdown",
   "id": "dda69362",
   "metadata": {},
   "source": [
    "# ndim attribute represents the number of dimensions (axes) of the ndarray. \n",
    "# shape attribute is a tuple of integers representing the size of the ndarray in each dimension."
   ]
  },
  {
   "cell_type": "markdown",
   "id": "4014e183",
   "metadata": {},
   "source": [
    "<h1 style=\"background-color:Tomato;\">33. How can you create a pie chart using the matplotlib library?</h1>\n"
   ]
  },
  {
   "cell_type": "code",
   "execution_count": 11,
   "id": "4c180ace",
   "metadata": {},
   "outputs": [
    {
     "name": "stdout",
     "output_type": "stream",
     "text": [
      "Collecting matplotlib\n",
      "  Downloading matplotlib-3.7.2-cp311-cp311-win_amd64.whl (7.5 MB)\n",
      "                                              0.0/7.5 MB ? eta -:--:--\n",
      "                                              0.0/7.5 MB ? eta -:--:--\n",
      "     --                                       0.4/7.5 MB 8.7 MB/s eta 0:00:01\n",
      "     ---                                      0.6/7.5 MB 6.1 MB/s eta 0:00:02\n",
      "     ----                                     0.8/7.5 MB 6.1 MB/s eta 0:00:02\n",
      "     -----                                    0.9/7.5 MB 5.0 MB/s eta 0:00:02\n",
      "     -----                                    1.1/7.5 MB 4.6 MB/s eta 0:00:02\n",
      "     -------                                  1.4/7.5 MB 4.8 MB/s eta 0:00:02\n",
      "     --------                                 1.6/7.5 MB 4.8 MB/s eta 0:00:02\n",
      "     ---------                                1.8/7.5 MB 4.8 MB/s eta 0:00:02\n",
      "     -----------                              2.1/7.5 MB 5.0 MB/s eta 0:00:02\n",
      "     ------------                             2.3/7.5 MB 5.0 MB/s eta 0:00:02\n",
      "     -------------                            2.6/7.5 MB 5.1 MB/s eta 0:00:01\n",
      "     ---------------                          2.8/7.5 MB 5.0 MB/s eta 0:00:01\n",
      "     ----------------                         3.1/7.5 MB 5.0 MB/s eta 0:00:01\n",
      "     -----------------                        3.2/7.5 MB 5.0 MB/s eta 0:00:01\n",
      "     ------------------                       3.4/7.5 MB 4.9 MB/s eta 0:00:01\n",
      "     -------------------                      3.6/7.5 MB 4.9 MB/s eta 0:00:01\n",
      "     --------------------                     3.8/7.5 MB 4.8 MB/s eta 0:00:01\n",
      "     ---------------------                    4.0/7.5 MB 4.7 MB/s eta 0:00:01\n",
      "     ----------------------                   4.3/7.5 MB 4.8 MB/s eta 0:00:01\n",
      "     ------------------------                 4.6/7.5 MB 4.9 MB/s eta 0:00:01\n",
      "     -------------------------                4.8/7.5 MB 4.8 MB/s eta 0:00:01\n",
      "     --------------------------               5.0/7.5 MB 4.9 MB/s eta 0:00:01\n",
      "     ---------------------------              5.2/7.5 MB 4.8 MB/s eta 0:00:01\n",
      "     -----------------------------            5.4/7.5 MB 4.8 MB/s eta 0:00:01\n",
      "     -----------------------------            5.6/7.5 MB 4.8 MB/s eta 0:00:01\n",
      "     -------------------------------          5.8/7.5 MB 4.8 MB/s eta 0:00:01\n",
      "     --------------------------------         6.1/7.5 MB 4.8 MB/s eta 0:00:01\n",
      "     ---------------------------------        6.3/7.5 MB 4.8 MB/s eta 0:00:01\n",
      "     ----------------------------------       6.5/7.5 MB 4.8 MB/s eta 0:00:01\n",
      "     -----------------------------------      6.7/7.5 MB 4.8 MB/s eta 0:00:01\n",
      "     ------------------------------------     6.9/7.5 MB 4.8 MB/s eta 0:00:01\n",
      "     -------------------------------------    7.1/7.5 MB 4.7 MB/s eta 0:00:01\n",
      "     --------------------------------------   7.3/7.5 MB 4.7 MB/s eta 0:00:01\n",
      "     ---------------------------------------  7.5/7.5 MB 4.7 MB/s eta 0:00:01\n",
      "     ---------------------------------------  7.5/7.5 MB 4.7 MB/s eta 0:00:01\n",
      "     ---------------------------------------  7.5/7.5 MB 4.7 MB/s eta 0:00:01\n",
      "     ---------------------------------------  7.5/7.5 MB 4.7 MB/s eta 0:00:01\n",
      "     ---------------------------------------  7.5/7.5 MB 4.7 MB/s eta 0:00:01\n",
      "     ---------------------------------------  7.5/7.5 MB 4.7 MB/s eta 0:00:01\n",
      "     ---------------------------------------  7.5/7.5 MB 4.7 MB/s eta 0:00:01\n",
      "     ---------------------------------------  7.5/7.5 MB 4.7 MB/s eta 0:00:01\n",
      "     ---------------------------------------  7.5/7.5 MB 4.7 MB/s eta 0:00:01\n",
      "     ---------------------------------------  7.5/7.5 MB 4.7 MB/s eta 0:00:01\n",
      "     ---------------------------------------  7.5/7.5 MB 4.7 MB/s eta 0:00:01\n",
      "     ---------------------------------------  7.5/7.5 MB 4.7 MB/s eta 0:00:01\n",
      "     ---------------------------------------- 7.5/7.5 MB 3.5 MB/s eta 0:00:00\n",
      "Collecting contourpy>=1.0.1 (from matplotlib)\n",
      "  Downloading contourpy-1.1.0-cp311-cp311-win_amd64.whl (470 kB)\n",
      "                                              0.0/470.9 kB ? eta -:--:--\n",
      "     ------------------------               307.2/470.9 kB 9.3 MB/s eta 0:00:01\n",
      "     -------------------------------------  460.8/470.9 kB 7.2 MB/s eta 0:00:01\n",
      "     -------------------------------------  460.8/470.9 kB 7.2 MB/s eta 0:00:01\n",
      "     -------------------------------------  460.8/470.9 kB 7.2 MB/s eta 0:00:01\n",
      "     -------------------------------------- 470.9/470.9 kB 2.7 MB/s eta 0:00:00\n",
      "Collecting cycler>=0.10 (from matplotlib)\n",
      "  Downloading cycler-0.11.0-py3-none-any.whl (6.4 kB)\n",
      "Collecting fonttools>=4.22.0 (from matplotlib)\n",
      "  Downloading fonttools-4.42.0-cp311-cp311-win_amd64.whl (2.1 MB)\n",
      "                                              0.0/2.1 MB ? eta -:--:--\n",
      "     ------                                   0.3/2.1 MB 7.0 MB/s eta 0:00:01\n",
      "     -----------                              0.6/2.1 MB 6.3 MB/s eta 0:00:01\n",
      "     -------------                            0.7/2.1 MB 5.2 MB/s eta 0:00:01\n",
      "     -------------------                      1.0/2.1 MB 5.4 MB/s eta 0:00:01\n",
      "     -----------------------                  1.2/2.1 MB 5.3 MB/s eta 0:00:01\n",
      "     --------------------------               1.4/2.1 MB 5.6 MB/s eta 0:00:01\n",
      "     ------------------------------           1.6/2.1 MB 5.2 MB/s eta 0:00:01\n",
      "     -----------------------------------      1.9/2.1 MB 5.2 MB/s eta 0:00:01\n",
      "     ---------------------------------------  2.1/2.1 MB 5.2 MB/s eta 0:00:01\n",
      "     ---------------------------------------  2.1/2.1 MB 5.2 MB/s eta 0:00:01\n",
      "     ---------------------------------------  2.1/2.1 MB 5.2 MB/s eta 0:00:01\n",
      "     ---------------------------------------- 2.1/2.1 MB 4.1 MB/s eta 0:00:00\n",
      "Collecting kiwisolver>=1.0.1 (from matplotlib)\n",
      "  Downloading kiwisolver-1.4.4-cp311-cp311-win_amd64.whl (55 kB)\n",
      "                                              0.0/55.4 kB ? eta -:--:--\n",
      "     ------------------------------------     51.2/55.4 kB ? eta -:--:--\n",
      "     -------------------------------------- 55.4/55.4 kB 716.7 kB/s eta 0:00:00\n",
      "Requirement already satisfied: numpy>=1.20 in c:\\users\\naveen kumar singh\\anaconda3\\lib\\site-packages (from matplotlib) (1.25.2)\n",
      "Requirement already satisfied: packaging>=20.0 in c:\\users\\naveen kumar singh\\anaconda3\\lib\\site-packages (from matplotlib) (23.0)\n",
      "Requirement already satisfied: pillow>=6.2.0 in c:\\users\\naveen kumar singh\\anaconda3\\lib\\site-packages (from matplotlib) (9.4.0)\n",
      "Collecting pyparsing<3.1,>=2.3.1 (from matplotlib)\n",
      "  Downloading pyparsing-3.0.9-py3-none-any.whl (98 kB)\n",
      "                                              0.0/98.3 kB ? eta -:--:--\n",
      "     -------------------------------------    92.2/98.3 kB ? eta -:--:--\n",
      "     ---------------------------------------- 98.3/98.3 kB 1.4 MB/s eta 0:00:00\n",
      "Requirement already satisfied: python-dateutil>=2.7 in c:\\users\\naveen kumar singh\\anaconda3\\lib\\site-packages (from matplotlib) (2.8.2)\n",
      "Requirement already satisfied: six>=1.5 in c:\\users\\naveen kumar singh\\anaconda3\\lib\\site-packages (from python-dateutil>=2.7->matplotlib) (1.16.0)\n",
      "Installing collected packages: pyparsing, kiwisolver, fonttools, cycler, contourpy, matplotlib\n",
      "Successfully installed contourpy-1.1.0 cycler-0.11.0 fonttools-4.42.0 kiwisolver-1.4.4 matplotlib-3.7.2 pyparsing-3.0.9\n"
     ]
    }
   ],
   "source": [
    "!pip install matplotlib"
   ]
  },
  {
   "cell_type": "code",
   "execution_count": 14,
   "id": "1dea2970",
   "metadata": {},
   "outputs": [
    {
     "data": {
      "image/png": "[encoded data removed]",
      "text/plain": [
       "<Figure size 640x480 with 1 Axes>"
      ]
     },
     "metadata": {},
     "output_type": "display_data"
    }
   ],
   "source": [
    "import matplotlib.pyplot as plt\n",
    "import numpy as np\n",
    "\n",
    "expenses = np.array([1000,2000,3000,1000])\n",
    "categories = [\"Travelling\",\"Food\",\"Staying\",\"Saving\"]\n",
    "color = [\"Blue\",\"yellow\",\"red\",\"pink\"]\n",
    "\n",
    "plt.pie(expenses,labels=categories,colors=color)\n",
    "plt.show()"
   ]
  },
  {
   "cell_type": "markdown",
   "id": "3d65c1dc",
   "metadata": {},
   "source": [
    "<h1 style=\"background-color:Tomato;\">34. What is the purpose of the labels and colors parameters in plt.pie()?</h1>\n"
   ]
  },
  {
   "cell_type": "markdown",
   "id": "9b1e1b78",
   "metadata": {},
   "source": [
    "# The purpose of the labels and colors parameters in plt.pie() is to represent our data in a good visualisation manner. It helps to represent our data more precisely to the end user."
   ]
  },
  {
   "cell_type": "markdown",
   "id": "8258f3f9",
   "metadata": {},
   "source": [
    "<h1 style=\"background-color:Tomato;\">35. Provide an example of accessing specific elements of a three-dimensional NumPy array.</h1>\n"
   ]
  },
  {
   "cell_type": "markdown",
   "id": "cf871c62",
   "metadata": {},
   "source": [
    "# Example shown below is to access \"2\"(element) from a 3-D NumPy Array:"
   ]
  },
  {
   "cell_type": "code",
   "execution_count": 15,
   "id": "261a8356",
   "metadata": {},
   "outputs": [
    {
     "data": {
      "text/plain": [
       "2"
      ]
     },
     "execution_count": 15,
     "metadata": {},
     "output_type": "execute_result"
    }
   ],
   "source": [
    "import numpy as np\n",
    "d3_array = np.array([[[0, 1],\n",
    "                       [2, 3]],\n",
    "\n",
    "                      [[4, 5],\n",
    "                       [6, 7]]])\n",
    "# retrieving a single element from a 3D-array\n",
    "d3_array[0, 1, 0]"
   ]
  }
 ],
 "metadata": {
  "kernelspec": {
   "display_name": "Python 3 (ipykernel)",
   "language": "python",
   "name": "python3"
  },
  "language_info": {
   "codemirror_mode": {
    "name": "ipython",
    "version": 3
   },
   "file_extension": ".py",
   "mimetype": "text/x-python",
   "name": "python",
   "nbconvert_exporter": "python",
   "pygments_lexer": "ipython3",
   "version": "3.11.3"
  }
 },
 "nbformat": 4,
 "nbformat_minor": 5
}
