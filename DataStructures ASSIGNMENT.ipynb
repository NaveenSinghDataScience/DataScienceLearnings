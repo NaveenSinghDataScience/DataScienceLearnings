{
 "cells": [
  {
   "cell_type": "markdown",
   "id": "4a0fdb7d",
   "metadata": {},
   "source": [
    "# LISTS:\n"
   ]
  },
  {
   "cell_type": "code",
   "execution_count": 1,
   "id": "2e218b8d",
   "metadata": {},
   "outputs": [
    {
     "name": "stdout",
     "output_type": "stream",
     "text": [
      "[]\n"
     ]
    }
   ],
   "source": [
    "a=[]\n",
    "print(a)"
   ]
  },
  {
   "cell_type": "code",
   "execution_count": 2,
   "id": "d9916b90",
   "metadata": {},
   "outputs": [
    {
     "name": "stdout",
     "output_type": "stream",
     "text": [
      "OldList= ['Pradeep', 'Pramod', 'Saloni']\n",
      "NewList= ['Pradeep', 'Pramod', 'Saloni', 'Naveen']\n"
     ]
    }
   ],
   "source": [
    "name=[\"Pradeep\",\"Pramod\",\"Saloni\"]\n",
    "print(\"OldList=\",name)\n",
    "name.append(\"Naveen\")\n",
    "print(\"NewList=\",name)"
   ]
  },
  {
   "cell_type": "code",
   "execution_count": 3,
   "id": "226c4d7a",
   "metadata": {},
   "outputs": [
    {
     "name": "stdout",
     "output_type": "stream",
     "text": [
      "FirstList= ['Mumbai', 'Bengaluru', 'Patna', 'Delhi', 'Pune']\n",
      "NewList= ['Mumbai', 'Bengaluru', 'Delhi', 'Pune']\n"
     ]
    }
   ],
   "source": [
    "cities= [\"Mumbai\",\"Bengaluru\",\"Patna\",\"Delhi\",\"Pune\"]\n",
    "print(\"FirstList=\",cities)\n",
    "cities.remove(\"Patna\")\n",
    "print(\"NewList=\",cities)"
   ]
  },
  {
   "cell_type": "code",
   "execution_count": 4,
   "id": "bd199e20",
   "metadata": {},
   "outputs": [
    {
     "name": "stdout",
     "output_type": "stream",
     "text": [
      "Python\n"
     ]
    }
   ],
   "source": [
    "programs=[\"Java\",\"HTML\",\"Python\",\"C#\",\"C++\",\"C\"]\n",
    "print(programs[2])"
   ]
  },
  {
   "cell_type": "code",
   "execution_count": 5,
   "id": "52323b5d",
   "metadata": {},
   "outputs": [
    {
     "name": "stdout",
     "output_type": "stream",
     "text": [
      "THE LENGTH OF THE LIST IS 6\n"
     ]
    }
   ],
   "source": [
    "programs=[\"Java\",\"HTML\",\"Python\",\"C#\",\"C++\",\"C\"]\n",
    "print(\"THE LENGTH OF THE LIST IS\",len(programs))"
   ]
  },
  {
   "cell_type": "code",
   "execution_count": 6,
   "id": "a26e4806",
   "metadata": {},
   "outputs": [
    {
     "name": "stdout",
     "output_type": "stream",
     "text": [
      "Check if 34 is in [9, 2, 34, 2, 5, 9, 16]\n",
      "34 IS PRESENT IN THE LIST\n"
     ]
    }
   ],
   "source": [
    "list=[9, 2, 34, 2, 5, 9, 16]\n",
    "element= 34\n",
    "\n",
    "print(\"Check if\",element,\"is in\",list)\n",
    "print(element,\"IS PRESENT IN THE LIST\")"
   ]
  },
  {
   "cell_type": "code",
   "execution_count": 7,
   "id": "d153e3c8",
   "metadata": {},
   "outputs": [
    {
     "name": "stdout",
     "output_type": "stream",
     "text": [
      "ListA Students \n",
      " ['Arpit', 'Mohit', 'John', 'Rajeev', 'Anil', 'Yusuf']\n",
      "\n",
      "ListB Students \n",
      " ['Amit', 'Naveen', 'Dheeraj', 'Neeraj']\n",
      "\n",
      "Final Students \n",
      " ['Arpit', 'Mohit', 'John', 'Rajeev', 'Anil', 'Yusuf', 'Amit', 'Naveen', 'Dheeraj', 'Neeraj']\n"
     ]
    }
   ],
   "source": [
    "ListA = [\"Arpit\",\"Mohit\",\"John\",\"Rajeev\",\"Anil\",\"Yusuf\"]\n",
    "ListB = [\"Amit\",\"Naveen\",\"Dheeraj\",\"Neeraj\"]\n",
    "Final = ListA.copy()\n",
    "Final.extend(ListB)\n",
    "\n",
    "print(\"ListA Students \\n\", ListA)\n",
    "print(\"\\nListB Students \\n\", ListB)\n",
    "print(\"\\nFinal Students \\n\", Final)"
   ]
  },
  {
   "cell_type": "code",
   "execution_count": 8,
   "id": "5cdd99bf",
   "metadata": {},
   "outputs": [
    {
     "name": "stdout",
     "output_type": "stream",
     "text": [
      "90\n"
     ]
    }
   ],
   "source": [
    "a=(10,20,30,40,50,70,90)\n",
    "print(max(a))"
   ]
  },
  {
   "cell_type": "code",
   "execution_count": 8,
   "id": "ba17026b",
   "metadata": {},
   "outputs": [
    {
     "name": "stdout",
     "output_type": "stream",
     "text": [
      "10\n"
     ]
    }
   ],
   "source": [
    "a=(10,20,30,40,50,70,90)\n",
    "print(min(a))"
   ]
  },
  {
   "cell_type": "code",
   "execution_count": 8,
   "id": "a25d4b5d",
   "metadata": {},
   "outputs": [
    {
     "name": "stdout",
     "output_type": "stream",
     "text": [
      "THE HIGHEST VALUE IN LIST is 90\n",
      "THE LOWEST VALUE IN LIST is 10\n"
     ]
    }
   ],
   "source": [
    "a=(10,20,30,40,50,70,90)\n",
    "print(\"THE HIGHEST VALUE IN LIST is\",max(a))\n",
    "print(\"THE LOWEST VALUE IN LIST is\",min(a))"
   ]
  },
  {
   "cell_type": "code",
   "execution_count": 9,
   "id": "ffd30439",
   "metadata": {},
   "outputs": [
    {
     "name": "stdout",
     "output_type": "stream",
     "text": [
      "Enter the name WHOSE OCCURENCE NUMBERS to be counted IN THE LIST: POOJA\n",
      "POOJA IS OCCURING 3 TIMES IN THE LIST\n"
     ]
    }
   ],
   "source": [
    "LIST1 =[\"ABHISHEK\",\"POOJA\",\"MATHEWS\",\"RAMESH\",\"POOJA\",\"ANUJ\",\"POOJA\"]\n",
    "\n",
    "inp = input(\"Enter the name WHOSE OCCURENCE NUMBERS to be counted IN THE LIST: \")\n",
    "\n",
    "res=LIST1.count(inp)\n",
    "\n",
    "print(inp,\"IS OCCURING\",res,\"TIMES IN THE LIST\")"
   ]
  },
  {
   "cell_type": "code",
   "execution_count": 9,
   "id": "212e6f91",
   "metadata": {},
   "outputs": [
    {
     "name": "stdout",
     "output_type": "stream",
     "text": [
      "Enter the name WHOSE OCCURENCE NUMBERS to be counted IN THE LIST: MATHEWS\n",
      "MATHEWS IS OCCURING 1 TIME IN THE LIST\n"
     ]
    }
   ],
   "source": [
    "LIST1 =[\"ABHISHEK\",\"POOJA\",\"MATHEWS\",\"RAMESH\",\"POOJA\",\"ANUJ\",\"POOJA\"]\n",
    "\n",
    "inp = input(\"Enter the name WHOSE OCCURENCE NUMBERS to be counted IN THE LIST: \")\n",
    "\n",
    "res=LIST1.count(inp)\n",
    "\n",
    "print(inp,\"IS OCCURING\",res,\"TIME IN THE LIST\")"
   ]
  },
  {
   "cell_type": "code",
   "execution_count": 10,
   "id": "1a69c22c",
   "metadata": {},
   "outputs": [
    {
     "name": "stdout",
     "output_type": "stream",
     "text": [
      "Existing list ['DATA SCIENCE', 'FOR', 'IMPORTANT', 'IS', 'PYTHON']\n",
      "After reversing all elements\n",
      "['PYTHON', 'IS', 'IMPORTANT', 'FOR', 'DATA SCIENCE']\n"
     ]
    }
   ],
   "source": [
    "list = [\"DATA SCIENCE\",\"FOR\", \"IMPORTANT\", \"IS\",\"PYTHON\"]\n",
    "print(\"Existing list\",list)\n",
    "list.reverse()\n",
    "print(\"After reversing all elements\")\n",
    "print(list)"
   ]
  },
  {
   "cell_type": "code",
   "execution_count": 11,
   "id": "008499fe",
   "metadata": {},
   "outputs": [
    {
     "name": "stdout",
     "output_type": "stream",
     "text": [
      "[10, 30, 50, 70, 90]\n"
     ]
    }
   ],
   "source": [
    "list= [90,70,50,30,10]\n",
    "list.sort()\n",
    "print(list)"
   ]
  },
  {
   "cell_type": "code",
   "execution_count": 12,
   "id": "e6e6f388",
   "metadata": {},
   "outputs": [
    {
     "name": "stdout",
     "output_type": "stream",
     "text": [
      "The list is:  [11, 15, 13, 16, 13, 15, 16, 11]\n",
      "The list after removing duplicates:  {16, 11, 13, 15}\n"
     ]
    }
   ],
   "source": [
    "sam_list = [11, 15, 13, 16, 13, 15, 16, 11] \n",
    "print (\"The list is: \", sam_list) \n",
    "sam_list = set(sam_list) \n",
    "print (\"The list after removing duplicates: \", set(sam_list))"
   ]
  },
  {
   "cell_type": "code",
   "execution_count": 13,
   "id": "68dd4b5a",
   "metadata": {},
   "outputs": [
    {
     "name": "stdout",
     "output_type": "stream",
     "text": [
      "Enter lower limit 0\n",
      "Enter upper limit 30\n",
      "odd numbers in the range are\n",
      "1 3 5 7 9 11 13 15 17 19 21 23 25 27 29 "
     ]
    }
   ],
   "source": [
    "ll=int(input(\"Enter lower limit \"))\n",
    "ul=int(input(\"Enter upper limit \"))\n",
    "\n",
    "print(\"odd numbers in the range are\")\n",
    "\n",
    "for i in range(ll,ul):\n",
    "    if i%2!=0:\n",
    "        print(i,end=\" \")"
   ]
  },
  {
   "cell_type": "code",
   "execution_count": 14,
   "id": "f1952034",
   "metadata": {},
   "outputs": [
    {
     "name": "stdout",
     "output_type": "stream",
     "text": [
      "[1, 2, 3, 4, 5]\n",
      "MULTIPLYING EACH ELEMENT IN LIST WITH SPECIFIC FACTOR 3 THE RESULT IS: [1, 8, 27, 64, 125]\n"
     ]
    }
   ],
   "source": [
    "my_list = [1, 2, 3, 4, 5]\n",
    "print(my_list)\n",
    "my_new_list = [i ** 3 for i in my_list]\n",
    "\n",
    "print(\"MULTIPLYING EACH ELEMENT IN LIST WITH SPECIFIC FACTOR 3 THE RESULT IS:\",my_new_list)"
   ]
  },
  {
   "cell_type": "code",
   "execution_count": 15,
   "id": "2eb72f73",
   "metadata": {},
   "outputs": [
    {
     "name": "stdout",
     "output_type": "stream",
     "text": [
      "THE LIST OF TOTAL VALUES===> [100, 75, 100, 20, 75, 12, 75, 25]\n",
      "The unique elements of the input list:\n",
      "\n",
      "100\n",
      "75\n",
      "12\n",
      "20\n",
      "25\n"
     ]
    }
   ],
   "source": [
    "list_inp = [100, 75, 100, 20, 75, 12, 75, 25] \n",
    "print(\"THE LIST OF TOTAL VALUES===>\",list_inp)\n",
    "\n",
    "set_res = set(list_inp) \n",
    "print(\"The unique elements of the input list:\\n\") \n",
    "list_res = (list(set_res))\n",
    " \n",
    "for item in list_res: \n",
    "    print(item)"
   ]
  },
  {
   "cell_type": "markdown",
   "id": "77916388",
   "metadata": {},
   "source": [
    "<h1 style=\"background-color:DodgerBlue;\">TUPLES</h1>"
   ]
  },
  {
   "cell_type": "code",
   "execution_count": 16,
   "id": "a85359f5",
   "metadata": {},
   "outputs": [
    {
     "name": "stdout",
     "output_type": "stream",
     "text": [
      "SPECIES = ('ANIMAL', 'HUMAN', 'BIRDS')\n",
      "THE LIST CONTAINS 3 ELEMENTS\n",
      "THE TYPE OF LIST IS: <class 'tuple'>\n"
     ]
    }
   ],
   "source": [
    "species=(\"ANIMAL\",\"HUMAN\",\"BIRDS\")\n",
    "print(\"SPECIES\",\"=\",species)\n",
    "print(\"THE LIST CONTAINS\",len(species),\"ELEMENTS\")\n",
    "print(\"THE TYPE OF LIST IS:\",type(species))"
   ]
  },
  {
   "cell_type": "code",
   "execution_count": 17,
   "id": "75bb9e73",
   "metadata": {},
   "outputs": [
    {
     "name": "stdout",
     "output_type": "stream",
     "text": [
      "mumbai\n"
     ]
    }
   ],
   "source": [
    "india=(\"delhi\",\"mumbai\",\"pune\")\n",
    "print(india[1])"
   ]
  },
  {
   "cell_type": "code",
   "execution_count": 18,
   "id": "972489a7",
   "metadata": {},
   "outputs": [
    {
     "name": "stdout",
     "output_type": "stream",
     "text": [
      "Enter the name WHOSE OCCURENCE to be CHECK IN THE LIST: CALCULUS\n",
      "SORRY THE GIVEN INPUT IS NOT PRESENT IN TUPLE\n"
     ]
    }
   ],
   "source": [
    "x = (\"NUMBER SYSTEM\",\"ALGEBRA\",\"TRIGNOMETRY\",\"GEOMETRY\")\n",
    "inp = input(\"Enter the name WHOSE OCCURENCE to be CHECK IN THE LIST: \")\n",
    "if inp in x:\n",
    "    print(\"PRESENT IN TUPLE\")\n",
    "if inp not in x:\n",
    "    print(\"SORRY THE GIVEN INPUT IS NOT PRESENT IN TUPLE\")"
   ]
  },
  {
   "cell_type": "code",
   "execution_count": 18,
   "id": "5dad4fa6",
   "metadata": {},
   "outputs": [
    {
     "name": "stdout",
     "output_type": "stream",
     "text": [
      "Enter the name WHOSE OCCURENCE to be CHECK IN THE LIST: ALGEBRA\n",
      "THE DATABASE LIST is <class 'tuple'>\n",
      "YOUR GIVEN INPUT IS PRESENT IN TUPLE\n"
     ]
    }
   ],
   "source": [
    "x = (\"NUMBER SYSTEM\",\"ALGEBRA\",\"TRIGNOMETRY\",\"GEOMETRY\")\n",
    "inp = input(\"Enter the name WHOSE OCCURENCE to be CHECK IN THE LIST: \")\n",
    "print(\"THE DATABASE LIST is\",type(x))\n",
    "if inp in x:\n",
    "    print(\"YOUR GIVEN INPUT IS PRESENT IN TUPLE\")\n",
    "if inp not in x:\n",
    "    print(\"SORRY THE GIVEN INPUT IS NOT PRESENT IN TUPLE\")"
   ]
  },
  {
   "cell_type": "code",
   "execution_count": 19,
   "id": "e7bc04e1",
   "metadata": {},
   "outputs": [
    {
     "name": "stdout",
     "output_type": "stream",
     "text": [
      "('DOG', 'CAT', 'FISH', 'COW', 'BUFFALO')\n",
      "THIS IS <class 'tuple'>\n",
      "['DOG', 'CAT', 'FISH', 'COW', 'BUFFALO']\n",
      "THIS IS <class 'list'>\n"
     ]
    }
   ],
   "source": [
    "pets=(\"DOG\",\"CAT\",\"FISH\",\"COW\",\"BUFFALO\")\n",
    "print(pets)\n",
    "print(\"THIS IS\",type(pets))\n",
    "animals=list(pets)\n",
    "print(animals)\n",
    "print(\"THIS IS\",type(animals))"
   ]
  },
  {
   "cell_type": "code",
   "execution_count": 20,
   "id": "199692a3",
   "metadata": {},
   "outputs": [
    {
     "name": "stdout",
     "output_type": "stream",
     "text": [
      "CAR NAMES==> ('VERNA', 'ION', 'HONDA CITY')\n",
      "BIKE NAMES==> ('PASSION', 'PULSAR', 'KARIZMA')\n",
      "THE RESULT OF JOINING ABOVE TWO TUPLES: ('VERNA', 'ION', 'HONDA CITY', 'PASSION', 'PULSAR', 'KARIZMA')\n"
     ]
    }
   ],
   "source": [
    "cars= (\"VERNA\",\"ION\",\"HONDA CITY\")\n",
    "bikes= (\"PASSION\",\"PULSAR\",\"KARIZMA\")\n",
    "print(\"CAR NAMES==>\",cars)\n",
    "print(\"BIKE NAMES==>\",bikes)\n",
    "vehicles= cars+bikes\n",
    "print(\"THE RESULT OF JOINING ABOVE TWO TUPLES:\",vehicles)"
   ]
  },
  {
   "cell_type": "code",
   "execution_count": 21,
   "id": "4225c1a1",
   "metadata": {},
   "outputs": [
    {
     "name": "stdout",
     "output_type": "stream",
     "text": [
      "THE INDEX OF SPECIFIC ELEMENT 'e' IN TUPLE 'vowels' is 1\n"
     ]
    }
   ],
   "source": [
    "vowels = ('a', 'e', 'i', 'o', 'u')\n",
    "index = vowels.index('e')\n",
    "print(\"THE INDEX OF SPECIFIC ELEMENT 'e' IN TUPLE 'vowels' is\",index)"
   ]
  },
  {
   "cell_type": "code",
   "execution_count": 22,
   "id": "cfd0a429",
   "metadata": {},
   "outputs": [
    {
     "name": "stdout",
     "output_type": "stream",
     "text": [
      "THE TUPLE IS ('MANIT Bhopal', 5000, 'Engineering')\n",
      "AFTER UNPACKING THE ELEMENTS OF TUPLE,THE RESULT IS:\n",
      "THE NAME OF COLLEGE IS: MANIT Bhopal\n",
      "THE NUMBER OF STUDENTS STUDYING IN THE COLLEGE IS: 5000\n",
      "IT IS AN Engineering COLLEGE\n"
     ]
    }
   ],
   "source": [
    "institute = (\"MANIT Bhopal\", 5000, \"Engineering\")\n",
    "print(\"THE TUPLE IS\",institute)\n",
    "print(\"AFTER UNPACKING THE ELEMENTS OF TUPLE,THE RESULT IS:\")\n",
    "(college, student, type_ofcollege) = institute\n",
    "print(\"THE NAME OF COLLEGE IS:\",college)\n",
    "print(\"THE NUMBER OF STUDENTS STUDYING IN THE COLLEGE IS:\",student)\n",
    "print(\"IT IS AN\",type_ofcollege,\"COLLEGE\")"
   ]
  },
  {
   "cell_type": "code",
   "execution_count": 23,
   "id": "f122608f",
   "metadata": {},
   "outputs": [
    {
     "name": "stdout",
     "output_type": "stream",
     "text": [
      "[1, 2, 3, 4]\n",
      "AFTER CONVERTING THE ABOVE LIST INTO TUPLE,THE RESULT IS: (1, 2, 3, 4)\n"
     ]
    }
   ],
   "source": [
    "def convert(list):\n",
    "    return tuple(list)\n",
    "list = [1, 2, 3, 4]\n",
    "print(list)\n",
    "print(\"AFTER CONVERTING THE ABOVE LIST INTO TUPLE,THE RESULT IS:\",convert(list))"
   ]
  },
  {
   "cell_type": "code",
   "execution_count": 24,
   "id": "cb473201",
   "metadata": {},
   "outputs": [
    {
     "name": "stdout",
     "output_type": "stream",
     "text": [
      "THIS IS AN OUTPUT OF SINGLE ELEMENT NESTED TUPLE: ((10, 'NAVEEN', 130000),)\n"
     ]
    }
   ],
   "source": [
    "employee = ((10, \"NAVEEN\", 130000),)  \n",
    "print(\"THIS IS AN OUTPUT OF SINGLE ELEMENT NESTED TUPLE:\",employee)"
   ]
  },
  {
   "cell_type": "code",
   "execution_count": 25,
   "id": "3e167769",
   "metadata": {},
   "outputs": [
    {
     "name": "stdout",
     "output_type": "stream",
     "text": [
      "Enter the first number :11111\n",
      "Enter the second number :99999\n",
      "a= 11111 b= 99999\n",
      "a= 99999 b= 11111\n",
      "ABOVE EXAMPLE SHOWS SWAPING THE VALUES OF TWO VARIABLES USING TUPLE\n"
     ]
    }
   ],
   "source": [
    "a=int(input(\"Enter the first number :\"))\n",
    "b=int(input(\"Enter the second number :\"))\n",
    "print (\"a=\",a, \"b=\",b)\n",
    "(a,b)=(b,a)\n",
    "print(\"a=\",a, \"b=\",b)\n",
    "print(\"ABOVE EXAMPLE SHOWS SWAPING THE VALUES OF TWO VARIABLES USING TUPLE\")"
   ]
  },
  {
   "cell_type": "markdown",
   "id": "a79a92a5",
   "metadata": {},
   "source": [
    "<h1 style=\"border:2px solid Tomato;\">DICTIONARIES</h1>"
   ]
  },
  {
   "cell_type": "code",
   "execution_count": 26,
   "id": "85aed4e9",
   "metadata": {},
   "outputs": [
    {
     "name": "stdout",
     "output_type": "stream",
     "text": [
      "The empty dictionary is created using curly braces==>  {}\n",
      "<class 'dict'>\n"
     ]
    }
   ],
   "source": [
    "dict1 = {}\n",
    "print(\"The empty dictionary is created using curly braces==> \",dict1)\n",
    "print(type(dict1))"
   ]
  },
  {
   "cell_type": "code",
   "execution_count": 27,
   "id": "e91c3dfc",
   "metadata": {},
   "outputs": [
    {
     "name": "stdout",
     "output_type": "stream",
     "text": [
      "The dictionary created using curly braces==>  {}\n",
      "The dictionary after appending the key and value==>  {'a': 10}\n",
      "<class 'dict'>\n"
     ]
    }
   ],
   "source": [
    "dict1 = {}\n",
    "print(\"The dictionary created using curly braces==> \",dict1)\n",
    "dict1['a'] = 10\n",
    "print(\"The dictionary after appending the key and value==> \",dict1)\n",
    "print(type(dict1))"
   ]
  },
  {
   "cell_type": "code",
   "execution_count": 28,
   "id": "69d0428b",
   "metadata": {},
   "outputs": [
    {
     "name": "stdout",
     "output_type": "stream",
     "text": [
      "Original dictionary is : {'TOPMENTOR': 1, 'for': 2, 'DATA SCIENCE': 3}\n",
      "Dict key-value are : \n",
      "[('TOPMENTOR', 1), ('for', 2), ('DATA SCIENCE', 3)]\n"
     ]
    }
   ],
   "source": [
    "test_dict = {\"TOPMENTOR\": 1, \"for\": 2, \"DATA SCIENCE\": 3}\n",
    "print(\"Original dictionary is : \" + str(test_dict))\n",
    "print(\"Dict key-value are : \")\n",
    "print([(k, test_dict[k]) for k in test_dict])"
   ]
  },
  {
   "cell_type": "code",
   "execution_count": 29,
   "id": "5e2197ef",
   "metadata": {},
   "outputs": [
    {
     "name": "stdout",
     "output_type": "stream",
     "text": [
      "Key exists\n"
     ]
    }
   ],
   "source": [
    "Fruits = {'a': \"Apple\", 'b':\"Banana\", 'c':\"Carrot\"}\n",
    "key_to_lookup = 'a'\n",
    "if key_to_lookup in Fruits:\n",
    "    print(\"Key exists\")\n",
    "else:\n",
    "    print (\"Key does not exist\")"
   ]
  },
  {
   "cell_type": "code",
   "execution_count": 29,
   "id": "8d4e468a",
   "metadata": {},
   "outputs": [
    {
     "name": "stdout",
     "output_type": "stream",
     "text": [
      "Key does not exist\n"
     ]
    }
   ],
   "source": [
    "Fruits = {'a': \"Apple\", 'b':\"Banana\", 'c':\"Carrot\"}\n",
    "key_to_lookup = 'd'\n",
    "if key_to_lookup in Fruits:\n",
    "    print(\"Key exists\")\n",
    "else:\n",
    "    print (\"Key does not exist\")"
   ]
  },
  {
   "cell_type": "code",
   "execution_count": 30,
   "id": "38edbfce",
   "metadata": {},
   "outputs": [
    {
     "name": "stdout",
     "output_type": "stream",
     "text": [
      "The dictionary before performing remove is : {'Gargi': 22, 'Prerna': 22, 'Mani': 21, 'Naveen': 22}\n",
      "The dictionary after remove is : {'Gargi': 22, 'Prerna': 22, 'Naveen': 22}\n",
      "The removed key's value is : 21\n"
     ]
    }
   ],
   "source": [
    "test_dict = {\"Gargi\": 22, \"Prerna\": 22, \"Mani\": 21, \"Naveen\": 22}\n",
    "print(\"The dictionary before performing remove is : \" + str(test_dict))\n",
    "removed_value = test_dict.pop('Mani')\n",
    "print(\"The dictionary after remove is : \" + str(test_dict))\n",
    "print(\"The removed key's value is : \" + str(removed_value))"
   ]
  },
  {
   "cell_type": "code",
   "execution_count": 31,
   "id": "dc8e1867",
   "metadata": {},
   "outputs": [
    {
     "name": "stdout",
     "output_type": "stream",
     "text": [
      "THE ORIGINAL DICTIONARY IS==> {10: 'TopMentor', 12: 'Python', 14: 'Codes'}\n",
      "THE OUTPUT FOR GETTING ALL KEYS FROM DICTIONARY is:\n",
      "dict_keys([10, 12, 14])\n"
     ]
    }
   ],
   "source": [
    "demoDictionary = {10: 'TopMentor', 12: 'Python', 14: 'Codes'}\n",
    "print(\"THE ORIGINAL DICTIONARY IS==>\",demoDictionary)\n",
    "print(\"THE OUTPUT FOR GETTING ALL KEYS FROM DICTIONARY is:\")\n",
    "print(demoDictionary.keys())"
   ]
  },
  {
   "cell_type": "code",
   "execution_count": 32,
   "id": "7c9cbbdf",
   "metadata": {},
   "outputs": [
    {
     "name": "stdout",
     "output_type": "stream",
     "text": [
      "THE ORIGINAL DICTIONARY IS==> {'movie': 'SHOLAY', 'year': '1975', 'director': 'RAMESH SIPPY', 'character': 'GABBAR'}\n",
      "THE OUTPUT OF GETTING ALL VALUES IN DICTIONARY IS:\n",
      "SHOLAY\n",
      "1975\n",
      "RAMESH SIPPY\n",
      "GABBAR\n"
     ]
    }
   ],
   "source": [
    "dictionary = {\n",
    "   'movie': 'SHOLAY',\n",
    "   'year': '1975',\n",
    "   'director': 'RAMESH SIPPY',\n",
    "   'character': 'GABBAR'\n",
    "}\n",
    "print(\"THE ORIGINAL DICTIONARY IS==>\",dictionary)\n",
    "print(\"THE OUTPUT OF GETTING ALL VALUES IN DICTIONARY IS:\")\n",
    "for values in dictionary.values():\n",
    "    print(values)"
   ]
  },
  {
   "cell_type": "code",
   "execution_count": 33,
   "id": "36ed44fc",
   "metadata": {},
   "outputs": [
    {
     "name": "stdout",
     "output_type": "stream",
     "text": [
      "List Of given states:\n",
      "\n",
      "Gujarat\n",
      "Maharashtra\n",
      "Rajasthan\n",
      "Bihar\n"
     ]
    }
   ],
   "source": [
    "statesAndCapitals = {\n",
    "'Gujarat': 'Gandhinagar',\n",
    "'Maharashtra': 'Mumbai',\n",
    "'Rajasthan': 'Jaipur',\n",
    "'Bihar': 'Patna'\n",
    "}\n",
    "\n",
    "print('List Of given states:\\n')\n",
    "for state in statesAndCapitals:\n",
    "    print(state)"
   ]
  },
  {
   "cell_type": "code",
   "execution_count": 34,
   "id": "cf4e4e89",
   "metadata": {},
   "outputs": [
    {
     "name": "stdout",
     "output_type": "stream",
     "text": [
      "List Of given capitals:\n",
      "\n",
      "Gandhinagar\n",
      "Mumbai\n",
      "Jaipur\n",
      "Patna\n"
     ]
    }
   ],
   "source": [
    "statesAndCapitals = {\n",
    "'Gujarat': 'Gandhinagar',\n",
    "'Maharashtra': 'Mumbai',\n",
    "'Rajasthan': 'Jaipur',\n",
    "'Bihar': 'Patna'\n",
    "}\n",
    "\n",
    "print('List Of given capitals:\\n')\n",
    "for capital in statesAndCapitals.values():\n",
    "    print(capital)"
   ]
  },
  {
   "cell_type": "code",
   "execution_count": 35,
   "id": "1b58454e",
   "metadata": {},
   "outputs": [
    {
     "name": "stdout",
     "output_type": "stream",
     "text": [
      "Yes, the value 'Naveen' exists in the student dictionary\n"
     ]
    }
   ],
   "source": [
    "student_dictionary = {1: \"Naveen\", 2: \"Abhijeet\", 3: \"Roma\", 4: \"Arpita\"}\n",
    "student_values = student_dictionary.values()\n",
    "\n",
    "if \"Naveen\" in student_values:\n",
    "    print(\"Yes, the value 'Naveen' exists in the student dictionary\")\n",
    "else:\n",
    "    print(\"No, the value 'Naveen' does not exist in the student dictionary\")"
   ]
  },
  {
   "cell_type": "code",
   "execution_count": 35,
   "id": "0f46c4d9",
   "metadata": {},
   "outputs": [
    {
     "name": "stdout",
     "output_type": "stream",
     "text": [
      "No, the value 'Rahul' does not exist in the student dictionary\n"
     ]
    }
   ],
   "source": [
    "student_dictionary = {1: \"Naveen\", 2: \"Abhijeet\", 3: \"Roma\", 4: \"Arpita\"}\n",
    "student_values = student_dictionary.values()\n",
    "\n",
    "if \"Rahul\" in student_values:\n",
    "    print(\"Yes, the value 'Rahul' exists in the student dictionary\")\n",
    "else:\n",
    "    print(\"No, the value 'Rahul' does not exist in the student dictionary\")"
   ]
  },
  {
   "cell_type": "code",
   "execution_count": 36,
   "id": "5440e960",
   "metadata": {},
   "outputs": [
    {
     "name": "stdout",
     "output_type": "stream",
     "text": [
      "dict1====> {'x': 10, 'y': 8}\n",
      "dict2====> {'a': 6, 'b': 4}\n",
      "BY MERGING THE TWO DICTIONARIES THE OUTPUT is:\n",
      "{'x': 10, 'y': 8, 'a': 6, 'b': 4}\n"
     ]
    }
   ],
   "source": [
    "def Merge(dict1, dict2):\n",
    "    for i in dict2.keys():\n",
    "        dict1[i]=dict2[i]\n",
    "    return dict1\n",
    "dict1 = {'x': 10, 'y': 8}\n",
    "dict2 = {'a': 6, 'b': 4}\n",
    "print(\"dict1====>\",dict1)\n",
    "print(\"dict2====>\",dict2)\n",
    "dict3 = Merge(dict1, dict2)\n",
    "print(\"BY MERGING THE TWO DICTIONARIES THE OUTPUT is:\")\n",
    "print(dict3)"
   ]
  },
  {
   "cell_type": "code",
   "execution_count": 37,
   "id": "8df2dceb",
   "metadata": {},
   "outputs": [
    {
     "name": "stdout",
     "output_type": "stream",
     "text": [
      "Dictionary before removing elements:\n",
      "{'companyname': 'TopMentor', 'tagline': 'simple and easy learning with job assistance'}\n",
      "\n",
      "Dictionary after removing elements from it\n",
      "{}\n"
     ]
    }
   ],
   "source": [
    "this_dict = {\n",
    "\"companyname\": \"TopMentor\",\n",
    "\"tagline\" : \"simple and easy learning with job assistance\",\n",
    "}\n",
    "print(\"Dictionary before removing elements:\")\n",
    "print(this_dict)\n",
    "this_dict={}\n",
    "print()\n",
    "print(\"Dictionary after removing elements from it\")\n",
    "print(this_dict)"
   ]
  },
  {
   "cell_type": "code",
   "execution_count": 38,
   "id": "895aa062",
   "metadata": {},
   "outputs": [
    {
     "name": "stdout",
     "output_type": "stream",
     "text": [
      "THE DICTIONARY====> {1: 'Rahul', 2: 'Abhijeet', 3: 'Roma', 4: 'Arpita'}\n",
      "THE LENGTH OF THE DICTIONARY IS======> 4\n"
     ]
    }
   ],
   "source": [
    "student_dictionary = {1: \"Rahul\", 2: \"Abhijeet\", 3: \"Roma\", 4: \"Arpita\"}\n",
    "print(\"THE DICTIONARY====>\",student_dictionary)\n",
    "print(\"THE LENGTH OF THE DICTIONARY IS======>\",len(student_dictionary))"
   ]
  },
  {
   "cell_type": "code",
   "execution_count": 39,
   "id": "0d609099",
   "metadata": {},
   "outputs": [
    {
     "name": "stdout",
     "output_type": "stream",
     "text": [
      "Below is the output to Print a dictionary where the keys are numbers between 1 and 15 and the values are square of keys\n",
      "\n",
      "\n",
      "{1: 1, 2: 4, 3: 9, 4: 16, 5: 25, 6: 36, 7: 49, 8: 64, 9: 81, 10: 100, 11: 121, 12: 144, 13: 169, 14: 196, 15: 225}\n"
     ]
    }
   ],
   "source": [
    "d=dict()\n",
    "print(\"Below is the output to Print a dictionary where the keys are numbers between 1 and 15 and the values are square of keys\")\n",
    "print()\n",
    "print()\n",
    "for x in range(1,16):\n",
    "    d[x]=x**2\n",
    "print(d)"
   ]
  },
  {
   "cell_type": "markdown",
   "id": "cd7d6d39",
   "metadata": {},
   "source": [
    "<h1 style=\"background-color:Tomato;\">SETS</h1>"
   ]
  },
  {
   "cell_type": "code",
   "execution_count": 40,
   "id": "523c97d8",
   "metadata": {},
   "outputs": [
    {
     "name": "stdout",
     "output_type": "stream",
     "text": [
      "THIS IS THE OUTPUT OF an EMPTY SET====> set()\n",
      "THE LENGTH OF THE SET IS: 0\n",
      "set() is <class 'set'>\n"
     ]
    }
   ],
   "source": [
    "myset=set()\n",
    "print(\"THIS IS THE OUTPUT OF an EMPTY SET====>\",myset)\n",
    "print(\"THE LENGTH OF THE SET IS:\",len(myset))\n",
    "print(myset,\"is\",type(myset))"
   ]
  },
  {
   "cell_type": "code",
   "execution_count": 41,
   "id": "6903388a",
   "metadata": {},
   "outputs": [
    {
     "name": "stdout",
     "output_type": "stream",
     "text": [
      "EMPTY SET=====> set()\n",
      "set() is <class 'set'>\n",
      "AFTER ADDING AN ITEM 'orange' TO EMPTY SET THE OUTPUT IS:\n",
      "{'orange'}\n",
      "{'orange'} is <class 'set'>\n"
     ]
    }
   ],
   "source": [
    "thisset = set()\n",
    "print(\"EMPTY SET=====>\",thisset)\n",
    "print(thisset,\"is\",type(thisset))\n",
    "print(\"AFTER ADDING AN ITEM 'orange' TO EMPTY SET THE OUTPUT IS:\")\n",
    "thisset.add(\"orange\")\n",
    "\n",
    "print(thisset)\n",
    "print(thisset,\"is\",type(thisset))"
   ]
  },
  {
   "cell_type": "code",
   "execution_count": 42,
   "id": "b6825db7",
   "metadata": {},
   "outputs": [
    {
     "name": "stdout",
     "output_type": "stream",
     "text": [
      "THE ORIGINAL SET====> {'TABLET', 'LAPTOP', 'MOBILE'}\n",
      "AFTER REMOVING 'TABLET' FROM THE ABOVE SET THE OUTPUT IS:\n",
      "{'LAPTOP', 'MOBILE'}\n"
     ]
    }
   ],
   "source": [
    "thisset = {\"LAPTOP\", \"TABLET\", \"MOBILE\"}\n",
    "print(\"THE ORIGINAL SET====>\",thisset)\n",
    "\n",
    "print(\"AFTER REMOVING 'TABLET' FROM THE ABOVE SET THE OUTPUT IS:\")\n",
    "\n",
    "thisset.remove(\"TABLET\")\n",
    "\n",
    "print(thisset)"
   ]
  },
  {
   "cell_type": "code",
   "execution_count": 43,
   "id": "a966ac34",
   "metadata": {},
   "outputs": [
    {
     "name": "stdout",
     "output_type": "stream",
     "text": [
      "CHECKING IF 'BANANA' IS PRESENT IN THE SET,THE OUTPUT is:\n",
      "True\n",
      "CHECKING IF 'TOMATO' IS PRESENT IN THE SET,THE OUTPUT is:\n",
      "False\n"
     ]
    }
   ],
   "source": [
    "my_set = {\"apple\", \"banana\", \"strawberry\"}\n",
    "print(\"CHECKING IF 'BANANA' IS PRESENT IN THE SET,THE OUTPUT is:\")\n",
    "\n",
    "print(\"banana\" in my_set)\n",
    "print(\"CHECKING IF 'TOMATO' IS PRESENT IN THE SET,THE OUTPUT is:\")\n",
    "print(\"TOMATO\" in my_set)"
   ]
  },
  {
   "cell_type": "code",
   "execution_count": 44,
   "id": "79045909",
   "metadata": {},
   "outputs": [
    {
     "name": "stdout",
     "output_type": "stream",
     "text": [
      "{3, 4}\n"
     ]
    }
   ],
   "source": [
    "s1 = {1,2,3,4}\n",
    "s2 = {3,4,5,6}\n",
    "print(s1.intersection(s2))"
   ]
  },
  {
   "attachments": {
    "image.png": {
     "image/png": "[encoded data removed]"
    }
   },
   "cell_type": "markdown",
   "id": "00d26256",
   "metadata": {},
   "source": [
    "![image.png](attachment:image.png)"
   ]
  },
  {
   "cell_type": "code",
   "execution_count": 45,
   "id": "52b9f9f7",
   "metadata": {},
   "outputs": [
    {
     "name": "stdout",
     "output_type": "stream",
     "text": [
      "A U B: {2, 4, 5, 6, 7, 8}\n"
     ]
    }
   ],
   "source": [
    "A = {2, 4, 5, 6}\n",
    "B = {4, 6, 7, 8}\n",
    "\n",
    "print(\"A U B:\", A.union(B))"
   ]
  },
  {
   "cell_type": "code",
   "execution_count": 46,
   "id": "06ffe5a2",
   "metadata": {},
   "outputs": [
    {
     "name": "stdout",
     "output_type": "stream",
     "text": [
      "THE OUTPUT OF 'A-B' IS====> {10, 20}\n",
      "THE OUTPUT OF 'B-A' IS====> {100, 60}\n"
     ]
    }
   ],
   "source": [
    "A = {10, 20, 30, 40, 80}\n",
    "B = {100, 30, 80, 40, 60}\n",
    "print (\"THE OUTPUT OF 'A-B' IS====>\",A.difference(B))\n",
    "print (\"THE OUTPUT OF 'B-A' IS====>\",B.difference(A))\n"
   ]
  },
  {
   "attachments": {
    "image.png": {
     "image/png": "[encoded data removed]"
    }
   },
   "cell_type": "markdown",
   "id": "521655c5",
   "metadata": {},
   "source": [
    "![image.png](attachment:image.png)"
   ]
  },
  {
   "cell_type": "code",
   "execution_count": 47,
   "id": "3a32c3c9",
   "metadata": {},
   "outputs": [
    {
     "name": "stdout",
     "output_type": "stream",
     "text": [
      "{1, 2, 3, 4, 5, 6}\n",
      "{4, 5, 6}\n",
      "CHECKING IF B IS A SUBSET OF SET A,THE OUTPUT IS:\n",
      "THE CONDITION 'B' IS 'SUBSET' OF 'A' IS True\n"
     ]
    }
   ],
   "source": [
    "A = {1,2,3,4,5,6}\n",
    "B = {4,5,6}\n",
    "print(A)\n",
    "print(B)\n",
    "print(\"CHECKING IF B IS A SUBSET OF SET A,THE OUTPUT IS:\")\n",
    "print(\"THE CONDITION 'B' IS 'SUBSET' OF 'A' IS\",B.issubset(A))"
   ]
  },
  {
   "attachments": {
    "image.png": {
     "image/png": "[encoded data removed]"
    }
   },
   "cell_type": "markdown",
   "id": "b2ca5cfd",
   "metadata": {},
   "source": [
    "![image.png](attachment:image.png)"
   ]
  },
  {
   "cell_type": "code",
   "execution_count": 48,
   "id": "a126e66c",
   "metadata": {},
   "outputs": [
    {
     "name": "stdout",
     "output_type": "stream",
     "text": [
      "THE ORIGINAL SET====> {'LAPTOP', 'DESKTOP', 'MOBILE'}\n",
      "AFTER REMOVING ALL ITEMS FROM THE SET,THE OUTPUT IS:\n",
      "set()\n"
     ]
    }
   ],
   "source": [
    "computer = {\"DESKTOP\", \"MOBILE\", \"LAPTOP\"}\n",
    "print(\"THE ORIGINAL SET====>\",computer)\n",
    "computer.clear()\n",
    "print(\"AFTER REMOVING ALL ITEMS FROM THE SET,THE OUTPUT IS:\")\n",
    "\n",
    "print(computer)"
   ]
  },
  {
   "cell_type": "code",
   "execution_count": 49,
   "id": "3140649e",
   "metadata": {},
   "outputs": [
    {
     "name": "stdout",
     "output_type": "stream",
     "text": [
      "LIST====> [1, 2, 3, 4, 5, 6]\n",
      "<class 'list'>\n",
      "AFTER CONVERTING THE ABOVE LIST INTO SET THE OUTPUT IS:\n",
      "SET====> {1, 2, 3, 4, 5, 6}\n",
      "<class 'set'>\n"
     ]
    }
   ],
   "source": [
    "a=[1,2,3,4,5,6]\n",
    "print(\"LIST====>\",a)\n",
    "print(type(a))\n",
    "print(\"AFTER CONVERTING THE ABOVE LIST INTO SET THE OUTPUT IS:\")\n",
    "b=set(a)\n",
    "print(\"SET====>\",b)\n",
    "print(type(b))"
   ]
  },
  {
   "cell_type": "code",
   "execution_count": 50,
   "id": "541af852",
   "metadata": {},
   "outputs": [
    {
     "name": "stdout",
     "output_type": "stream",
     "text": [
      "SET====> {1, 2, 3, 4, 5, 6}\n",
      "<class 'set'>\n",
      "AFTER CONVERTING THE ABOVE SET INTO LIST THE OUTPUT IS:\n",
      "LIST====> [1, 2, 3, 4, 5, 6]\n",
      "<class 'list'>\n"
     ]
    }
   ],
   "source": [
    "a={1,2,3,4,5,6}\n",
    "print(\"SET====>\",a)\n",
    "print(type(a))\n",
    "print(\"AFTER CONVERTING THE ABOVE SET INTO LIST THE OUTPUT IS:\")\n",
    "b=list(a)\n",
    "print(\"LIST====>\",b)\n",
    "print(type(b))"
   ]
  },
  {
   "cell_type": "code",
   "execution_count": 51,
   "id": "996a02d3",
   "metadata": {},
   "outputs": [
    {
     "name": "stdout",
     "output_type": "stream",
     "text": [
      "LIST 1====> {80, 1, 20, 5, 40, 10}\n",
      "<class 'set'>\n",
      "LIST 2====> {80, 100, 20, 6, 7}\n",
      "<class 'set'>\n",
      "LIST 3====> {3, 4, 70, 15, 80, 20, 120, 30}\n",
      "<class 'set'>\n",
      "\n",
      "THE COMMON ELEMENTS IN MULTIPLE SETS ARE: [80, 20]\n"
     ]
    }
   ],
   "source": [
    "def find_common(list1, list2, list3):\n",
    "\n",
    "    set1 = set(list1)\n",
    "    set2 = set(list2)\n",
    "    set3 = set(list3)\n",
    "\n",
    "\n",
    "    return [elem for elem in set1 if elem in set2 and elem in set3]\n",
    "\n",
    "list1 = {1, 5, 10, 20, 40, 80}\n",
    "list2 = {6, 7, 20, 80, 100}\n",
    "list3 = {3, 4, 15, 20, 30, 70, 80, 120}\n",
    "print(\"LIST 1====>\",list1)\n",
    "print(type(list1))\n",
    "print(\"LIST 2====>\",list2)\n",
    "print(type(list2))\n",
    "print(\"LIST 3====>\",list3)\n",
    "print(type(list3))\n",
    "print()\n",
    "common = find_common(list1, list2, list3)\n",
    "print(\"THE COMMON ELEMENTS IN MULTIPLE SETS ARE:\",common)\n",
    "\n"
   ]
  },
  {
   "cell_type": "code",
   "execution_count": 52,
   "id": "df4d2756",
   "metadata": {},
   "outputs": [
    {
     "name": "stdout",
     "output_type": "stream",
     "text": [
      "SET ====> {'cherry', 'apple', 'banana'}\n",
      "\n",
      "AFTER ADDING MULTIPLE ITEMS TO THE SET,THE OUTPUT IS: {'apple', 'pineapple', 'mango', 'papaya', 'cherry', 'banana'}\n"
     ]
    }
   ],
   "source": [
    "thisset = {\"apple\", \"banana\", \"cherry\"}\n",
    "tropical = {\"pineapple\", \"mango\", \"papaya\"}\n",
    "print(\"SET ====>\",thisset)\n",
    "print()\n",
    "thisset.update(tropical)\n",
    "\n",
    "print(\"AFTER ADDING MULTIPLE ITEMS TO THE SET,THE OUTPUT IS:\",thisset)"
   ]
  },
  {
   "cell_type": "code",
   "execution_count": 53,
   "id": "ab1f6856",
   "metadata": {},
   "outputs": [
    {
     "name": "stdout",
     "output_type": "stream",
     "text": [
      "SET====> {'cherry', 'apple', 'banana'}\n",
      "BY REMOVING THE DEFINED ELEMENT 'BANANA' FROM THE SET,THE OUTPUT IS:\n",
      "{'cherry', 'apple'}\n",
      "IF WE TRY TO REMOVE THE UNDEFINED ELEMENT 'MANGO' FROM THE SET,THE OUTPUT WILL BE:\n"
     ]
    },
    {
     "ename": "KeyError",
     "evalue": "'mango'",
     "output_type": "error",
     "traceback": [
      "\u001b[1;31m---------------------------------------------------------------------------\u001b[0m",
      "\u001b[1;31mKeyError\u001b[0m                                  Traceback (most recent call last)",
      "Cell \u001b[1;32mIn[53], line 9\u001b[0m\n\u001b[0;32m      6\u001b[0m \u001b[38;5;28mprint\u001b[39m(thisset)\n\u001b[0;32m      8\u001b[0m \u001b[38;5;28mprint\u001b[39m(\u001b[38;5;124m\"\u001b[39m\u001b[38;5;124mIF WE TRY TO REMOVE THE UNDEFINED ELEMENT \u001b[39m\u001b[38;5;124m'\u001b[39m\u001b[38;5;124mMANGO\u001b[39m\u001b[38;5;124m'\u001b[39m\u001b[38;5;124m FROM THE SET,THE OUTPUT WILL BE:\u001b[39m\u001b[38;5;124m\"\u001b[39m)\n\u001b[1;32m----> 9\u001b[0m thisset\u001b[38;5;241m.\u001b[39mremove(\u001b[38;5;124m\"\u001b[39m\u001b[38;5;124mmango\u001b[39m\u001b[38;5;124m\"\u001b[39m)\n",
      "\u001b[1;31mKeyError\u001b[0m: 'mango'"
     ]
    }
   ],
   "source": [
    "thisset = {\"apple\", \"banana\", \"cherry\"}\n",
    "print(\"SET====>\",thisset)\n",
    "print(\"BY REMOVING THE DEFINED ELEMENT 'BANANA' FROM THE SET,THE OUTPUT IS:\")\n",
    "thisset.remove(\"banana\")\n",
    "\n",
    "print(thisset)\n",
    "\n",
    "print(\"IF WE TRY TO REMOVE THE UNDEFINED ELEMENT 'MANGO' FROM THE SET,THE OUTPUT WILL BE:\")\n",
    "thisset.remove(\"mango\")"
   ]
  },
  {
   "cell_type": "code",
   "execution_count": 54,
   "id": "629765cc",
   "metadata": {},
   "outputs": [
    {
     "name": "stdout",
     "output_type": "stream",
     "text": [
      "SET1===> {2, 4, 5, 6}\n",
      "SET2===> {8, 9, 10, 7}\n",
      "SET3===> {1, 2}\n",
      "SET 1 and SET 2 are disjoint True\n",
      "SET 1 and SET 3 are disjoint False\n"
     ]
    }
   ],
   "source": [
    "set1 = {2, 4, 5, 6}\n",
    "set2 = {7, 8, 9, 10}\n",
    "set3 = {1, 2}\n",
    "print(\"SET1===>\",set1)\n",
    "print(\"SET2===>\",set2)\n",
    "print(\"SET3===>\",set3)\n",
    "\n",
    "print(\"SET 1 and SET 2 are disjoint\",\n",
    "set1.isdisjoint(set2))\n",
    "\n",
    "print(\"SET 1 and SET 3 are disjoint\",\n",
    "set1.isdisjoint(set3))"
   ]
  },
  {
   "cell_type": "markdown",
   "id": "ea53c3f6",
   "metadata": {},
   "source": [
    "<h1 style=\"background-color:DodgerBlue;\">MIXED CONCEPTS</h1>"
   ]
  },
  {
   "cell_type": "code",
   "execution_count": 1,
   "id": "4662b675",
   "metadata": {},
   "outputs": [
    {
     "name": "stdout",
     "output_type": "stream",
     "text": [
      "LIST=====> [10, 20, 20, 4, 45, 45, 45, 99, 99]\n",
      "Second largest element in the list is: 45\n"
     ]
    }
   ],
   "source": [
    "list1 = [10, 20, 20, 4, 45, 45, 45, 99, 99]\n",
    "print(\"LIST=====>\",list1)\n",
    "\n",
    "list2 = list(set(list1))\n",
    "\n",
    "list2.sort()\n",
    "print(\"Second largest element in the list is:\", list2[-2])"
   ]
  },
  {
   "cell_type": "code",
   "execution_count": 2,
   "id": "4335250f",
   "metadata": {},
   "outputs": [
    {
     "name": "stdout",
     "output_type": "stream",
     "text": [
      "FIRST LIST===> ['Alice', 'Bob', 'Charlie', 'David']\n",
      "SECOND LIST===> ['Charlie', 'David', 'Emily', 'Frank']\n",
      "Complete list WITHOUT REMOVING DUPLICATES: ['Alice', 'Bob', 'Charlie', 'David', 'Charlie', 'David', 'Emily', 'Frank']\n",
      "List without duplicates: ['Frank', 'David', 'Emily', 'Alice', 'Bob', 'Charlie']\n"
     ]
    }
   ],
   "source": [
    "day1_attendees = [\"Alice\", \"Bob\", \"Charlie\", \"David\"]\n",
    "day2_attendees = [\"Charlie\", \"David\", \"Emily\", \"Frank\"]\n",
    "print(\"FIRST LIST===>\",day1_attendees)\n",
    "print(\"SECOND LIST===>\",day2_attendees)\n",
    "all_attendees = day1_attendees + day2_attendees\n",
    "print(\"Complete list WITHOUT REMOVING DUPLICATES:\", all_attendees)\n",
    "unique_attendees = list(set(all_attendees))\n",
    "print(\"List without duplicates:\", unique_attendees)"
   ]
  },
  {
   "cell_type": "code",
   "execution_count": 3,
   "id": "ef87389f",
   "metadata": {},
   "outputs": [
    {
     "name": "stdout",
     "output_type": "stream",
     "text": [
      "{'a': 2, 's': 2, 'c': 3, 'b': 1}\n"
     ]
    }
   ],
   "source": [
    "def CountFreq(list):\n",
    "  freq = {}\n",
    "  for items in list:\n",
    "    freq[items] = list.count(items)\n",
    "  print(freq)\n",
    "list =['a', 's', 'a', 's', 'c', 'c', 'c','b']\n",
    "CountFreq(list)"
   ]
  },
  {
   "cell_type": "code",
   "execution_count": 4,
   "id": "745c6dc2",
   "metadata": {},
   "outputs": [
    {
     "name": "stdout",
     "output_type": "stream",
     "text": [
      "[('Sachin', 10), ('MSD', 7), ('Kohli', 18), ('Rohit', 45)]\n",
      "\n",
      "AFTER CONVERTING THE ABOVE LIST OF TUPLES INTO DICTIONARY THE OUTPUT IS:\n",
      "\n",
      "{'Sachin': 10, 'MSD': 7, 'Kohli': 18, 'Rohit': 45}\n"
     ]
    }
   ],
   "source": [
    "print(([('Sachin', 10), ('MSD', 7), ('Kohli', 18), ('Rohit', 45)]))\n",
    "print()\n",
    "print(\"AFTER CONVERTING THE ABOVE LIST OF TUPLES INTO DICTIONARY THE OUTPUT IS:\")\n",
    "print()\n",
    "print(dict([('Sachin', 10), ('MSD', 7), ('Kohli', 18), ('Rohit', 45)]))"
   ]
  },
  {
   "cell_type": "code",
   "execution_count": 1,
   "id": "e9050cd5",
   "metadata": {},
   "outputs": [
    {
     "name": "stdout",
     "output_type": "stream",
     "text": [
      "Original list:\n",
      "[[1, 2, 3, 5], [2, 3, 5, 4], [0, 5, 4, 1], [3, 7, 2, 1], [1, 2, 1, 2]]\n",
      "Unique values of the said list of lists:\n",
      "[0, 1, 2, 3, 4, 5, 7]\n",
      "\n",
      "Original list:\n",
      "[['h', 'g', 'l', 'k'], ['a', 'b', 'd', 'e', 'c'], ['j', 'i', 'y'], ['n', 'b', 'v', 'c'], ['x', 'z']]\n",
      "Unique values of the said list of lists:\n",
      "['c', 'z', 'k', 'i', 'v', 'b', 'l', 'j', 'x', 'n', 'd', 'h', 'a', 'e', 'y', 'g']\n"
     ]
    }
   ],
   "source": [
    "def unique_values_in_list_of_lists(lst):\n",
    "    result = set(x for l in lst for x in l)\n",
    "    return list(result)\n",
    "nums = [[1,2,3,5], [2,3,5,4], [0,5,4,1], [3,7,2,1], [1,2,1,2]]\n",
    "print(\"Original list:\")\n",
    "print(nums)\n",
    "print(\"Unique values of the said list of lists:\")\n",
    "print(unique_values_in_list_of_lists(nums))\n",
    "chars = [['h','g','l','k'], ['a','b','d','e','c'], ['j','i','y'], ['n','b','v','c'], ['x','z']]\n",
    "print(\"\\nOriginal list:\")\n",
    "print(chars)\n",
    "print(\"Unique values of the said list of lists:\")\n",
    "print(unique_values_in_list_of_lists(chars))\n"
   ]
  },
  {
   "attachments": {
    "image.png": {
     "image/png": "[encoded data removed]"
    }
   },
   "cell_type": "markdown",
   "id": "46f02420",
   "metadata": {},
   "source": [
    "# PICTORIAL REPRESENTATION :\n",
    "![image.png](attachment:image.png)"
   ]
  },
  {
   "cell_type": "code",
   "execution_count": 6,
   "id": "6da6af65",
   "metadata": {},
   "outputs": [
    {
     "name": "stdout",
     "output_type": "stream",
     "text": [
      "initial 1st dictionary===> {'nikhil': 1, 'vashu': 5, 'manjeet': 10, 'akshat': 15}\n",
      "\n",
      "initial 2nd dictionary===> {'akshat': 15, 'nikhil': 1, 'me': 56}\n",
      "\n",
      "AFTER INTERSECTING BOTH DICTIONARIES,THE OUTPUT IS:\n",
      "\n",
      "final dictionary=====> {'nikhil': 1, 'akshat': 15}\n"
     ]
    }
   ],
   "source": [
    "ini_dict1 = {'nikhil': 1, 'vashu' : 5,\n",
    "             'manjeet' : 10, 'akshat' : 15}\n",
    "ini_dict2 = {'akshat' :15, 'nikhil' : 1, 'me' : 56}\n",
    "print (\"initial 1st dictionary===>\", ini_dict1)\n",
    "print()\n",
    "print (\"initial 2nd dictionary===>\", ini_dict2)\n",
    "print()\n",
    "print(\"AFTER INTERSECTING BOTH DICTIONARIES,THE OUTPUT IS:\")\n",
    "print()\n",
    "final_dict = {x:ini_dict1[x]\n",
    "              for x in ini_dict1\n",
    "              if x in ini_dict2}\n",
    "print (\"final dictionary=====>\", str(final_dict))\n"
   ]
  },
  {
   "cell_type": "code",
   "execution_count": 7,
   "id": "13cbd9d4",
   "metadata": {},
   "outputs": [
    {
     "name": "stdout",
     "output_type": "stream",
     "text": [
      "A= {1, 2, 3, 4, 5}\n",
      "\n",
      "B= {3, 4, 6, 7, 9}\n",
      "\n",
      "THE OUTPUT OF SYMMETRIC DIFFERENCE BETWEEN THE ABOVE TWO SETS IS:\n",
      "{1, 2, 5, 6, 7, 9}\n"
     ]
    }
   ],
   "source": [
    "set_A = {1, 2, 3, 4, 5}\n",
    "set_B = {6, 7, 3, 9, 4}\n",
    "print(\"A=\",set_A)\n",
    "print()\n",
    "print(\"B=\",set_B)\n",
    "print()\n",
    "print(\"THE OUTPUT OF SYMMETRIC DIFFERENCE BETWEEN THE ABOVE TWO SETS IS:\")\n",
    "print(set_A.symmetric_difference(set_B))"
   ]
  },
  {
   "attachments": {
    "image.png": {
     "image/png": "[encoded data removed]"
    }
   },
   "cell_type": "markdown",
   "id": "edaba187",
   "metadata": {},
   "source": [
    "# PICTORIAL REPRESENTATION TO UNDERSTAND SYMMETRIC DIFFERENCE:\n",
    "![image.png](attachment:image.png)"
   ]
  },
  {
   "cell_type": "code",
   "execution_count": 8,
   "id": "a5fb0531",
   "metadata": {},
   "outputs": [
    {
     "name": "stdout",
     "output_type": "stream",
     "text": [
      "{'a': 1, 'b': 2, 'c': 3}\n"
     ]
    }
   ],
   "source": [
    "my_dict = {'b': 2, 'a': 1, 'c': 3}\n",
    "sorted_dict = dict(sorted(my_dict.items()))\n",
    "\n",
    "print(sorted_dict)"
   ]
  },
  {
   "cell_type": "code",
   "execution_count": 9,
   "id": "0ecc293a",
   "metadata": {},
   "outputs": [
    {
     "name": "stdout",
     "output_type": "stream",
     "text": [
      "No, dict1 and dict2 are not same\n"
     ]
    }
   ],
   "source": [
    "dict1 = {'name': \"Naveen\", 'hobbies': ['coding', 'travelling']}\n",
    "dict2 = {'name': \"Dhushi\", 'hobbies': ['art', 'dance']}\n",
    " \n",
    "if(dict1 == dict2):\n",
    "    print (\"Yes, dict1 and dict2 are same\")\n",
    "else:\n",
    "    print(\"No, dict1 and dict2 are not same\")"
   ]
  },
  {
   "cell_type": "markdown",
   "id": "9984f882",
   "metadata": {},
   "source": [
    "<h1 style=\"background-color:Tomato;\">END OF ASSIGNMENT</h1>"
   ]
  }
 ],
 "metadata": {
  "kernelspec": {
   "display_name": "Python 3 (ipykernel)",
   "language": "python",
   "name": "python3"
  },
  "language_info": {
   "codemirror_mode": {
    "name": "ipython",
    "version": 3
   },
   "file_extension": ".py",
   "mimetype": "text/x-python",
   "name": "python",
   "nbconvert_exporter": "python",
   "pygments_lexer": "ipython3",
   "version": "3.11.5"
  }
 },
 "nbformat": 4,
 "nbformat_minor": 5
}
