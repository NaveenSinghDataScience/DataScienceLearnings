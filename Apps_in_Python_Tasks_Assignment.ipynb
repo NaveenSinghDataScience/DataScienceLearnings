{
 "cells": [
  {
   "cell_type": "markdown",
   "id": "0c44030c",
   "metadata": {},
   "source": [
    "## 1. To-Do List App\n",
    "\n",
    "* Create a simple to-do list application using Python. Allow users to add tasks, mark them as completed, delete tasks, and display the list of pending tasks."
   ]
  },
  {
   "cell_type": "markdown",
   "id": "cb1273df",
   "metadata": {},
   "source": [
    "# Here’s a simple Python script for a console-based to-do list application. This script allows users to add tasks, mark them as completed, delete tasks, and display the list of pending tasks."
   ]
  },
  {
   "cell_type": "code",
   "execution_count": 1,
   "id": "cbe1d28a",
   "metadata": {},
   "outputs": [
    {
     "name": "stdout",
     "output_type": "stream",
     "text": [
      "\n",
      "1. Add task\n",
      "2. Complete task\n",
      "3. Delete task\n",
      "4. Display tasks\n",
      "5. Exit\n",
      "Enter your choice: 4\n",
      "\n",
      "1. Add task\n",
      "2. Complete task\n",
      "3. Delete task\n",
      "4. Display tasks\n",
      "5. Exit\n",
      "Enter your choice: 1\n",
      "Enter task description: Python Learning\n",
      "\n",
      "1. Add task\n",
      "2. Complete task\n",
      "3. Delete task\n",
      "4. Display tasks\n",
      "5. Exit\n",
      "Enter your choice: 1\n",
      "Enter task description: SQL Learning\n",
      "\n",
      "1. Add task\n",
      "2. Complete task\n",
      "3. Delete task\n",
      "4. Display tasks\n",
      "5. Exit\n",
      "Enter your choice: 1\n",
      "Enter task description: Excel Learning\n",
      "\n",
      "1. Add task\n",
      "2. Complete task\n",
      "3. Delete task\n",
      "4. Display tasks\n",
      "5. Exit\n",
      "Enter your choice: 1\n",
      "Enter task description: Tableau Learning\n",
      "\n",
      "1. Add task\n",
      "2. Complete task\n",
      "3. Delete task\n",
      "4. Display tasks\n",
      "5. Exit\n",
      "Enter your choice: 4\n",
      "1. Python Learning\n",
      "2. SQL Learning\n",
      "3. Excel Learning\n",
      "4. Tableau Learning\n",
      "\n",
      "1. Add task\n",
      "2. Complete task\n",
      "3. Delete task\n",
      "4. Display tasks\n",
      "5. Exit\n",
      "Enter your choice: 2\n",
      "Enter task number to mark as completed: 1\n",
      "\n",
      "1. Add task\n",
      "2. Complete task\n",
      "3. Delete task\n",
      "4. Display tasks\n",
      "5. Exit\n",
      "Enter your choice: 2\n",
      "Enter task number to mark as completed: 2\n",
      "\n",
      "1. Add task\n",
      "2. Complete task\n",
      "3. Delete task\n",
      "4. Display tasks\n",
      "5. Exit\n",
      "Enter your choice: 2\n",
      "Enter task number to mark as completed: 3\n",
      "\n",
      "1. Add task\n",
      "2. Complete task\n",
      "3. Delete task\n",
      "4. Display tasks\n",
      "5. Exit\n",
      "Enter your choice: 4\n",
      "1. Python Learning [COMPLETED]\n",
      "2. SQL Learning [COMPLETED]\n",
      "3. Excel Learning [COMPLETED]\n",
      "4. Tableau Learning\n",
      "\n",
      "1. Add task\n",
      "2. Complete task\n",
      "3. Delete task\n",
      "4. Display tasks\n",
      "5. Exit\n",
      "Enter your choice: 5\n"
     ]
    }
   ],
   "source": [
    "class Task:\n",
    "    def __init__(self, description):\n",
    "        self.description = description\n",
    "        self.completed = False\n",
    "\n",
    "    def mark_as_completed(self):\n",
    "        self.completed = True\n",
    "\n",
    "    def __str__(self):\n",
    "        return self.description + (\" [COMPLETED]\" if self.completed else \"\")\n",
    "\n",
    "\n",
    "class ToDoList:\n",
    "    def __init__(self):\n",
    "        self.tasks = []\n",
    "\n",
    "    def add_task(self, description):\n",
    "        self.tasks.append(Task(description))\n",
    "\n",
    "    def complete_task(self, index):\n",
    "        self.tasks[index].mark_as_completed()\n",
    "\n",
    "    def delete_task(self, index):\n",
    "        del self.tasks[index]\n",
    "\n",
    "    def display_tasks(self):\n",
    "        for i, task in enumerate(self.tasks):\n",
    "            print(f\"{i+1}. {task}\")\n",
    "\n",
    "\n",
    "def main():\n",
    "    todo_list = ToDoList()\n",
    "    while True:\n",
    "        print(\"\\n1. Add task\\n2. Complete task\\n3. Delete task\\n4. Display tasks\\n5. Exit\")\n",
    "        choice = int(input(\"Enter your choice: \"))\n",
    "        if choice == 1:\n",
    "            task = input(\"Enter task description: \")\n",
    "            todo_list.add_task(task)\n",
    "        elif choice == 2:\n",
    "            index = int(input(\"Enter task number to mark as completed: \")) - 1\n",
    "            todo_list.complete_task(index)\n",
    "        elif choice == 3:\n",
    "            index = int(input(\"Enter task number to delete: \")) - 1\n",
    "            todo_list.delete_task(index)\n",
    "        elif choice == 4:\n",
    "            todo_list.display_tasks()\n",
    "        elif choice == 5:\n",
    "            break\n",
    "\n",
    "\n",
    "if __name__ == \"__main__\":\n",
    "    main()"
   ]
  },
  {
   "cell_type": "markdown",
   "id": "73648e20",
   "metadata": {},
   "source": [
    "### This script uses a simple command-line interface for interaction. Users can add tasks, mark tasks as completed, delete tasks, and display all tasks. The tasks are numbered starting from 1. When marking a task as completed or deleting a task, the user should enter the task number. Please note that this script does not persist data, so all tasks will be lost once the script is terminated. If you want to save tasks between sessions, you’ll need to implement data persistence, for example by saving tasks to a file or a database."
   ]
  },
  {
   "cell_type": "markdown",
   "id": "325efe74",
   "metadata": {},
   "source": [
    "********************************************************************************************************************************\n",
    "********************************************************************************************************************************"
   ]
  },
  {
   "cell_type": "markdown",
   "id": "e4840c51",
   "metadata": {},
   "source": [
    "## 2. Temperature Converter\n",
    "\n",
    "* Develop a program that converts temperatures between Celsius, Fahrenheit, and Kelvin. Allow users to input a temperature in one unit and display the converted temperatures in the other units."
   ]
  },
  {
   "cell_type": "markdown",
   "id": "da549675",
   "metadata": {},
   "source": [
    "# Here’s a simple Python script that converts temperatures between Celsius, Fahrenheit, and Kelvin. This script allows users to input a temperature in one unit and displays the converted temperatures in the other units."
   ]
  },
  {
   "cell_type": "code",
   "execution_count": 2,
   "id": "b312a410",
   "metadata": {},
   "outputs": [
    {
     "name": "stdout",
     "output_type": "stream",
     "text": [
      "Temperature Conversion Program\n",
      "1. Celsius\n",
      "2. Fahrenheit\n",
      "3. Kelvin\n",
      "Enter the unit of the temperature you want to convert (1-3): 3\n",
      "Enter the temperature: 271\n",
      "271.0 Kelvin is equal to -2.1499999999999773 Celsius and 28.129999999999995 Fahrenheit.\n"
     ]
    }
   ],
   "source": [
    "def celsius_to_fahrenheit(celsius):\n",
    "    return celsius * 9/5 + 32\n",
    "\n",
    "def celsius_to_kelvin(celsius):\n",
    "    return celsius + 273.15\n",
    "\n",
    "def fahrenheit_to_celsius(fahrenheit):\n",
    "    return (fahrenheit - 32) * 5/9\n",
    "\n",
    "def fahrenheit_to_kelvin(fahrenheit):\n",
    "    return (fahrenheit + 459.67) * 5/9\n",
    "\n",
    "def kelvin_to_celsius(kelvin):\n",
    "    return kelvin - 273.15\n",
    "\n",
    "def kelvin_to_fahrenheit(kelvin):\n",
    "    return kelvin * 9/5 - 459.67\n",
    "\n",
    "def main():\n",
    "    print(\"Temperature Conversion Program\")\n",
    "    print(\"1. Celsius\\n2. Fahrenheit\\n3. Kelvin\")\n",
    "    choice = int(input(\"Enter the unit of the temperature you want to convert (1-3): \"))\n",
    "    temp = float(input(\"Enter the temperature: \"))\n",
    "\n",
    "    if choice == 1:\n",
    "        print(f\"{temp} Celsius is equal to {celsius_to_fahrenheit(temp)} Fahrenheit and {celsius_to_kelvin(temp)} Kelvin.\")\n",
    "    elif choice == 2:\n",
    "        print(f\"{temp} Fahrenheit is equal to {fahrenheit_to_celsius(temp)} Celsius and {fahrenheit_to_kelvin(temp)} Kelvin.\")\n",
    "    elif choice == 3:\n",
    "        print(f\"{temp} Kelvin is equal to {kelvin_to_celsius(temp)} Celsius and {kelvin_to_fahrenheit(temp)} Fahrenheit.\")\n",
    "    else:\n",
    "        print(\"Invalid choice.\")\n",
    "\n",
    "if __name__ == \"__main__\":\n",
    "    main()"
   ]
  },
  {
   "cell_type": "markdown",
   "id": "19f533ac",
   "metadata": {},
   "source": [
    "### This script uses a simple command-line interface for interaction. Users can input a temperature in Celsius, Fahrenheit, or Kelvin, and the script will display the converted temperatures in the other two units. Please note that this script does not validate the input, so make sure to enter valid numbers."
   ]
  },
  {
   "cell_type": "markdown",
   "id": "ca84df5c",
   "metadata": {},
   "source": [
    "********************************************************************************************************************************\n",
    "********************************************************************************************************************************"
   ]
  },
  {
   "cell_type": "markdown",
   "id": "5e1f37ee",
   "metadata": {},
   "source": [
    "## 3. Guess the Number Game\n",
    "\n",
    "* Build a simple game where the computer generates a random number, and the user tries to guess it within a limited number of attempts. Provide hints (higher/lower) after each guess."
   ]
  },
  {
   "cell_type": "markdown",
   "id": "ec6264db",
   "metadata": {},
   "source": [
    "#  Here’s a simple Python script for a number guessing game. The computer generates a random number, and the user tries to guess it within a limited number of attempts. The script provides hints (higher/lower) after each guess."
   ]
  },
  {
   "cell_type": "code",
   "execution_count": 3,
   "id": "32d52aed",
   "metadata": {},
   "outputs": [
    {
     "name": "stdout",
     "output_type": "stream",
     "text": [
      "Welcome to the Number Guessing Game!\n",
      "Enter your guess (between 1 and 100): 55\n",
      "Higher!\n",
      "Enter your guess (between 1 and 100): 75\n",
      "Higher!\n",
      "Enter your guess (between 1 and 100): 90\n",
      "Lower!\n",
      "Enter your guess (between 1 and 100): 85\n",
      "Lower!\n",
      "Enter your guess (between 1 and 100): 80\n",
      "Higher!\n",
      "Enter your guess (between 1 and 100): 83\n",
      "Congratulations! You found the number in 6 attempts.\n"
     ]
    }
   ],
   "source": [
    "import random\n",
    "\n",
    "def main():\n",
    "    print(\"Welcome to the Number Guessing Game!\")\n",
    "    number_to_guess = random.randint(1, 100)\n",
    "    attempts = 0\n",
    "\n",
    "    while True:\n",
    "        user_guess = int(input(\"Enter your guess (between 1 and 100): \"))\n",
    "        attempts += 1\n",
    "\n",
    "        if user_guess < number_to_guess:\n",
    "            print(\"Higher!\")\n",
    "        elif user_guess > number_to_guess:\n",
    "            print(\"Lower!\")\n",
    "        else:\n",
    "            print(f\"Congratulations! You found the number in {attempts} attempts.\")\n",
    "            break\n",
    "\n",
    "if __name__ == \"__main__\":\n",
    "    main()"
   ]
  },
  {
   "cell_type": "markdown",
   "id": "f2ae6c12",
   "metadata": {},
   "source": [
    "### In this python script, the computer generates a random number between 1 and 100. The user enters their guess, and the script tells them whether the actual number is higher or lower. This continues until the user guesses the number correctly, at which point the script congratulates the user and tells them how many attempts they took. Please note that this script does not validate the input, so make sure to enter valid numbers."
   ]
  },
  {
   "cell_type": "markdown",
   "id": "507ced58",
   "metadata": {},
   "source": [
    "********************************************************************************************************************************\n",
    "********************************************************************************************************************************"
   ]
  },
  {
   "cell_type": "markdown",
   "id": "77c9066d",
   "metadata": {},
   "source": [
    "## 4. Simple Calculator\n",
    "\n",
    "* Create a basic calculator program that performs arithmetic operations (addition, subtraction, multiplication, division) based on user input."
   ]
  },
  {
   "cell_type": "markdown",
   "id": "4d34aedf",
   "metadata": {},
   "source": [
    "# Here’s a simple Python script for a basic calculator program that performs arithmetic operations (addition, subtraction, multiplication, division) based on user input."
   ]
  },
  {
   "cell_type": "code",
   "execution_count": null,
   "id": "88cba5ab",
   "metadata": {},
   "outputs": [
    {
     "name": "stdout",
     "output_type": "stream",
     "text": [
      "Select operation:\n",
      "1. Addition\n",
      "2. Subtraction\n",
      "3. Multiplication\n",
      "4. Division\n",
      "Enter choice (1/2/3/4): 3\n",
      "Enter first number: 20\n",
      "Enter second number: 10\n",
      "20.0 * 10.0 = 200.0\n"
     ]
    }
   ],
   "source": [
    "def add(x, y):\n",
    "    return x + y\n",
    "\n",
    "def subtract(x, y):\n",
    "    return x - y\n",
    "\n",
    "def multiply(x, y):\n",
    "    return x * y\n",
    "\n",
    "def divide(x, y):\n",
    "    if y == 0:\n",
    "        return \"Error! Division by zero.\"\n",
    "    else:\n",
    "        return x / y\n",
    "\n",
    "def main():\n",
    "    print(\"Select operation:\")\n",
    "    print(\"1. Addition\")\n",
    "    print(\"2. Subtraction\")\n",
    "    print(\"3. Multiplication\")\n",
    "    print(\"4. Division\")\n",
    "\n",
    "    while True:\n",
    "        choice = input(\"Enter choice (1/2/3/4): \")\n",
    "\n",
    "        if choice in ('1', '2', '3', '4'):\n",
    "            num1 = float(input(\"Enter first number: \"))\n",
    "            num2 = float(input(\"Enter second number: \"))\n",
    "\n",
    "            if choice == '1':\n",
    "                print(num1, \"+\", num2, \"=\", add(num1, num2))\n",
    "\n",
    "            elif choice == '2':\n",
    "                print(num1, \"-\", num2, \"=\", subtract(num1, num2))\n",
    "\n",
    "            elif choice == '3':\n",
    "                print(num1, \"*\", num2, \"=\", multiply(num1, num2))\n",
    "\n",
    "            elif choice == '4':\n",
    "                print(num1, \"/\", num2, \"=\", divide(num1, num2))\n",
    "                \n",
    "        else:\n",
    "            print(\"Invalid Input\")\n",
    "\n",
    "if __name__ == \"__main__\":\n",
    "    main()"
   ]
  },
  {
   "cell_type": "markdown",
   "id": "cc5005a8",
   "metadata": {},
   "source": [
    "### This python script uses a simple command-line interface for interaction. Users can choose the operation they want to perform and input the numbers. The script then performs the operation and displays the result. Please note that this script does not validate the input, so make sure to enter valid numbers."
   ]
  },
  {
   "cell_type": "markdown",
   "id": "ab7aec24",
   "metadata": {},
   "source": [
    "********************************************************************************************************************************\n",
    "********************************************************************************************************************************"
   ]
  },
  {
   "cell_type": "markdown",
   "id": "3e934868",
   "metadata": {},
   "source": [
    "## 5. Personal Budget Tracker\n",
    "\n",
    "* Create a simple budget tracker that allows users to input their expenses and incomes. Calculate the total balance and display a summary."
   ]
  },
  {
   "cell_type": "markdown",
   "id": "9cb543a0",
   "metadata": {},
   "source": [
    "# Here’s a simple Python script for a budget tracker. This script allows users to input their expenses and incomes, calculates the total balance, and displays a summary."
   ]
  },
  {
   "cell_type": "code",
   "execution_count": 1,
   "id": "2b4bc4de",
   "metadata": {},
   "outputs": [
    {
     "name": "stdout",
     "output_type": "stream",
     "text": [
      "\n",
      "1. Add income\n",
      "2. Add expense\n",
      "3. Display summary\n",
      "4. Exit\n",
      "Enter your choice: 1\n",
      "Enter income description: SALARY\n",
      "Enter income amount: 60000\n",
      "\n",
      "1. Add income\n",
      "2. Add expense\n",
      "3. Display summary\n",
      "4. Exit\n",
      "Enter your choice: 2\n",
      "Enter expense description: HOUSE RENT\n",
      "Enter expense amount: 10000\n",
      "\n",
      "1. Add income\n",
      "2. Add expense\n",
      "3. Display summary\n",
      "4. Exit\n",
      "Enter your choice: 3\n",
      "Income:\n",
      "SALARY: 60000.0\n",
      "Expenses:\n",
      "HOUSE RENT: 10000.0\n",
      "Balance: 50000.0\n",
      "\n",
      "1. Add income\n",
      "2. Add expense\n",
      "3. Display summary\n",
      "4. Exit\n",
      "Enter your choice: 4\n"
     ]
    }
   ],
   "source": [
    "class Transaction:\n",
    "    def __init__(self, description, amount):\n",
    "        self.description = description\n",
    "        self.amount = amount\n",
    "\n",
    "class BudgetTracker:\n",
    "    def __init__(self):\n",
    "        self.incomes = []\n",
    "        self.expenses = []\n",
    "\n",
    "    def add_income(self, description, amount):\n",
    "        self.incomes.append(Transaction(description, amount))\n",
    "\n",
    "    def add_expense(self, description, amount):\n",
    "        self.expenses.append(Transaction(description, amount))\n",
    "\n",
    "    def calculate_balance(self):\n",
    "        total_income = sum(income.amount for income in self.incomes)\n",
    "        total_expense = sum(expense.amount for expense in self.expenses)\n",
    "        return total_income - total_expense\n",
    "\n",
    "    def display_summary(self):\n",
    "        print(\"Income:\")\n",
    "        for income in self.incomes:\n",
    "            print(f\"{income.description}: {income.amount}\")\n",
    "        print(\"Expenses:\")\n",
    "        for expense in self.expenses:\n",
    "            print(f\"{expense.description}: {expense.amount}\")\n",
    "        print(\"Balance:\", self.calculate_balance())\n",
    "\n",
    "def main():\n",
    "    tracker = BudgetTracker()\n",
    "    while True:\n",
    "        print(\"\\n1. Add income\\n2. Add expense\\n3. Display summary\\n4. Exit\")\n",
    "        choice = int(input(\"Enter your choice: \"))\n",
    "        if choice == 1:\n",
    "            description = input(\"Enter income description: \")\n",
    "            amount = float(input(\"Enter income amount: \"))\n",
    "            tracker.add_income(description, amount)\n",
    "        elif choice == 2:\n",
    "            description = input(\"Enter expense description: \")\n",
    "            amount = float(input(\"Enter expense amount: \"))\n",
    "            tracker.add_expense(description, amount)\n",
    "        elif choice == 3:\n",
    "            tracker.display_summary()\n",
    "        elif choice == 4:\n",
    "            break\n",
    "\n",
    "if __name__ == \"__main__\":\n",
    "    main()"
   ]
  },
  {
   "cell_type": "markdown",
   "id": "38511048",
   "metadata": {},
   "source": [
    "### This script uses a simple command-line interface for interaction. Users can add incomes and expenses, and the script calculates the balance and displays a summary of all transactions. Please note that this script does not persist data, so all transactions will be lost once the script is terminated. If you want to save transactions between sessions, you’ll need to implement data persistence, for example by saving transactions to a file or a database."
   ]
  },
  {
   "cell_type": "markdown",
   "id": "65587598",
   "metadata": {},
   "source": [
    "********************************************************************************************************************************\n",
    "********************************************************************************************************************************"
   ]
  },
  {
   "cell_type": "markdown",
   "id": "ab6ee4ca",
   "metadata": {},
   "source": [
    "## 6. Simple Alarm Clock\n",
    "\n",
    "* Design a basic alarm clock application that prompts users to set an alarm time. When the set time arrives, display a message or play a sound."
   ]
  },
  {
   "cell_type": "markdown",
   "id": "96d1d367",
   "metadata": {},
   "source": [
    "# Here’s a simple Python script for a basic alarm clock application. This script prompts users to set an alarm time. When the set time arrives, it displays a message."
   ]
  },
  {
   "cell_type": "code",
   "execution_count": 3,
   "id": "3bef13c6",
   "metadata": {},
   "outputs": [
    {
     "name": "stdout",
     "output_type": "stream",
     "text": [
      "Alarm Clock\n",
      "Enter the hour (24-hour format): 22\n",
      "Enter the minute: 09\n",
      "Enter a message to display when the alarm goes off: ALARM HAS BEEN TURNED OFF\n",
      "ALARM HAS BEEN TURNED OFF\n"
     ]
    }
   ],
   "source": [
    "import datetime\n",
    "import time\n",
    "\n",
    "def set_alarm(alarm_time, message):\n",
    "    while True:\n",
    "        time.sleep(1)\n",
    "        current_time = datetime.datetime.now()\n",
    "        if current_time >= alarm_time:\n",
    "            print(message)\n",
    "            break\n",
    "\n",
    "def main():\n",
    "    print(\"Alarm Clock\")\n",
    "    hour = int(input(\"Enter the hour (24-hour format): \"))\n",
    "    minute = int(input(\"Enter the minute: \"))\n",
    "    message = input(\"Enter a message to display when the alarm goes off: \")\n",
    "    alarm_time = datetime.datetime.combine(datetime.date.today(), datetime.time(hour, minute))\n",
    "    set_alarm(alarm_time, message)\n",
    "\n",
    "if __name__ == \"__main__\":\n",
    "    main()"
   ]
  },
  {
   "cell_type": "markdown",
   "id": "a5c3f267",
   "metadata": {},
   "source": [
    "### This script uses a simple command-line interface for interaction. Users can set the alarm time and a message to display when the alarm goes off. The script checks the current time every second, and when the current time is later than or equal to the set alarm time, it displays the message.\n",
    "\n",
    "* Please note that this script does not play a sound when the alarm goes off. If you want to play a sound, you’ll need to use a library that can play sounds, such as pygame or winsound, and you’ll need to have a sound file available to play.\n",
    "\n",
    "* Also, this script does not validate the input, so make sure to enter valid numbers for the hour and minute. The hour should be in 24-hour format (0-23), and the minute should be 0-59. If the set alarm time is earlier than the current time, the alarm will go off immediately."
   ]
  },
  {
   "cell_type": "markdown",
   "id": "d812a114",
   "metadata": {},
   "source": [
    "********************************************************************************************************************************\n",
    "********************************************************************************************************************************"
   ]
  },
  {
   "cell_type": "markdown",
   "id": "7c39ccd1",
   "metadata": {},
   "source": [
    "## 7. Address Book\n",
    "\n",
    "* Build an address book program where users can add contacts with names, phone numbers, and emails. Allow them to view, edit, or delete contacts."
   ]
  },
  {
   "cell_type": "markdown",
   "id": "3a8c9153",
   "metadata": {},
   "source": [
    "#  Here’s a simple Python script for an address book program. This script allows users to add contacts with names, phone numbers, and emails, and to view, edit, or delete contacts."
   ]
  },
  {
   "cell_type": "code",
   "execution_count": 4,
   "id": "79017b08",
   "metadata": {},
   "outputs": [
    {
     "name": "stdout",
     "output_type": "stream",
     "text": [
      "\n",
      "1. Add contact\n",
      "2. View contacts\n",
      "3. Edit contact\n",
      "4. Delete contact\n",
      "5. Exit\n",
      "Enter your choice: 1\n",
      "Enter name: Naveen Singh\n",
      "Enter phone number: 9876543210\n",
      "Enter email: naveensingh@gmail.com\n",
      "\n",
      "1. Add contact\n",
      "2. View contacts\n",
      "3. Edit contact\n",
      "4. Delete contact\n",
      "5. Exit\n",
      "Enter your choice: 2\n",
      "1. Name: Naveen Singh, Phone Number: 9876543210, Email: naveensingh@gmail.com\n",
      "\n",
      "1. Add contact\n",
      "2. View contacts\n",
      "3. Edit contact\n",
      "4. Delete contact\n",
      "5. Exit\n",
      "Enter your choice: 5\n"
     ]
    }
   ],
   "source": [
    "class Contact:\n",
    "    def __init__(self, name, phone_number, email):\n",
    "        self.name = name\n",
    "        self.phone_number = phone_number\n",
    "        self.email = email\n",
    "\n",
    "    def __str__(self):\n",
    "        return f\"Name: {self.name}, Phone Number: {self.phone_number}, Email: {self.email}\"\n",
    "\n",
    "\n",
    "class AddressBook:\n",
    "    def __init__(self):\n",
    "        self.contacts = []\n",
    "\n",
    "    def add_contact(self, name, phone_number, email):\n",
    "        self.contacts.append(Contact(name, phone_number, email))\n",
    "\n",
    "    def view_contacts(self):\n",
    "        for i, contact in enumerate(self.contacts):\n",
    "            print(f\"{i+1}. {contact}\")\n",
    "\n",
    "    def edit_contact(self, index, name, phone_number, email):\n",
    "        self.contacts[index] = Contact(name, phone_number, email)\n",
    "\n",
    "    def delete_contact(self, index):\n",
    "        del self.contacts[index]\n",
    "\n",
    "\n",
    "def main():\n",
    "    address_book = AddressBook()\n",
    "    while True:\n",
    "        print(\"\\n1. Add contact\\n2. View contacts\\n3. Edit contact\\n4. Delete contact\\n5. Exit\")\n",
    "        choice = int(input(\"Enter your choice: \"))\n",
    "        if choice == 1:\n",
    "            name = input(\"Enter name: \")\n",
    "            phone_number = input(\"Enter phone number: \")\n",
    "            email = input(\"Enter email: \")\n",
    "            address_book.add_contact(name, phone_number, email)\n",
    "        elif choice == 2:\n",
    "            address_book.view_contacts()\n",
    "        elif choice == 3:\n",
    "            index = int(input(\"Enter contact number to edit: \")) - 1\n",
    "            name = input(\"Enter new name: \")\n",
    "            phone_number = input(\"Enter new phone number: \")\n",
    "            email = input(\"Enter new email: \")\n",
    "            address_book.edit_contact(index, name, phone_number, email)\n",
    "        elif choice == 4:\n",
    "            index = int(input(\"Enter contact number to delete: \")) - 1\n",
    "            address_book.delete_contact(index)\n",
    "        elif choice == 5:\n",
    "            break\n",
    "\n",
    "\n",
    "if __name__ == \"__main__\":\n",
    "    main()"
   ]
  },
  {
   "cell_type": "markdown",
   "id": "97f85f1c",
   "metadata": {},
   "source": [
    "### This script uses a simple command-line interface for interaction. Users can add, view, edit, and delete contacts. The contacts are numbered starting from 1. When editing or deleting a contact, the user should enter the contact number. Please note that this script does not persist data, so all contacts will be lost once the script is terminated. If you want to save contacts between sessions, you’ll need to implement data persistence, for example by saving contacts to a file or a database."
   ]
  },
  {
   "cell_type": "markdown",
   "id": "785fa2f6",
   "metadata": {},
   "source": [
    "********************************************************************************************************************************\n",
    "********************************************************************************************************************************"
   ]
  },
  {
   "cell_type": "markdown",
   "id": "a6740c3a",
   "metadata": {},
   "source": [
    "## 8. Titanic Survival Prediction\n",
    "* Work on the famous Titanic dataset to predict passenger survival. Use machine learning models (e.g., logistic regression, decision trees) to predict whether a passenger survived based on features like age, gender, and ticket class."
   ]
  },
  {
   "cell_type": "markdown",
   "id": "1434d819",
   "metadata": {},
   "source": [
    "# Here’s a simple Python script that uses the pandas, numpy, sklearn libraries to work on the Titanic dataset and predict passenger survival. This script uses logistic regression and decision tree classifiers to make predictions based on features like age, gender, and ticket class.\n",
    "\n",
    "* Please note that you’ll need to have the Titanic dataset available as a CSV file to use this script. The dataset should have columns for Survived, Pclass, Sex, Age, and Fare."
   ]
  },
  {
   "cell_type": "code",
   "execution_count": 5,
   "id": "61ffd4b3",
   "metadata": {},
   "outputs": [
    {
     "name": "stdout",
     "output_type": "stream",
     "text": [
      "Logistic Regression Accuracy: 0.7988826815642458\n",
      "Decision Tree Accuracy: 0.770949720670391\n"
     ]
    }
   ],
   "source": [
    "import pandas as pd\n",
    "import numpy as np\n",
    "from sklearn.model_selection import train_test_split\n",
    "from sklearn.linear_model import LogisticRegression\n",
    "from sklearn.tree import DecisionTreeClassifier\n",
    "from sklearn.preprocessing import LabelEncoder\n",
    "from sklearn.metrics import accuracy_score\n",
    "\n",
    "# Load the dataset\n",
    "df = pd.read_csv('titanic.csv')\n",
    "\n",
    "# Preprocess the data\n",
    "df['Age'].fillna(df['Age'].mean(), inplace=True)\n",
    "df['Age'] = df['Age'].astype(int)\n",
    "df['Sex'] = LabelEncoder().fit_transform(df['Sex'])\n",
    "\n",
    "# Select features and target\n",
    "features = df[['Pclass', 'Sex', 'Age', 'Fare']]\n",
    "target = df['Survived']\n",
    "\n",
    "# Split the data into training and test sets\n",
    "features_train, features_test, target_train, target_test = train_test_split(features, target, test_size=0.2, random_state=42)\n",
    "\n",
    "# Train and evaluate a logistic regression model\n",
    "logreg = LogisticRegression()\n",
    "logreg.fit(features_train, target_train)\n",
    "predictions_logreg = logreg.predict(features_test)\n",
    "print(\"Logistic Regression Accuracy:\", accuracy_score(target_test, predictions_logreg))\n",
    "\n",
    "# Train and evaluate a decision tree model\n",
    "tree = DecisionTreeClassifier()\n",
    "tree.fit(features_train, target_train)\n",
    "predictions_tree = tree.predict(features_test)\n",
    "print(\"Decision Tree Accuracy:\", accuracy_score(target_test, predictions_tree))"
   ]
  },
  {
   "cell_type": "markdown",
   "id": "4811a106",
   "metadata": {},
   "source": [
    "### This script first loads the Titanic dataset and preprocesses the data by filling missing age values with the mean age and encoding the Sex column. It then selects the Pclass, Sex, Age, and Fare columns as features and the Survived column as the target. The data is split into a training set and a test set. A logistic regression model and a decision tree model are trained on the training data and evaluated on the test data. The accuracy of each model is printed to the console.\n",
    "\n",
    "* Please note that this script does not handle all possible issues that might arise when working with real-world data, such as outliers, skewed distributions, or imbalanced classes. For a more comprehensive solution, you might want to consider additional preprocessing steps, feature engineering, model selection and tuning, and evaluation metrics. Also, please make sure to install the necessary libraries (pandas, numpy, sklearn) before running the script."
   ]
  },
  {
   "cell_type": "markdown",
   "id": "3c2563fc",
   "metadata": {},
   "source": [
    "********************************************************************************************************************************\n",
    "********************************************************************************************************************************"
   ]
  },
  {
   "cell_type": "markdown",
   "id": "980e7526",
   "metadata": {},
   "source": [
    "## 9. House Price Prediction\n",
    "* Create a model to predict house prices based on features like area, number of bedrooms, and location. Use regression techniques (e.g., linear regression) on datasets containing housing information."
   ]
  },
  {
   "cell_type": "markdown",
   "id": "9483e036",
   "metadata": {},
   "source": [
    "# Here’s a simple Python script that uses the pandas, numpy, sklearn libraries to work on a housing dataset and predict house prices. This script uses linear regression to make predictions based on features like area, number of bedrooms, and location.\n",
    "\n",
    "* Please note that you’ll need to have a housing dataset available as a CSV file to use this script. The dataset should have columns for price, area, bedrooms, and location."
   ]
  },
  {
   "cell_type": "code",
   "execution_count": 7,
   "id": "f105e059",
   "metadata": {},
   "outputs": [
    {
     "name": "stdout",
     "output_type": "stream",
     "text": [
      "Root Mean Squared Error: 11799.922240248881\n"
     ]
    }
   ],
   "source": [
    "import pandas as pd\n",
    "import numpy as np\n",
    "from sklearn.model_selection import train_test_split\n",
    "from sklearn.linear_model import LinearRegression\n",
    "from sklearn.metrics import mean_squared_error\n",
    "from sklearn.preprocessing import LabelEncoder\n",
    "\n",
    "# Load the dataset\n",
    "df = pd.read_csv('housing.csv')\n",
    "\n",
    "# Preprocess the data\n",
    "df['area'] = df['area'].astype(float)\n",
    "df['bedrooms'] = df['bedrooms'].astype(int)\n",
    "df['location'] = LabelEncoder().fit_transform(df['location'])\n",
    "\n",
    "# Select features and target\n",
    "features = df[['area', 'bedrooms', 'location']]\n",
    "target = df['price']\n",
    "\n",
    "# Split the data into training and test sets\n",
    "features_train, features_test, target_train, target_test = train_test_split(features, target, test_size=0.2, random_state=42)\n",
    "\n",
    "# Train a linear regression model\n",
    "model = LinearRegression()\n",
    "model.fit(features_train, target_train)\n",
    "\n",
    "# Make predictions and evaluate the model\n",
    "predictions = model.predict(features_test)\n",
    "mse = mean_squared_error(target_test, predictions)\n",
    "rmse = np.sqrt(mse)\n",
    "\n",
    "print(\"Root Mean Squared Error:\", rmse)"
   ]
  },
  {
   "cell_type": "markdown",
   "id": "3b8719c1",
   "metadata": {},
   "source": [
    "### This script first loads the housing dataset and preprocesses the data by converting the area and bedrooms columns to numeric types and encoding the location column. It then selects the area, bedrooms, and location columns as features and the price column as the target. The data is split into a training set and a test set. A linear regression model is trained on the training data and used to make predictions on the test data. The root mean squared error (RMSE) of the predictions is calculated and printed to the console.\n",
    "\n",
    "* Please note that this script does not handle all possible issues that might arise when working with real-world data, such as outliers, skewed distributions, or imbalanced classes. For a more comprehensive solution, you might want to consider additional preprocessing steps, feature engineering, model selection and tuning, and evaluation metrics. Also, please make sure to install the necessary libraries (pandas, numpy, sklearn) before running the script."
   ]
  },
  {
   "cell_type": "markdown",
   "id": "6d797c00",
   "metadata": {},
   "source": [
    "********************************************************************************************************************************\n",
    "********************************************************************************************************************************\n",
    "********************************************************************************************************************************\n",
    "********************************************************************************************************************************"
   ]
  }
 ],
 "metadata": {
  "kernelspec": {
   "display_name": "Python 3 (ipykernel)",
   "language": "python",
   "name": "python3"
  },
  "language_info": {
   "codemirror_mode": {
    "name": "ipython",
    "version": 3
   },
   "file_extension": ".py",
   "mimetype": "text/x-python",
   "name": "python",
   "nbconvert_exporter": "python",
   "pygments_lexer": "ipython3",
   "version": "3.11.5"
  }
 },
 "nbformat": 4,
 "nbformat_minor": 5
}
