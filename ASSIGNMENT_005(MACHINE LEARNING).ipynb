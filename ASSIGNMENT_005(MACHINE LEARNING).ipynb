{
 "cells": [
  {
   "cell_type": "markdown",
   "id": "c560bba0",
   "metadata": {},
   "source": [
    "# 1.Why is handling categorical data important in machine learning?"
   ]
  },
  {
   "cell_type": "markdown",
   "id": "011bdf4b",
   "metadata": {},
   "source": [
    "## Categorical values are non-numerical values.\n",
    "* example : colors, lables , gender etc\n",
    "\n",
    "## Many Machine Learning algorithm will work with only numerical data, so for that we need to convert these categorical value in numerical format.\n",
    "\n",
    "### That's why handling categorical data is important in machine learning."
   ]
  },
  {
   "cell_type": "markdown",
   "id": "f19dcd5d",
   "metadata": {},
   "source": [
    "# Here’s an example of how you can handle categorical data in Python for machine learning. This example uses the pandas library for data manipulation and sklearn’s LabelEncoder for encoding the categorical data."
   ]
  },
  {
   "cell_type": "code",
   "execution_count": 4,
   "id": "e964b554",
   "metadata": {},
   "outputs": [
    {
     "name": "stdout",
     "output_type": "stream",
     "text": [
      "   Category\n",
      "0         0\n",
      "1         1\n",
      "2         2\n",
      "3         0\n",
      "4         1\n",
      "5         1\n",
      "6         2\n",
      "7         0\n",
      "8         2\n"
     ]
    }
   ],
   "source": [
    "# Import necessary libraries\n",
    "import pandas as pd\n",
    "from sklearn.preprocessing import LabelEncoder\n",
    "\n",
    "# Assume you have a DataFrame 'df' with a categorical column 'Category'\n",
    "df = pd.DataFrame({\n",
    "    'Category': ['A', 'B', 'C', 'A', 'B', 'B', 'C', 'A', 'C']\n",
    "})\n",
    "\n",
    "# Initialize the LabelEncoder\n",
    "le = LabelEncoder()\n",
    "\n",
    "# Fit and transform the categorical column\n",
    "df['Category'] = le.fit_transform(df['Category'])\n",
    "\n",
    "print(df)"
   ]
  },
  {
   "cell_type": "markdown",
   "id": "8ba49a53",
   "metadata": {},
   "source": [
    "# In this code:\n",
    "\n",
    "* We first import the necessary libraries: pandas for data manipulation and LabelEncoder from sklearn for encoding.\n",
    "\n",
    "* We then create a sample DataFrame with a categorical column named 'Category'.\n",
    "\n",
    "* We initialize the LabelEncoder.\n",
    "\n",
    "* We use the fit_transform method of LabelEncoder to convert the categorical data into numerical data."
   ]
  },
  {
   "cell_type": "markdown",
   "id": "2ec2fd8b",
   "metadata": {},
   "source": [
    "# 2.What are some examples of categorical values?"
   ]
  },
  {
   "cell_type": "markdown",
   "id": "1c0ac82a",
   "metadata": {},
   "source": [
    "## Categorical values are data that can be categorized but lacks an inherent hierarchy or order. In other words, there is no mathematical connection between the categories. \n",
    "\n",
    "## Example:\n",
    "* A person's gender (male/female), eye color (blue, green, brown, etc.), type of vehicle they drive (sedan, SUV, truck, etc.), or the kind of fruit they consume (apple, banana, orange, etc.) are examples of categorical data. \n",
    "\n",
    "## There are two types of categorical data: Nominal and Ordinal. \n",
    "\n",
    "* Nominal data is categorical data that may be divided into groups, but these groups lack any intrinsic hierarchy or order. Examples of nominal data include brand names (Coca-Cola, Pepsi, Sprite), varieties of pizza toppings (pepperoni, mushrooms, onions), and hair color (blonde, brown, black, etc.).\n",
    "\n",
    "* Ordinal data describes information that can be categorized and has a distinct order or ranking.\n",
    "Levels of education (high school, bachelor's, master's), levels of work satisfaction (extremely satisfied, satisfied, neutral, unsatisfied, very unsatisfied), and star ratings (1-star, 2-star, 3-star, 4-star, 5-star) are a few examples of ordinal data.\n",
    "\n",
    "### In Python machine learning libraries such as Pandas provide several functions to handle categorical data.\n",
    "For example 'value_counts()' is a function in the pandas library that returns the frequency of each unique value in a categorical data column."
   ]
  },
  {
   "cell_type": "markdown",
   "id": "9d68f303",
   "metadata": {},
   "source": [
    "# Here’s an example of how you can use the value_counts() function in Python. This function is used to get a Series containing counts of unique values in descending order so that the first element is the most frequently-occurring element.\n",
    "\n",
    "# In this code:\n",
    "\n",
    "* We first import the necessary library: pandas for data manipulation.\n",
    "* We then create a sample pandas Series with some categorical data.\n",
    "* We use the value_counts() method of the Series to count the occurrences of each unique value.\n",
    "* This will output a Series where the index will be the unique items from the original Series, and the values will be their respective counts."
   ]
  },
  {
   "cell_type": "code",
   "execution_count": 5,
   "id": "9356aa07",
   "metadata": {},
   "outputs": [
    {
     "name": "stdout",
     "output_type": "stream",
     "text": [
      "cat     3\n",
      "dog     2\n",
      "bird    1\n",
      "Name: count, dtype: int64\n"
     ]
    }
   ],
   "source": [
    "# Import necessary library\n",
    "import pandas as pd\n",
    "\n",
    "# Assume you have a pandas Series 's'\n",
    "s = pd.Series(['cat', 'dog', 'cat', 'bird', 'dog', 'cat'])\n",
    "\n",
    "# Use value_counts() function\n",
    "print(s.value_counts())"
   ]
  },
  {
   "cell_type": "markdown",
   "id": "c0f1a567",
   "metadata": {},
   "source": [
    "# 3. How can you convert categorical values into numerical format in machine learning?"
   ]
  },
  {
   "cell_type": "markdown",
   "id": "289da1e2",
   "metadata": {},
   "source": [
    "## In Python, there are several ways to convert categorical data into numerical data for use in machine learning. Two popular methods are Label Encoding and One-Hot Encoding, both of which are provided by the \"sklearn\" library or \"SCIKIT-LEARN\" LIBRARY."
   ]
  },
  {
   "cell_type": "markdown",
   "id": "2c756e49",
   "metadata": {},
   "source": [
    "# 4. What are two common methods for converting categorical values into numerical format in machine learning?"
   ]
  },
  {
   "cell_type": "markdown",
   "id": "c73f1767",
   "metadata": {},
   "source": [
    "## The two common methods for converting categorical values into numerical format in machine learning are:\n",
    "## Label Encoding\n",
    "## One-Hot Encoding"
   ]
  },
  {
   "cell_type": "markdown",
   "id": "53bf1fc4",
   "metadata": {},
   "source": [
    "# 5. Explain Label Encoding and how it works."
   ]
  },
  {
   "cell_type": "markdown",
   "id": "9d0810fc",
   "metadata": {},
   "source": [
    "## Label Encoding can be used to transform categorical data into integers. \n",
    "\n",
    "## For example, a list of ['Apple', 'Orange', 'Apple', 'Pear'] can be transformed into [0, 1, 0, 2] with each integer corresponding to an item. \n",
    "### However, this is not always ideal for machine learning as the integers have different numerical values, suggesting that one is bigger than the other, with, for example Pear > Apple, which is not at all the case."
   ]
  },
  {
   "cell_type": "markdown",
   "id": "34ee1418",
   "metadata": {},
   "source": [
    "# EXAMPLE OF PYTHON CODE USING LABEL ENCODING:"
   ]
  },
  {
   "cell_type": "code",
   "execution_count": 18,
   "id": "e8cdcc35",
   "metadata": {},
   "outputs": [
    {
     "name": "stdout",
     "output_type": "stream",
     "text": [
      "[0 1 0 2]\n"
     ]
    }
   ],
   "source": [
    "from sklearn.preprocessing import LabelEncoder\n",
    "from numpy import array\n",
    "from numpy import argmax\n",
    "\n",
    "label_encoder = LabelEncoder()\n",
    "x = ['Apple', 'Orange', 'Apple', 'Pear']\n",
    "y = label_encoder.fit_transform(x)\n",
    "\n",
    "print(y)"
   ]
  },
  {
   "cell_type": "markdown",
   "id": "0c5552c0",
   "metadata": {},
   "source": [
    "# 6. What is One-Hot Encoding, and how does it differ from Label Encoding?"
   ]
  },
  {
   "cell_type": "markdown",
   "id": "8dc5bd8c",
   "metadata": {},
   "source": [
    "## One-Hot Encoding can be used to transform categorical data into a one-hot encoded array. Encoding the previously defined list by using One-Hot Encoder would result in:\n",
    "\n",
    "*   [ [1. 0. 0.]\n",
    "*   [0. 1. 0.]\n",
    "*   [1. 0. 0.]\n",
    "*   [0. 0. 1.] ]\n",
    "\n",
    "\n",
    "## Where each element of the list turns into an array of zeroes and just one 1 which encodes the category of the element."
   ]
  },
  {
   "cell_type": "markdown",
   "id": "011136b2",
   "metadata": {},
   "source": [
    "# EXAMPLE OF PYTHON CODE USING 'ONE-HOT ENCODER' :"
   ]
  },
  {
   "cell_type": "code",
   "execution_count": 20,
   "id": "0c04b75a",
   "metadata": {},
   "outputs": [
    {
     "name": "stdout",
     "output_type": "stream",
     "text": [
      "[[1. 0. 0.]\n",
      " [0. 1. 0.]\n",
      " [1. 0. 0.]\n",
      " [0. 0. 1.]]\n"
     ]
    }
   ],
   "source": [
    "from sklearn.preprocessing import OneHotEncoder\n",
    "from numpy import array\n",
    "from numpy import argmax\n",
    "\n",
    "x = ['Apple', 'Orange', 'Apple', 'Pear']\n",
    "y = label_encoder.fit_transform(x)\n",
    "\n",
    "onehot_encoder = OneHotEncoder(sparse_output=False)\n",
    "y = y.reshape(len(y), 1)\n",
    "onehot_encoded = onehot_encoder.fit_transform(y)\n",
    "print(onehot_encoded)"
   ]
  },
  {
   "cell_type": "markdown",
   "id": "80d91d92",
   "metadata": {},
   "source": [
    "# 7. What is the output of the pandas get_dummies() function?"
   ]
  },
  {
   "cell_type": "markdown",
   "id": "e585111b",
   "metadata": {},
   "source": [
    "# The \"pandas.get_dummies()\" function is used to convert categorical variables into dummy/indicator variables. Each variable is converted into as many 0/1 variables as there are different values.\n",
    "\n",
    "The output of the function is a DataFrame with dummy-coded data. For example, if you have a DataFrame with a column containing the values 'a', 'b', and 'c', calling 'get_dummies()' on that column will create three new columns, one for each unique value, with 1s and 0s indicating the presence or absence of that value in the original row."
   ]
  },
  {
   "cell_type": "code",
   "execution_count": 3,
   "id": "3965f0eb",
   "metadata": {},
   "outputs": [
    {
     "data": {
      "text/html": [
       "<div>\n",
       "<style scoped>\n",
       "    .dataframe tbody tr th:only-of-type {\n",
       "        vertical-align: middle;\n",
       "    }\n",
       "\n",
       "    .dataframe tbody tr th {\n",
       "        vertical-align: top;\n",
       "    }\n",
       "\n",
       "    .dataframe thead th {\n",
       "        text-align: right;\n",
       "    }\n",
       "</style>\n",
       "<table border=\"1\" class=\"dataframe\">\n",
       "  <thead>\n",
       "    <tr style=\"text-align: right;\">\n",
       "      <th></th>\n",
       "      <th>C</th>\n",
       "      <th>0_a</th>\n",
       "      <th>0_b</th>\n",
       "      <th>1_a</th>\n",
       "      <th>1_b</th>\n",
       "      <th>1_c</th>\n",
       "    </tr>\n",
       "  </thead>\n",
       "  <tbody>\n",
       "    <tr>\n",
       "      <th>0</th>\n",
       "      <td>1</td>\n",
       "      <td>True</td>\n",
       "      <td>False</td>\n",
       "      <td>False</td>\n",
       "      <td>True</td>\n",
       "      <td>False</td>\n",
       "    </tr>\n",
       "    <tr>\n",
       "      <th>1</th>\n",
       "      <td>2</td>\n",
       "      <td>False</td>\n",
       "      <td>True</td>\n",
       "      <td>True</td>\n",
       "      <td>False</td>\n",
       "      <td>False</td>\n",
       "    </tr>\n",
       "    <tr>\n",
       "      <th>2</th>\n",
       "      <td>3</td>\n",
       "      <td>True</td>\n",
       "      <td>False</td>\n",
       "      <td>False</td>\n",
       "      <td>False</td>\n",
       "      <td>True</td>\n",
       "    </tr>\n",
       "  </tbody>\n",
       "</table>\n",
       "</div>"
      ],
      "text/plain": [
       "   C    0_a    0_b    1_a    1_b    1_c\n",
       "0  1   True  False  False   True  False\n",
       "1  2  False   True   True  False  False\n",
       "2  3   True  False  False  False   True"
      ]
     },
     "metadata": {},
     "output_type": "display_data"
    }
   ],
   "source": [
    "import pandas as pd\n",
    "import numpy as np\n",
    "\n",
    "# Create a sample DataFrame\n",
    "df = pd.DataFrame({'A': ['a', 'b', 'a'], 'B': ['b', 'a', 'c'], 'C': [1, 2, 3]})\n",
    "\n",
    "# Use get_dummies() to convert categorical variables into dummy/indicator variables\n",
    "dummies_df = pd.get_dummies(df, prefix=['0', '1'])\n",
    "\n",
    "# Display the resulting DataFrame\n",
    "display(dummies_df)"
   ]
  },
  {
   "cell_type": "markdown",
   "id": "605ee716",
   "metadata": {},
   "source": [
    "# 8.  Can you provide an example of a dependent variable and its independent variables?"
   ]
  },
  {
   "cell_type": "markdown",
   "id": "3c5d27d1",
   "metadata": {},
   "source": [
    "'''\n",
    "\n",
    "# Variable that depends on the independent variables are called Dependent variable\n",
    "\n",
    "## Example : Exam Score of a student.\n",
    "\n",
    "* Exam Score is the Dependent Variable\n",
    "\n",
    "* Independent variable - Studying Time.\n",
    "\n",
    "* So if you manipulate the independent variable(i.e. styuding time),  you will observe how exam scores will get affect.\n",
    "\n",
    "'''"
   ]
  },
  {
   "cell_type": "markdown",
   "id": "972b6717",
   "metadata": {},
   "source": [
    "# Example of a dependent variable and its independent variables in Python code for machine learning :\n",
    "\n",
    "## In machine learning, the dependent variable is the target variable that we are trying to predict, while the independent variables are the input features used to make the prediction."
   ]
  },
  {
   "cell_type": "code",
   "execution_count": 9,
   "id": "07477f3e",
   "metadata": {},
   "outputs": [
    {
     "name": "stdout",
     "output_type": "stream",
     "text": [
      "   Feature 1  Feature 2  Feature 3    Target\n",
      "0   0.548814   0.715189   0.602763  5.587945\n",
      "1   0.544883   0.423655   0.645894  2.134771\n",
      "2   0.437587   0.891773   0.963663  5.628629\n",
      "3   0.383442   0.791725   0.528895  3.962871\n",
      "4   0.568045   0.925597   0.071036  2.213264\n"
     ]
    }
   ],
   "source": [
    "# Import necessary libraries\n",
    "import numpy as np\n",
    "import pandas as pd\n",
    "\n",
    "# Generate sample data\n",
    "np.random.seed(0)\n",
    "N = 1000\n",
    "X = np.random.rand(N, 3)\n",
    "y = X[:, 0] + 2 * X[:, 1] + 3 * X[:, 2] + np.random.randn(N)\n",
    "\n",
    "# Create a DataFrame\n",
    "df = pd.DataFrame(X, columns=['Feature 1', 'Feature 2', 'Feature 3'])\n",
    "df['Target'] = y\n",
    "\n",
    "# Display the first few rows of the DataFrame\n",
    "print(df.head())"
   ]
  },
  {
   "cell_type": "markdown",
   "id": "70bd5037",
   "metadata": {},
   "source": [
    "## In this code:\n",
    "\n",
    "* We first import the necessary libraries: numpy for numerical computing and pandas for data manipulation.\n",
    "* We then generate some sample data using numpy’s random.rand function. This creates a matrix X of size N by 3, representing N samples with 3 features each.\n",
    "* We create a dependent variable y as a linear combination of the independent variables in X, plus some random noise.\n",
    "* We create a DataFrame to store our data, with columns for each independent variable and the dependent variable.\n",
    "* Finally, we display the first few rows of the DataFrame1.\n",
    "\n",
    "## In this example, 'Feature 1', 'Feature 2', and 'Feature 3' are the independent variables, while 'Target' is the dependent variable."
   ]
  },
  {
   "cell_type": "markdown",
   "id": "c845cbd6",
   "metadata": {},
   "source": [
    "# 9. What are outliers, and how do they deviate from the majority of the data in a dataset?"
   ]
  },
  {
   "cell_type": "markdown",
   "id": "d448a244",
   "metadata": {},
   "source": [
    "## Outliers is the process of identifying data points or observations that significantly deviate from the majority of the data in a Dataset\n",
    "\n",
    "## It will arise due to variours reasons, including errors in data collection measurement errors."
   ]
  },
  {
   "cell_type": "code",
   "execution_count": 10,
   "id": "2045f672",
   "metadata": {},
   "outputs": [
    {
     "data": {
      "text/html": [
       "<div>\n",
       "<style scoped>\n",
       "    .dataframe tbody tr th:only-of-type {\n",
       "        vertical-align: middle;\n",
       "    }\n",
       "\n",
       "    .dataframe tbody tr th {\n",
       "        vertical-align: top;\n",
       "    }\n",
       "\n",
       "    .dataframe thead th {\n",
       "        text-align: right;\n",
       "    }\n",
       "</style>\n",
       "<table border=\"1\" class=\"dataframe\">\n",
       "  <thead>\n",
       "    <tr style=\"text-align: right;\">\n",
       "      <th></th>\n",
       "      <th>House_Id</th>\n",
       "      <th>House_Price</th>\n",
       "    </tr>\n",
       "  </thead>\n",
       "  <tbody>\n",
       "    <tr>\n",
       "      <th>0</th>\n",
       "      <td>1</td>\n",
       "      <td>300</td>\n",
       "    </tr>\n",
       "    <tr>\n",
       "      <th>1</th>\n",
       "      <td>2</td>\n",
       "      <td>400</td>\n",
       "    </tr>\n",
       "    <tr>\n",
       "      <th>2</th>\n",
       "      <td>3</td>\n",
       "      <td>450</td>\n",
       "    </tr>\n",
       "    <tr>\n",
       "      <th>3</th>\n",
       "      <td>4</td>\n",
       "      <td>555</td>\n",
       "    </tr>\n",
       "    <tr>\n",
       "      <th>4</th>\n",
       "      <td>5</td>\n",
       "      <td>5000</td>\n",
       "    </tr>\n",
       "  </tbody>\n",
       "</table>\n",
       "</div>"
      ],
      "text/plain": [
       "   House_Id  House_Price\n",
       "0         1          300\n",
       "1         2          400\n",
       "2         3          450\n",
       "3         4          555\n",
       "4         5         5000"
      ]
     },
     "execution_count": 10,
     "metadata": {},
     "output_type": "execute_result"
    }
   ],
   "source": [
    "import numpy as np\n",
    "import pandas as pd\n",
    "from sklearn.ensemble import IsolationForest\n",
    "\n",
    "# Dataset\n",
    "\n",
    "data = {\n",
    "    'House_Id':[1,2,3,4,5],\n",
    "    'House_Price':[300,400,450,555,5000]\n",
    "}\n",
    "\n",
    "df=pd.DataFrame(data)\n",
    "\n",
    "df\n"
   ]
  },
  {
   "cell_type": "markdown",
   "id": "aa212fc5",
   "metadata": {},
   "source": [
    "# IsolationForest -- It is used to detect the outliers.\n",
    "\n",
    "* The method assigns a label of -1 to outliers and 1 to inliers.\n",
    "\n",
    "\n",
    "# Inliers -- Data points which are normal within dataset."
   ]
  },
  {
   "cell_type": "markdown",
   "id": "f842e2b6",
   "metadata": {},
   "source": [
    "# In the output, the last row indicates an outliers because its price is significantly higher compared to the rest of the prices. i.e. Odd one out."
   ]
  },
  {
   "cell_type": "markdown",
   "id": "c13c9a00",
   "metadata": {},
   "source": [
    "# 10.  How can you customize the appearance of a pie chart in Matplotlib?"
   ]
  },
  {
   "cell_type": "markdown",
   "id": "473ceff1",
   "metadata": {},
   "source": [
    "# The python program showing to customize the appearance of a pie chart in Matplotlib :::"
   ]
  },
  {
   "cell_type": "code",
   "execution_count": 5,
   "id": "a476d030",
   "metadata": {},
   "outputs": [
    {
     "data": {
      "text/plain": [
       "<function matplotlib.pyplot.show(close=None, block=None)>"
      ]
     },
     "execution_count": 5,
     "metadata": {},
     "output_type": "execute_result"
    },
    {
     "data": {
      "image/png": "[encoded data removed]",
      "text/plain": [
       "<Figure size 640x480 with 1 Axes>"
      ]
     },
     "metadata": {},
     "output_type": "display_data"
    },
    {
     "data": {
      "text/plain": [
       "<Figure size 1000x600 with 0 Axes>"
      ]
     },
     "metadata": {},
     "output_type": "display_data"
    }
   ],
   "source": [
    "import matplotlib.pyplot as mpl\n",
    "\n",
    "data={'apple':40,\n",
    "      'samsung':20,\n",
    "      'motorola':10,\n",
    "      'xiaomi':15,\n",
    "      'others':15}\n",
    "\n",
    "name=data.keys()\n",
    "contribution=data.values()\n",
    "design=['gold','coral','skyblue','lightgreen','pink']\n",
    "ex=[0,0.2,0.2,0.2,0.2]\n",
    "\n",
    "mpl.pie(contribution,\n",
    "        labels=name,\n",
    "        autopct='%1.0f%%',\n",
    "        colors=design,\n",
    "       shadow=True,\n",
    "       explode=ex,\n",
    "       wedgeprops={ 'linewidth':3,'edgecolor':'black'},\n",
    "       textprops={'fontsize':15,'color':'black'},\n",
    "        labeldistance=1.2)\n",
    "mpl.figure(figsize=(10,6))\n",
    "\n",
    "mpl.show"
   ]
  },
  {
   "cell_type": "markdown",
   "id": "4b980821",
   "metadata": {},
   "source": [
    "# --------------------------------------END OF ASSIGNMENT-----------------------------------------"
   ]
  }
 ],
 "metadata": {
  "kernelspec": {
   "display_name": "Python 3 (ipykernel)",
   "language": "python",
   "name": "python3"
  },
  "language_info": {
   "codemirror_mode": {
    "name": "ipython",
    "version": 3
   },
   "file_extension": ".py",
   "mimetype": "text/x-python",
   "name": "python",
   "nbconvert_exporter": "python",
   "pygments_lexer": "ipython3",
   "version": "3.11.3"
  }
 },
 "nbformat": 4,
 "nbformat_minor": 5
}
