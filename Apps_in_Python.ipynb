{
 "cells": [
  {
   "cell_type": "markdown",
   "id": "73f891c0",
   "metadata": {},
   "source": [
    "## 1.Here is a simple Python application for a cricket game between the Computer and SYMCA teams. This game is designed for 5 overs with each over consisting of 6 balls. The Computer team’s score is randomly generated between 30 and 50. For the SYMCA team, a random number between 0 and 6 is generated for each ball. If the number is 0, the player is considered out. The game ends when all players are out or when 5 overs have been completed. The scores are displayed player-wise and the final match result is also displayed."
   ]
  },
  {
   "cell_type": "code",
   "execution_count": 1,
   "id": "e3afe751",
   "metadata": {},
   "outputs": [
    {
     "name": "stdout",
     "output_type": "stream",
     "text": [
      "Computer Score: 48\n",
      "Over 1, Ball 1: Player 1 scored 4\n",
      "Over 1, Ball 2: Player 1 is out\n",
      "Over 1, Ball 3: Player 2 scored 4\n",
      "Over 1, Ball 4: Player 2 scored 1\n",
      "Over 1, Ball 5: Player 2 scored 2\n",
      "Over 1, Ball 6: Player 2 is out\n",
      "Over 2, Ball 1: Player 3 scored 1\n",
      "Over 2, Ball 2: Player 3 scored 6\n",
      "Over 2, Ball 3: Player 3 scored 2\n",
      "Over 2, Ball 4: Player 3 scored 4\n",
      "Over 2, Ball 5: Player 3 scored 1\n",
      "Over 2, Ball 6: Player 3 scored 6\n",
      "Over 3, Ball 1: Player 3 scored 6\n",
      "Over 3, Ball 2: Player 3 scored 6\n",
      "Over 3, Ball 3: Player 3 scored 5\n",
      "Over 3, Ball 4: Player 3 scored 2\n",
      "Over 3, Ball 5: Player 3 is out\n",
      "Over 3, Ball 6: Player 4 scored 4\n",
      "Over 4, Ball 1: Player 4 scored 3\n",
      "Over 4, Ball 2: Player 4 scored 2\n",
      "Over 4, Ball 3: Player 4 is out\n",
      "Over 4, Ball 4: Player 5 scored 4\n",
      "Over 4, Ball 5: Player 5 scored 2\n",
      "Over 4, Ball 6: Player 5 scored 3\n",
      "Over 5, Ball 1: Player 5 is out\n",
      "Over 5, Ball 2: Player 6 scored 2\n",
      "Over 5, Ball 3: Player 6 scored 1\n",
      "Over 5, Ball 4: Player 6 scored 5\n",
      "Over 5, Ball 5: Player 6 is out\n",
      "Over 5, Ball 6: Player 7 scored 6\n",
      "SYMCA Score: 82\n",
      "SYMCA won the match\n"
     ]
    }
   ],
   "source": [
    "import random\n",
    "\n",
    "# Initialize variables\n",
    "computer_score = random.randint(30, 50)\n",
    "symca_score = 0\n",
    "players_out = 0\n",
    "overs = 5\n",
    "balls_per_over = 6\n",
    "\n",
    "# Print computer score\n",
    "print(f\"Computer Score: {computer_score}\")\n",
    "\n",
    "# Game for SYMCA team\n",
    "for over in range(1, overs + 1):\n",
    "    for ball in range(1, balls_per_over + 1):\n",
    "        if players_out == 10:  # All players are out\n",
    "            print(\"SYMCA All Out\")\n",
    "            break\n",
    "        run = random.randint(0, 6)\n",
    "        if run == 0:  # Player is out\n",
    "            players_out += 1\n",
    "            print(f\"Over {over}, Ball {ball}: Player {players_out} is out\")\n",
    "        else:\n",
    "            symca_score += run\n",
    "            print(f\"Over {over}, Ball {ball}: Player {players_out + 1} scored {run}\")\n",
    "    if players_out == 10:\n",
    "        break\n",
    "\n",
    "# Print SYMCA score\n",
    "print(f\"SYMCA Score: {symca_score}\")\n",
    "\n",
    "# Print match result\n",
    "if symca_score > computer_score:\n",
    "    print(\"SYMCA won the match\")\n",
    "elif symca_score < computer_score:\n",
    "    print(\"Computer won the match\")\n",
    "else:\n",
    "    print(\"The match is a draw\")"
   ]
  },
  {
   "cell_type": "markdown",
   "id": "e4a66414",
   "metadata": {},
   "source": [
    "**************************************************************************************************"
   ]
  },
  {
   "cell_type": "markdown",
   "id": "43e789fb",
   "metadata": {},
   "source": [
    "##  2.Here is a simple Python application for a dice rolling game between two players. Each player gets 10 turns to roll a dice. If a player rolls a 4 or 6, they get a bonus turn. The scores are displayed player-wise after every turn. The final scores are calculated and the winner is declared."
   ]
  },
  {
   "cell_type": "code",
   "execution_count": 2,
   "id": "85a6c045",
   "metadata": {},
   "outputs": [
    {
     "name": "stdout",
     "output_type": "stream",
     "text": [
      "Turn 1: Player 1 rolled 2, Player 2 rolled 6\n",
      "Scores after turn 1: Player 1: 2, Player 2: 6\n",
      "Player 2 gets a bonus turn and rolls a 6. Score: 12\n",
      "Turn 2: Player 1 rolled 5, Player 2 rolled 3\n",
      "Scores after turn 2: Player 1: 7, Player 2: 15\n",
      "Turn 3: Player 1 rolled 5, Player 2 rolled 5\n",
      "Scores after turn 3: Player 1: 12, Player 2: 20\n",
      "Turn 4: Player 1 rolled 2, Player 2 rolled 3\n",
      "Scores after turn 4: Player 1: 14, Player 2: 23\n",
      "Turn 5: Player 1 rolled 4, Player 2 rolled 3\n",
      "Scores after turn 5: Player 1: 18, Player 2: 26\n",
      "Player 1 gets a bonus turn and rolls a 2. Score: 20\n",
      "Turn 6: Player 1 rolled 3, Player 2 rolled 3\n",
      "Scores after turn 6: Player 1: 23, Player 2: 29\n",
      "Turn 7: Player 1 rolled 6, Player 2 rolled 2\n",
      "Scores after turn 7: Player 1: 29, Player 2: 31\n",
      "Player 1 gets a bonus turn and rolls a 5. Score: 34\n",
      "Turn 8: Player 1 rolled 5, Player 2 rolled 4\n",
      "Scores after turn 8: Player 1: 39, Player 2: 35\n",
      "Player 2 gets a bonus turn and rolls a 6. Score: 41\n",
      "Turn 9: Player 1 rolled 1, Player 2 rolled 6\n",
      "Scores after turn 9: Player 1: 40, Player 2: 47\n",
      "Player 2 gets a bonus turn and rolls a 5. Score: 52\n",
      "Turn 10: Player 1 rolled 4, Player 2 rolled 6\n",
      "Scores after turn 10: Player 1: 44, Player 2: 58\n",
      "Player 1 gets a bonus turn and rolls a 1. Score: 45\n",
      "Player 2 gets a bonus turn and rolls a 2. Score: 60\n",
      "Final Scores: Player 1: 45, Player 2: 60\n",
      "Player 2 wins the game\n"
     ]
    }
   ],
   "source": [
    "import random\n",
    "\n",
    "# Initialize variables\n",
    "turns = 10\n",
    "player1_score = 0\n",
    "player2_score = 0\n",
    "\n",
    "# Game for both players\n",
    "for turn in range(1, turns + 1):\n",
    "    player1_roll = random.randint(1, 6)\n",
    "    player2_roll = random.randint(1, 6)\n",
    "    player1_score += player1_roll\n",
    "    player2_score += player2_roll\n",
    "    print(f\"Turn {turn}: Player 1 rolled {player1_roll}, Player 2 rolled {player2_roll}\")\n",
    "    print(f\"Scores after turn {turn}: Player 1: {player1_score}, Player 2: {player2_score}\")\n",
    "    # Bonus turn for rolling a 4 or 6\n",
    "    if player1_roll in [4, 6]:\n",
    "        bonus_roll = random.randint(1, 6)\n",
    "        player1_score += bonus_roll\n",
    "        print(f\"Player 1 gets a bonus turn and rolls a {bonus_roll}. Score: {player1_score}\")\n",
    "    if player2_roll in [4, 6]:\n",
    "        bonus_roll = random.randint(1, 6)\n",
    "        player2_score += bonus_roll\n",
    "        print(f\"Player 2 gets a bonus turn and rolls a {bonus_roll}. Score: {player2_score}\")\n",
    "\n",
    "# Print final scores and declare winner\n",
    "print(f\"Final Scores: Player 1: {player1_score}, Player 2: {player2_score}\")\n",
    "if player1_score > player2_score:\n",
    "    print(\"Player 1 wins the game\")\n",
    "elif player1_score < player2_score:\n",
    "    print(\"Player 2 wins the game\")\n",
    "else:\n",
    "    print(\"The game is a draw\")"
   ]
  },
  {
   "cell_type": "markdown",
   "id": "e282b83e",
   "metadata": {},
   "source": [
    "****************************"
   ]
  },
  {
   "cell_type": "markdown",
   "id": "09740899",
   "metadata": {},
   "source": [
    "## 3.Here is a simple Python application that implements Guessing the number game :"
   ]
  },
  {
   "cell_type": "code",
   "execution_count": 1,
   "id": "7d36187e",
   "metadata": {},
   "outputs": [
    {
     "name": "stdout",
     "output_type": "stream",
     "text": [
      "Choose your level (Beginner/Expert): Expert\n",
      "Guess the number (1-20): 13\n",
      "Wrong guess. Try again.\n",
      "Guess the number (1-20): 15\n",
      "Wrong guess. Try again.\n",
      "Guess the number (1-20): 17\n",
      "Wrong guess. Try again.\n",
      "Your final score is: 0\n"
     ]
    }
   ],
   "source": [
    "import random\n",
    "\n",
    "class GuessingGame:\n",
    "    def __init__(self):\n",
    "        self.levels = {\n",
    "            'Beginner': {'range': 10, 'scores': [30, 20, 10]},\n",
    "            'Expert': {'range': 20, 'scores': [50, 40, 30]}\n",
    "        }\n",
    "\n",
    "    def play(self, level):\n",
    "        number = random.randint(1, self.levels[level]['range'])\n",
    "        score = 0\n",
    "        for i in range(3):\n",
    "            guess = int(input(f'Guess the number (1-{self.levels[level][\"range\"]}): '))\n",
    "            if guess == number:\n",
    "                print('Correct guess!')\n",
    "                score += self.levels[level]['scores'][i]\n",
    "                break\n",
    "            else:\n",
    "                print('Wrong guess. Try again.')\n",
    "        print(f'Your final score is: {score}')\n",
    "\n",
    "game = GuessingGame()\n",
    "level = input('Choose your level (Beginner/Expert): ')\n",
    "game.play(level)"
   ]
  },
  {
   "cell_type": "markdown",
   "id": "8851976b",
   "metadata": {},
   "source": [
    "* This game has two levels: Beginner and Expert. In the Beginner level, the player guesses a number between 1 and 10, and in the Expert level, the player guesses a number between 1 and 20. The player has three attempts to guess the number in each level. The score for each correct guess depends on the level and the attempt number. After every wrong guess, the player is prompted to try again. The final score is displayed at the end of the game. Please note that this is a console-based game and the input is taken from the console. If you want to implement this in a GUI-based application, you would need to modify the input and print statements accordingly. Also, this code does not handle invalid inputs, so you might want to add error handling for a more robust application. Enjoy the game!"
   ]
  },
  {
   "cell_type": "markdown",
   "id": "75aa5d1d",
   "metadata": {},
   "source": [
    "****************************************************************************************************"
   ]
  },
  {
   "cell_type": "markdown",
   "id": "ef3eb026",
   "metadata": {},
   "source": [
    "# 4.Here is a simple Python application that implements the Rock, Paper, Scissors game:"
   ]
  },
  {
   "cell_type": "code",
   "execution_count": 2,
   "id": "bbec24bf",
   "metadata": {},
   "outputs": [
    {
     "name": "stdout",
     "output_type": "stream",
     "text": [
      "Enter your choice (rock/paper/scissors): paper\n",
      "You lost!\n"
     ]
    }
   ],
   "source": [
    "import random\n",
    "\n",
    "def play():\n",
    "    user = input(\"Enter your choice (rock/paper/scissors): \")\n",
    "    user = user.lower()\n",
    "\n",
    "    while (user != \"rock\" and user != \"paper\" and user != \"scissors\"):\n",
    "        user = input(\"Invalid input. Enter your choice (rock/paper/scissors): \")\n",
    "        \n",
    "    computer = random.choice(['rock', 'paper', 'scissors'])\n",
    "\n",
    "    if user == computer:\n",
    "        return \"It's a tie!\"\n",
    "\n",
    "    if is_win(user, computer):\n",
    "        return \"You won!\"\n",
    "\n",
    "    return \"You lost!\"\n",
    "\n",
    "def is_win(player, opponent):\n",
    "    if (player == 'rock' and opponent == 'scissors') or (player == 'scissors' and opponent == 'paper') or (player == 'paper' and opponent == 'rock'):\n",
    "        return True\n",
    "\n",
    "print(play())"
   ]
  },
  {
   "cell_type": "markdown",
   "id": "efdd9d64",
   "metadata": {},
   "source": [
    "* In this game, the player inputs their choice of ‘rock’, ‘paper’, or ‘scissors’, and the computer randomly selects its choice. The game then determines the winner based on the rules of Rock, Paper, Scissors. The result of the game is printed to the console. Please note that this is a console-based game and the input is taken from the console. If you want to implement this in a GUI-based application, you would need to modify the input and print statements accordingly. Also, this code does not handle invalid inputs, so you might want to add error handling for a more robust application. Enjoy the game!"
   ]
  },
  {
   "cell_type": "markdown",
   "id": "b6bb6818",
   "metadata": {},
   "source": [
    "****************************************************************************************************"
   ]
  },
  {
   "cell_type": "markdown",
   "id": "f4d196fb",
   "metadata": {},
   "source": [
    "# 5.Here is a simple Python application that implements Guessing the Fruit game :"
   ]
  },
  {
   "cell_type": "code",
   "execution_count": 4,
   "id": "b403b052",
   "metadata": {},
   "outputs": [
    {
     "name": "stdout",
     "output_type": "stream",
     "text": [
      "Guess the fruit: banana\n",
      "You're a winner! You guessed correctly in 1 attempts.\n"
     ]
    }
   ],
   "source": [
    "import random\n",
    "\n",
    "def play():\n",
    "    fruits = ['apple', 'banana']\n",
    "    fruit = random.choice(fruits)\n",
    "    hints = {'apple': 'I am red and round', 'banana': 'I am long and yellow'}\n",
    "\n",
    "    for i in range(3):\n",
    "        guess = input(\"Guess the fruit: \")\n",
    "        if guess.lower() == fruit:\n",
    "            return f\"You're a winner! You guessed correctly in {i+1} attempts.\"\n",
    "        else:\n",
    "            print(f\"Wrong guess. Here's a hint: {hints[fruit]}\")\n",
    "    return \"You lost! Better luck next time.\"\n",
    "\n",
    "print(play())"
   ]
  },
  {
   "cell_type": "markdown",
   "id": "4b4d8bce",
   "metadata": {},
   "source": [
    "* In this game, the computer randomly selects a fruit from a list of two fruits: apple and banana. The player has three attempts to guess the fruit. After each wrong guess, the player is given a hint about the fruit. The result of the game is printed to the console. Please note that this is a console-based game and the input is taken from the console. If you want to implement this in a GUI-based application, you would need to modify the input and print statements accordingly. Also, this code does not handle invalid inputs, so you might want to add error handling for a more robust application. Enjoy the game!"
   ]
  },
  {
   "cell_type": "markdown",
   "id": "f52ce4f7",
   "metadata": {},
   "source": [
    "*****************************************************************************************************"
   ]
  },
  {
   "cell_type": "markdown",
   "id": "b4526962",
   "metadata": {},
   "source": [
    "## 6.Here is a simple Python application for a fruit guessing game. The game randomly selects a fruit from a list of 15 fruits and asks the user to guess the letters in the fruit. If the user’s guess matches any of the letters in the fruit, the corresponding “_” is replaced with that letter. If the guess is incorrect, the letters of “JOKER” are written one at a time. The user is given a maximum of 5 chances after an incorrect guess. A hint is given after every wrong guess. The result of the game is displayed as either “Winner” or “Loser”."
   ]
  },
  {
   "cell_type": "code",
   "execution_count": 3,
   "id": "e1ef145d",
   "metadata": {},
   "outputs": [
    {
     "name": "stdout",
     "output_type": "stream",
     "text": [
      "_ _ _ _\n",
      "Guess a letter: a\n",
      "_ a _ _\n",
      "Guess a letter: d\n",
      "d a _ _\n",
      "Guess a letter: T\n",
      "d a t _\n",
      "Guess a letter: E\n",
      "Winner in 0 chances\n"
     ]
    }
   ],
   "source": [
    "import random\n",
    "\n",
    "# Initialize variables\n",
    "fruits = ['apple', 'banana', 'cherry', 'date', 'elderberry', 'fig', 'grape', 'honeydew', 'kiwi', 'lemon', 'mango', 'nectarine', 'orange', 'peach', 'quince']\n",
    "fruit = random.choice(fruits)\n",
    "guess = ['_'] * len(fruit)\n",
    "chances = 5\n",
    "joker = list('JOKER')\n",
    "\n",
    "# Game loop\n",
    "while chances > 0 and '_' in guess:\n",
    "    print(' '.join(guess))\n",
    "    letter = input(\"Guess a letter: \").lower()\n",
    "    if letter in fruit:\n",
    "        for i in range(len(fruit)):\n",
    "            if fruit[i] == letter:\n",
    "                guess[i] = letter\n",
    "    else:\n",
    "        if joker:\n",
    "            print(joker.pop(0))\n",
    "        else:\n",
    "            chances -= 1\n",
    "            print(f\"Incorrect guess. Remaining chances: {chances}\")\n",
    "            if fruit[0] == 'a' or fruit[0] == 'e' or fruit[0] == 'i' or fruit[0] == 'o' or fruit[0] == 'u':\n",
    "                print(\"Hint: The fruit starts with a vowel\")\n",
    "            else:\n",
    "                print(\"Hint: The fruit starts with a consonant\")\n",
    "\n",
    "# Print final result\n",
    "if '_' in guess:\n",
    "    print(\"Loser\")\n",
    "else:\n",
    "    print(\"Winner in\", 5 - chances, \"chances\")"
   ]
  }
 ],
 "metadata": {
  "kernelspec": {
   "display_name": "Python 3 (ipykernel)",
   "language": "python",
   "name": "python3"
  },
  "language_info": {
   "codemirror_mode": {
    "name": "ipython",
    "version": 3
   },
   "file_extension": ".py",
   "mimetype": "text/x-python",
   "name": "python",
   "nbconvert_exporter": "python",
   "pygments_lexer": "ipython3",
   "version": "3.11.5"
  }
 },
 "nbformat": 4,
 "nbformat_minor": 5
}
