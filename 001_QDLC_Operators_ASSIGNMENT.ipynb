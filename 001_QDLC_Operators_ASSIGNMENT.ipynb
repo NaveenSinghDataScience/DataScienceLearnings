{
 "cells": [
  {
   "cell_type": "markdown",
   "id": "85b6c06e",
   "metadata": {},
   "source": [
    "# ARITHMETIC OPERATORS"
   ]
  },
  {
   "cell_type": "code",
   "execution_count": 1,
   "id": "a8eb1d93",
   "metadata": {},
   "outputs": [
    {
     "name": "stdout",
     "output_type": "stream",
     "text": [
      "THE RESULT OF 5+3 IS 8\n"
     ]
    }
   ],
   "source": [
    "a=5\n",
    "b=3\n",
    "res=a+b\n",
    "print(\"THE RESULT OF 5+3 IS\",res)"
   ]
  },
  {
   "cell_type": "code",
   "execution_count": 2,
   "id": "10f9c0e9",
   "metadata": {},
   "outputs": [
    {
     "name": "stdout",
     "output_type": "stream",
     "text": [
      "BY EVALUATING THE EXPRESSION 10-4 THE RESULT IS 6\n"
     ]
    }
   ],
   "source": [
    "a=10\n",
    "b=4\n",
    "res=a-b\n",
    "print(\"BY EVALUATING THE EXPRESSION 10-4 THE RESULT IS\",res)"
   ]
  },
  {
   "cell_type": "code",
   "execution_count": 3,
   "id": "9fcb275d",
   "metadata": {},
   "outputs": [
    {
     "name": "stdout",
     "output_type": "stream",
     "text": [
      "THE VALUE OF 6*7 IS 42\n"
     ]
    }
   ],
   "source": [
    "a=6\n",
    "b=7\n",
    "res=a*b\n",
    "print(\"THE VALUE OF 6*7 IS\",res)"
   ]
  },
  {
   "cell_type": "code",
   "execution_count": 8,
   "id": "abb0f7f9",
   "metadata": {},
   "outputs": [
    {
     "name": "stdout",
     "output_type": "stream",
     "text": [
      "THE RESULT OF 15/3 is 5.0\n"
     ]
    }
   ],
   "source": [
    "a=15\n",
    "b=3\n",
    "res=a/b\n",
    "print(\"THE RESULT OF 15/3 is\",res)"
   ]
  },
  {
   "cell_type": "code",
   "execution_count": 4,
   "id": "630e952a",
   "metadata": {},
   "outputs": [
    {
     "name": "stdout",
     "output_type": "stream",
     "text": [
      "THE RESULT OF 10//3 is 3\n"
     ]
    }
   ],
   "source": [
    "a=10\n",
    "b=3\n",
    "res=a//b\n",
    "print(\"THE RESULT OF 10//3 is\",res)"
   ]
  },
  {
   "cell_type": "code",
   "execution_count": 5,
   "id": "13a5c32a",
   "metadata": {},
   "outputs": [
    {
     "name": "stdout",
     "output_type": "stream",
     "text": [
      "THE REMAINDER OF 12%5 is 2\n"
     ]
    }
   ],
   "source": [
    "a=12\n",
    "b=5\n",
    "res=a%b\n",
    "print(\"THE REMAINDER OF 12%5 is\",res)"
   ]
  },
  {
   "cell_type": "code",
   "execution_count": 6,
   "id": "1ca2f9b3",
   "metadata": {},
   "outputs": [
    {
     "name": "stdout",
     "output_type": "stream",
     "text": [
      "THE RESULT OF 2 RAISED TO THE POWER 4 is 16\n"
     ]
    }
   ],
   "source": [
    "a=2\n",
    "b=4\n",
    "res=a**b\n",
    "print(\"THE RESULT OF 2 RAISED TO THE POWER 4 is\",res)"
   ]
  },
  {
   "cell_type": "code",
   "execution_count": 7,
   "id": "40d01dd8",
   "metadata": {},
   "outputs": [
    {
     "name": "stdout",
     "output_type": "stream",
     "text": [
      "THE VALUE OF THE GIVEN EXPRESSION x+y*2 is 11\n"
     ]
    }
   ],
   "source": [
    "x=5\n",
    "y=3\n",
    "res=x+y*2\n",
    "print(\"THE VALUE OF THE GIVEN EXPRESSION x+y*2 is\",res)"
   ]
  },
  {
   "cell_type": "markdown",
   "id": "9ca8b690",
   "metadata": {},
   "source": [
    "# COMPARISON OPERATORS"
   ]
  },
  {
   "cell_type": "code",
   "execution_count": 21,
   "id": "69e19d21",
   "metadata": {},
   "outputs": [
    {
     "name": "stdout",
     "output_type": "stream",
     "text": [
      "THE CONDITION is True\n"
     ]
    }
   ],
   "source": [
    "a=7\n",
    "b=5\n",
    "c=a>b\n",
    "print(\"THE CONDITION is\",c)"
   ]
  },
  {
   "cell_type": "code",
   "execution_count": 1,
   "id": "4246b925",
   "metadata": {},
   "outputs": [
    {
     "name": "stdout",
     "output_type": "stream",
     "text": [
      "THE STATEMENT 10<5 is False\n"
     ]
    }
   ],
   "source": [
    "a=10\n",
    "b=5\n",
    "c=a<b\n",
    "print(\"THE STATEMENT 10<5 is\",c)"
   ]
  },
  {
   "cell_type": "code",
   "execution_count": 2,
   "id": "b700df78",
   "metadata": {},
   "outputs": [
    {
     "name": "stdout",
     "output_type": "stream",
     "text": [
      "THE RESULT CONDITION OF 8>=8 is True\n"
     ]
    }
   ],
   "source": [
    "a=8\n",
    "b=8\n",
    "c=a>=b\n",
    "print(\"THE RESULT CONDITION OF 8>=8 is\",c)"
   ]
  },
  {
   "cell_type": "code",
   "execution_count": 3,
   "id": "c1d0cfef",
   "metadata": {},
   "outputs": [
    {
     "name": "stdout",
     "output_type": "stream",
     "text": [
      "THE GIVEN STATEMENT is True\n"
     ]
    }
   ],
   "source": [
    "a=6\n",
    "b=6\n",
    "c=a==b\n",
    "if a==b:\n",
    "    print(\"THE GIVEN STATEMENT is\",c)"
   ]
  },
  {
   "cell_type": "code",
   "execution_count": 5,
   "id": "fe33f177",
   "metadata": {},
   "outputs": [
    {
     "name": "stdout",
     "output_type": "stream",
     "text": [
      "THE GIVEN STATEMENT is False\n"
     ]
    }
   ],
   "source": [
    "a=3\n",
    "b=3\n",
    "c=a!=b\n",
    "if a==b:\n",
    "    print(\"THE GIVEN STATEMENT is\",c)"
   ]
  },
  {
   "cell_type": "code",
   "execution_count": 7,
   "id": "96284bb0",
   "metadata": {},
   "outputs": [
    {
     "name": "stdout",
     "output_type": "stream",
     "text": [
      "x IS GREATER THAN y\n"
     ]
    }
   ],
   "source": [
    "x=10\n",
    "y=5\n",
    "if x>y:\n",
    "    print(\"x IS GREATER THAN y\")\n",
    "else:\n",
    "    print(\"x IS LESS THAN y\")"
   ]
  },
  {
   "cell_type": "code",
   "execution_count": 11,
   "id": "dd0055a3",
   "metadata": {},
   "outputs": [
    {
     "name": "stdout",
     "output_type": "stream",
     "text": [
      "THE CONDITION IS False\n"
     ]
    }
   ],
   "source": [
    "a=\"hello\"\n",
    "b=\"Hello\"\n",
    "c=a==b\n",
    "if a==b:\n",
    "    print(\"THE CONDITION is\",c)\n",
    "else:\n",
    "    print(\"THE CONDITION IS\",c)"
   ]
  },
  {
   "cell_type": "markdown",
   "id": "d288438a",
   "metadata": {},
   "source": [
    "# LOGICAL OPERATORS"
   ]
  },
  {
   "cell_type": "code",
   "execution_count": 10,
   "id": "01897ee9",
   "metadata": {},
   "outputs": [
    {
     "name": "stdout",
     "output_type": "stream",
     "text": [
      "VALUE ASSIGNED is False\n"
     ]
    }
   ],
   "source": [
    "name= \"Naveen\"\n",
    "schoolname= \"Naveen Singh\"\n",
    "studentname= name==schoolname\n",
    "if name==schoolname:\n",
    "    print(\"THE INPUT IS\",name,schoolname)\n",
    "else:\n",
    "    print(\"VALUE ASSIGNED is\",studentname)"
   ]
  },
  {
   "cell_type": "code",
   "execution_count": 14,
   "id": "813b41ce",
   "metadata": {},
   "outputs": [
    {
     "name": "stdout",
     "output_type": "stream",
     "text": [
      "SORRY THE ANSWER is DELHI\n"
     ]
    }
   ],
   "source": [
    "value1= \"DELHI\"\n",
    "value2= \"Bhopal\"\n",
    "capital= value1\n",
    "if value2==\"DELHI\":\n",
    "    print(\"YOUR ANSWER IS CORRECT\")   #TRUE BLOCK\n",
    "else:\n",
    "    print(\"SORRY THE ANSWER is\",capital)  #FALSE BLOCK"
   ]
  },
  {
   "cell_type": "code",
   "execution_count": 15,
   "id": "9c58069a",
   "metadata": {},
   "outputs": [
    {
     "name": "stdout",
     "output_type": "stream",
     "text": [
      "YOUR ANSWER IS CORRECT\n"
     ]
    }
   ],
   "source": [
    "value1= \"DELHI\"\n",
    "value2= \"Bhopal\"\n",
    "capital= value1\n",
    "if value1==\"DELHI\":\n",
    "    print(\"YOUR ANSWER IS CORRECT\")  #TRUE BLOCK\n",
    "else:\n",
    "    print(\"SORRY THE ANSWER is\",capital)  #FALSE BLOCK"
   ]
  },
  {
   "cell_type": "code",
   "execution_count": 5,
   "id": "2269d6d6",
   "metadata": {},
   "outputs": [
    {
     "name": "stdout",
     "output_type": "stream",
     "text": [
      "NOT PRESENT\n"
     ]
    }
   ],
   "source": [
    "a= (1,2,3,4,5,6,7)\n",
    "b= (11,22,33,44,55,66,77)\n",
    "if \"33\" in \"a\" and \"b\":\n",
    "    print(a,b)\n",
    "else:\n",
    "    print(\"NOT PRESENT\")"
   ]
  },
  {
   "cell_type": "code",
   "execution_count": 23,
   "id": "878edf15",
   "metadata": {},
   "outputs": [
    {
     "name": "stdout",
     "output_type": "stream",
     "text": [
      "10 is GREATER THAN 5 is True\n",
      "5 IS LESS THAN 2 is False\n"
     ]
    }
   ],
   "source": [
    "a=10\n",
    "b=5\n",
    "c=2\n",
    "d= a>b\n",
    "e= b<c\n",
    "if a>b:\n",
    "    print(\"10 is GREATER THAN 5 is\",d)\n",
    "    print(\"5 IS LESS THAN 2 is\",e)\n"
   ]
  },
  {
   "cell_type": "code",
   "execution_count": 24,
   "id": "cf493998",
   "metadata": {},
   "outputs": [
    {
     "name": "stdout",
     "output_type": "stream",
     "text": [
      "3==3 is True\n"
     ]
    }
   ],
   "source": [
    "a=3\n",
    "b=3\n",
    "c=a==b\n",
    "if a==3:\n",
    "    print(\"3==3 is\",c)"
   ]
  },
  {
   "cell_type": "code",
   "execution_count": 26,
   "id": "f8ce8f25",
   "metadata": {},
   "outputs": [
    {
     "name": "stdout",
     "output_type": "stream",
     "text": [
      "4!=4 is False\n"
     ]
    }
   ],
   "source": [
    "a=4\n",
    "b=4\n",
    "c=a!=b\n",
    "if a==4:\n",
    "    print(\"4!=4 is\",c)"
   ]
  },
  {
   "cell_type": "markdown",
   "id": "40e99ac5",
   "metadata": {},
   "source": [
    "# ASSIGNMENT OPERATORS"
   ]
  },
  {
   "cell_type": "code",
   "execution_count": 27,
   "id": "b3abcdd2",
   "metadata": {},
   "outputs": [
    {
     "name": "stdout",
     "output_type": "stream",
     "text": [
      "10\n"
     ]
    }
   ],
   "source": [
    "x=10\n",
    "print(x)"
   ]
  },
  {
   "cell_type": "code",
   "execution_count": 28,
   "id": "cdfd6fb0",
   "metadata": {},
   "outputs": [
    {
     "name": "stdout",
     "output_type": "stream",
     "text": [
      "13\n"
     ]
    }
   ],
   "source": [
    "x=10\n",
    "print(x+3)"
   ]
  },
  {
   "cell_type": "code",
   "execution_count": 29,
   "id": "615377cb",
   "metadata": {},
   "outputs": [
    {
     "name": "stdout",
     "output_type": "stream",
     "text": [
      "5\n"
     ]
    }
   ],
   "source": [
    "x=10\n",
    "print(x-5)"
   ]
  },
  {
   "cell_type": "code",
   "execution_count": 30,
   "id": "65f62dfc",
   "metadata": {},
   "outputs": [
    {
     "name": "stdout",
     "output_type": "stream",
     "text": [
      "100\n"
     ]
    }
   ],
   "source": [
    "x=50\n",
    "print(x*2)"
   ]
  },
  {
   "cell_type": "code",
   "execution_count": 31,
   "id": "5696305f",
   "metadata": {},
   "outputs": [
    {
     "name": "stdout",
     "output_type": "stream",
     "text": [
      "10.0\n"
     ]
    }
   ],
   "source": [
    "x=40\n",
    "print(x/4)"
   ]
  },
  {
   "cell_type": "code",
   "execution_count": 32,
   "id": "de215c1f",
   "metadata": {},
   "outputs": [
    {
     "name": "stdout",
     "output_type": "stream",
     "text": [
      "2\n"
     ]
    }
   ],
   "source": [
    "x=14\n",
    "print(x%3)"
   ]
  },
  {
   "cell_type": "code",
   "execution_count": 34,
   "id": "991928f9",
   "metadata": {},
   "outputs": [
    {
     "name": "stdout",
     "output_type": "stream",
     "text": [
      "81\n"
     ]
    }
   ],
   "source": [
    "x=9\n",
    "print(x**2)"
   ]
  },
  {
   "cell_type": "markdown",
   "id": "373605fd",
   "metadata": {},
   "source": [
    "# MEMBERSHIP OPERATORS"
   ]
  },
  {
   "cell_type": "code",
   "execution_count": 37,
   "id": "458eae31",
   "metadata": {},
   "outputs": [
    {
     "name": "stdout",
     "output_type": "stream",
     "text": [
      "True\n"
     ]
    }
   ],
   "source": [
    "print(3 in [1,2,3,4,5])"
   ]
  },
  {
   "cell_type": "code",
   "execution_count": 38,
   "id": "b3143a3d",
   "metadata": {},
   "outputs": [
    {
     "name": "stdout",
     "output_type": "stream",
     "text": [
      "False\n"
     ]
    }
   ],
   "source": [
    "print(a in[\"hello\"])"
   ]
  },
  {
   "cell_type": "code",
   "execution_count": 42,
   "id": "4b746b37",
   "metadata": {},
   "outputs": [
    {
     "name": "stdout",
     "output_type": "stream",
     "text": [
      "True\n"
     ]
    }
   ],
   "source": [
    "print(\"age\" in {'name': 'John', 'age': 30})"
   ]
  },
  {
   "cell_type": "markdown",
   "id": "137c25ea",
   "metadata": {},
   "source": [
    "# PRECEDENCE AND ASSOCIATIVITY"
   ]
  },
  {
   "cell_type": "code",
   "execution_count": 44,
   "id": "f3c8c19c",
   "metadata": {},
   "outputs": [
    {
     "name": "stdout",
     "output_type": "stream",
     "text": [
      "11\n"
     ]
    }
   ],
   "source": [
    "a=5\n",
    "b=3\n",
    "c=2\n",
    "d=a+b*c\n",
    "print(d)"
   ]
  },
  {
   "cell_type": "code",
   "execution_count": 45,
   "id": "9c34a1f5",
   "metadata": {},
   "outputs": [
    {
     "name": "stdout",
     "output_type": "stream",
     "text": [
      "26\n"
     ]
    }
   ],
   "source": [
    "a=10\n",
    "b=3\n",
    "c=(a+b)*2\n",
    "print(c)"
   ]
  },
  {
   "cell_type": "code",
   "execution_count": 46,
   "id": "26b03975",
   "metadata": {},
   "outputs": [
    {
     "name": "stdout",
     "output_type": "stream",
     "text": [
      "11.5\n"
     ]
    }
   ],
   "source": [
    "a=10\n",
    "b=3\n",
    "c=a+b/2\n",
    "print(c)"
   ]
  },
  {
   "cell_type": "code",
   "execution_count": 47,
   "id": "fa00f212",
   "metadata": {},
   "outputs": [
    {
     "name": "stdout",
     "output_type": "stream",
     "text": [
      "6\n"
     ]
    }
   ],
   "source": [
    "a=8\n",
    "b=4\n",
    "c=a-b+2\n",
    "print(c)"
   ]
  },
  {
   "cell_type": "markdown",
   "id": "6112f21a",
   "metadata": {},
   "source": [
    "# CHAINING OPERATORS"
   ]
  },
  {
   "cell_type": "code",
   "execution_count": 6,
   "id": "15f09528",
   "metadata": {},
   "outputs": [
    {
     "name": "stdout",
     "output_type": "stream",
     "text": [
      "True\n"
     ]
    }
   ],
   "source": [
    "x=10\n",
    "print(5<x<15)"
   ]
  },
  {
   "cell_type": "code",
   "execution_count": 1,
   "id": "e111718a",
   "metadata": {},
   "outputs": [
    {
     "name": "stdout",
     "output_type": "stream",
     "text": [
      "False\n"
     ]
    }
   ],
   "source": [
    "x=10\n",
    "print(5<x<9)"
   ]
  },
  {
   "cell_type": "code",
   "execution_count": 7,
   "id": "9fb4f7fb",
   "metadata": {},
   "outputs": [
    {
     "name": "stdout",
     "output_type": "stream",
     "text": [
      "-2 = NEGATIVE NUMBER\n"
     ]
    }
   ],
   "source": [
    "x=-2\n",
    "if x>0:\n",
    "    print(x,\"=\",\"THE NUMBER IS POSITIVE\")\n",
    "else:\n",
    "    print(x,\"=\",\"NEGATIVE NUMBER\")"
   ]
  },
  {
   "cell_type": "code",
   "execution_count": 5,
   "id": "66e20ea6",
   "metadata": {},
   "outputs": [
    {
     "name": "stdout",
     "output_type": "stream",
     "text": [
      "2 = THE NUMBER IS POSITIVE\n"
     ]
    }
   ],
   "source": [
    "x=2\n",
    "if x>0:\n",
    "    print(x,\"=\",\"THE NUMBER IS POSITIVE\")\n",
    "else:\n",
    "    print(\"NEGATIVE NUMBER\")"
   ]
  },
  {
   "cell_type": "code",
   "execution_count": 14,
   "id": "1b880b03",
   "metadata": {},
   "outputs": [
    {
     "name": "stdout",
     "output_type": "stream",
     "text": [
      "6 = THE NUMBER IS EVEN\n"
     ]
    }
   ],
   "source": [
    "x=6\n",
    "if (x%2)==0:\n",
    "    print(x,\"=\",\"THE NUMBER IS EVEN\")\n",
    "else:\n",
    "    print(x,\"is\",\"ODD NUMBER\")"
   ]
  },
  {
   "cell_type": "code",
   "execution_count": 15,
   "id": "5a348277",
   "metadata": {},
   "outputs": [
    {
     "name": "stdout",
     "output_type": "stream",
     "text": [
      "7 = ODD NUMBER\n"
     ]
    }
   ],
   "source": [
    "x=7\n",
    "if (x%2)==0:\n",
    "    print(x,\"=\",\"THE NUMBER IS EVEN\")\n",
    "else:\n",
    "    print(x,\"=\",\"ODD NUMBER\")"
   ]
  },
  {
   "cell_type": "code",
   "execution_count": 30,
   "id": "c60fa56b",
   "metadata": {},
   "outputs": [
    {
     "name": "stdout",
     "output_type": "stream",
     "text": [
      "Enter a character: n\n",
      "True\n"
     ]
    }
   ],
   "source": [
    "def isLowerCharacter(ch):\n",
    "    if len(ch) != 1 :\n",
    "        return None\n",
    "    else :\n",
    "        return ch.islower()\n",
    " \n",
    "ch = input('Enter a character: ')\n",
    "print(isLowerCharacter(ch))\n"
   ]
  },
  {
   "cell_type": "code",
   "execution_count": 31,
   "id": "84f831fb",
   "metadata": {},
   "outputs": [
    {
     "name": "stdout",
     "output_type": "stream",
     "text": [
      "Enter a character: N\n",
      "False\n"
     ]
    }
   ],
   "source": [
    "def isLowerCharacter(ch):\n",
    "    if len(ch) != 1 :\n",
    "        return None\n",
    "    else :\n",
    "        return ch.islower()\n",
    " \n",
    "ch = input('Enter a character: ')\n",
    "print(isLowerCharacter(ch))"
   ]
  },
  {
   "cell_type": "code",
   "execution_count": 33,
   "id": "a89f9f27",
   "metadata": {},
   "outputs": [
    {
     "name": "stdout",
     "output_type": "stream",
     "text": [
      "Enter a character: a\n",
      "True\n"
     ]
    }
   ],
   "source": [
    "def isVowel(ch):\n",
    "    isVowel = False\n",
    "    if(ch == 'a' or ch == 'e' or ch == 'i' or ch == 'o' or ch == 'u'):\n",
    "        isVowel = True\n",
    "    elif(ch == 'A' or ch == 'E' or ch == 'I' or ch == 'O' or ch == 'U'):\n",
    "        isVowel = True\n",
    "    return isVowel\n",
    " \n",
    "ch = input(\"Enter a character: \")\n",
    "print(isVowel(ch))"
   ]
  },
  {
   "cell_type": "code",
   "execution_count": 34,
   "id": "a1d01fce",
   "metadata": {},
   "outputs": [
    {
     "name": "stdout",
     "output_type": "stream",
     "text": [
      "Enter a character: n\n",
      "False\n"
     ]
    }
   ],
   "source": [
    "ch = input(\"Enter a character: \")\n",
    "vowels = \"aeiouAEIOU\"\n",
    "isVowel = ch in vowels\n",
    "print(isVowel)"
   ]
  },
  {
   "cell_type": "markdown",
   "id": "e2a3378c",
   "metadata": {},
   "source": [
    "# TERNARY OPERATOR"
   ]
  },
  {
   "cell_type": "code",
   "execution_count": 44,
   "id": "8660d330",
   "metadata": {},
   "outputs": [
    {
     "name": "stdout",
     "output_type": "stream",
     "text": [
      "10\n"
     ]
    }
   ],
   "source": [
    "x = 10\n",
    "y= x+5\n",
    "if y == x+5:\n",
    "    print(x)\n",
    "else:\n",
    "    print(y)"
   ]
  },
  {
   "cell_type": "code",
   "execution_count": 46,
   "id": "e7504fa7",
   "metadata": {},
   "outputs": [
    {
     "name": "stdout",
     "output_type": "stream",
     "text": [
      "5\n"
     ]
    }
   ],
   "source": [
    "x = 10\n",
    "y= x+5\n",
    "if y == x+50:\n",
    "    print(x)\n",
    "else:\n",
    "    print(5)"
   ]
  },
  {
   "cell_type": "markdown",
   "id": "98318222",
   "metadata": {},
   "source": [
    "# OPERATOR PRECEDENCE"
   ]
  },
  {
   "cell_type": "markdown",
   "id": "a5917ae1",
   "metadata": {},
   "source": [
    "# Arithmetic operators have the highest precedence, followed by comparison operators, and then logical operators. This means that arithmetic operations are performed first, followed by comparison operations, and then logical operations. \n",
    "# For example, in the expression 5 + 3 * 4, the multiplication operation (3 * 4) will be performed first, followed by the addition operation (5 + 12). When multiple operators of the same type are used in an expression, the order of precedence determines which operation is performed first."
   ]
  },
  {
   "cell_type": "markdown",
   "id": "648250d2",
   "metadata": {},
   "source": []
  },
  {
   "cell_type": "markdown",
   "id": "f409894a",
   "metadata": {},
   "source": [
    "# OPERATOR OVERLOADING"
   ]
  },
  {
   "cell_type": "markdown",
   "id": "c386f37a",
   "metadata": {},
   "source": [
    "# Operator overloading in Python is the ability to redefine the behavior of an operator depending on the type of the operands. For example, the + operator can be used to add two numbers, concatenate two strings, or combine two lists."
   ]
  },
  {
   "cell_type": "code",
   "execution_count": 58,
   "id": "892d0aed",
   "metadata": {},
   "outputs": [
    {
     "name": "stdout",
     "output_type": "stream",
     "text": [
      "(1, 2, 3, 4)\n"
     ]
    }
   ],
   "source": [
    "f1 = (1, 2)\n",
    "f2 = (3, 4)\n",
    "f3 = f1 + f2\n",
    "print(f3)"
   ]
  },
  {
   "cell_type": "markdown",
   "id": "1379c6ff",
   "metadata": {},
   "source": []
  },
  {
   "cell_type": "markdown",
   "id": "ab253b2e",
   "metadata": {},
   "source": [
    "# COMBINING OPERATORS AND CONTROL FLOW"
   ]
  },
  {
   "cell_type": "code",
   "execution_count": 56,
   "id": "b232f064",
   "metadata": {},
   "outputs": [
    {
     "name": "stdout",
     "output_type": "stream",
     "text": [
      "Enter first number: 5\n",
      "Enter second number: 6\n",
      "Sum of two numbers is: 11\n"
     ]
    }
   ],
   "source": [
    "num1 = int(input(\"Enter first number: \"))\n",
    "num2 = int(input(\"Enter second number: \"))\n",
    "if num1 > 0 and num2 > 0:\n",
    "    print(\"Sum of two numbers is:\", num1 + num2)\n",
    "else:\n",
    "    print(\"Invalid input.\")"
   ]
  },
  {
   "cell_type": "code",
   "execution_count": 57,
   "id": "71325649",
   "metadata": {},
   "outputs": [
    {
     "name": "stdout",
     "output_type": "stream",
     "text": [
      "Enter first number: 56\n",
      "Enter second number: -43\n",
      "Invalid input.\n"
     ]
    }
   ],
   "source": [
    "num1 = int(input(\"Enter first number: \"))\n",
    "num2 = int(input(\"Enter second number: \"))\n",
    "if num1 > 0 and num2 > 0:\n",
    "    print(\"Sum of two numbers is:\", num1 + num2)\n",
    "else:\n",
    "    print(\"Invalid input.\")"
   ]
  },
  {
   "cell_type": "code",
   "execution_count": null,
   "id": "de194362",
   "metadata": {},
   "outputs": [],
   "source": []
  }
 ],
 "metadata": {
  "kernelspec": {
   "display_name": "Python 3 (ipykernel)",
   "language": "python",
   "name": "python3"
  },
  "language_info": {
   "codemirror_mode": {
    "name": "ipython",
    "version": 3
   },
   "file_extension": ".py",
   "mimetype": "text/x-python",
   "name": "python",
   "nbconvert_exporter": "python",
   "pygments_lexer": "ipython3",
   "version": "3.11.3"
  }
 },
 "nbformat": 4,
 "nbformat_minor": 5
}
