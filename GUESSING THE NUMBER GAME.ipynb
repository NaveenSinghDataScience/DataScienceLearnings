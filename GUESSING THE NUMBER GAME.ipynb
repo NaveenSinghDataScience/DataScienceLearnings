{
 "cells": [
  {
   "cell_type": "markdown",
   "id": "3d11abcb",
   "metadata": {},
   "source": [
    "# Here’s a Python program that implements a guessing game using a while loop :"
   ]
  },
  {
   "cell_type": "code",
   "execution_count": 5,
   "id": "755f7a9e",
   "metadata": {},
   "outputs": [
    {
     "name": "stdout",
     "output_type": "stream",
     "text": [
      "Enter your guess: 44\n",
      "COLD!\n",
      "Enter your guess: 22\n",
      "COLDER!\n",
      "Enter your guess: 50\n",
      "WARMER!\n",
      "Enter your guess: 52\n",
      "WARMER!\n",
      "Enter your guess: 55\n",
      "WARMER!\n",
      "Enter your guess: 60\n",
      "WARMER!\n",
      "Enter your guess: 66\n",
      "WARMER!\n",
      "Enter your guess: 70\n",
      "COLDER!\n",
      "Enter your guess: 67\n",
      "WARMER!\n",
      "Enter your guess: 68\n",
      "COLDER!\n",
      "Enter your guess: 56\n",
      "COLDER!\n",
      "Enter your guess: 69\n",
      "WARMER!\n",
      "Enter your guess: 56\n",
      "COLDER!\n",
      "Enter your guess: 65\n",
      "WARMER!\n",
      "Enter your guess: 64\n",
      "Congratulations! You've guessed correctly in 15 guesses.\n"
     ]
    }
   ],
   "source": [
    "import random\n",
    "\n",
    "# Generate a random integer from 1 to 100\n",
    "number = random.randint(1, 100)\n",
    "\n",
    "# Initialize the number of guesses\n",
    "guesses = 0\n",
    "\n",
    "# Initialize the previous guess\n",
    "prev_guess = None\n",
    "\n",
    "while True:\n",
    "    # Increment the number of guesses\n",
    "    guesses += 1\n",
    "    \n",
    "    # Get the player's guess\n",
    "    guess = int(input(\"Enter your guess: \"))\n",
    "    \n",
    "    # Check if the guess is out of bounds\n",
    "    if guess < 1 or guess > 100:\n",
    "        print(\"OUT OF BOUNDS\")\n",
    "        continue\n",
    "    \n",
    "    # Check if the player has won\n",
    "    if guess == number:\n",
    "        print(f\"Congratulations! You've guessed correctly in {guesses} guesses.\")\n",
    "        break\n",
    "    \n",
    "    # Check if this is the first turn\n",
    "    if prev_guess is None:\n",
    "        if abs(guess - number) <= 10:\n",
    "            print(\"WARM!\")\n",
    "        else:\n",
    "            print(\"COLD!\")\n",
    "    else:\n",
    "        # Check if the current guess is closer than the previous guess\n",
    "        if abs(guess - number) < abs(prev_guess - number):\n",
    "            print(\"WARMER!\")\n",
    "        else:\n",
    "            print(\"COLDER!\")\n",
    "    \n",
    "    # Update the previous guess\n",
    "    prev_guess = guess\n"
   ]
  },
  {
   "cell_type": "markdown",
   "id": "66be1d21",
   "metadata": {},
   "source": [
    "# In this code:\n",
    "\n",
    "## We first import the random module to generate a random integer from 1 to 100.\n",
    "## We initialize the number of guesses to 0 and the previous guess to None.\n",
    "## We use a while loop to repeatedly get the player’s guess and check it against the rules.\n",
    "## If the player’s guess is less than 1 or greater than 100, we print “OUT OF BOUNDS” and continue with the next iteration of the loop.\n",
    "## If the player’s guess is equal to the number, we print a congratulatory message and break out of the loop.\n",
    "## If this is the first turn, we check if the player’s guess is within 10 of the number and print “WARM!” or “COLD!” accordingly.\n",
    "## On all subsequent turns, we check if the current guess is closer to the number than the previous guess and print “WARMER!” or “COLDER!” accordingly.\n",
    "## Finally, we update the previous guess with the current guess.\n",
    "# This program implements all of your requirements. You can run it and play the guessing game. Have fun! "
   ]
  }
 ],
 "metadata": {
  "kernelspec": {
   "display_name": "Python 3 (ipykernel)",
   "language": "python",
   "name": "python3"
  },
  "language_info": {
   "codemirror_mode": {
    "name": "ipython",
    "version": 3
   },
   "file_extension": ".py",
   "mimetype": "text/x-python",
   "name": "python",
   "nbconvert_exporter": "python",
   "pygments_lexer": "ipython3",
   "version": "3.11.3"
  }
 },
 "nbformat": 4,
 "nbformat_minor": 5
}
